{
 "cells": [
  {
   "cell_type": "markdown",
   "id": "1a123d32",
   "metadata": {},
   "source": [
    "# Real Estate Project"
   ]
  },
  {
   "cell_type": "markdown",
   "id": "28325131",
   "metadata": {},
   "source": [
    "## Problem Statement : \n",
    "The objective of this project is to create a python file that could be used to find insights that could diffrentiate any two cities across India (from the scraped dataset), to determine which city is more feasible for future construction or investment purposes. "
   ]
  },
  {
   "cell_type": "markdown",
   "id": "4b3b9db0",
   "metadata": {},
   "source": [
    "# Data Collection"
   ]
  },
  {
   "cell_type": "code",
   "execution_count": 1,
   "id": "bf44d033",
   "metadata": {},
   "outputs": [],
   "source": [
    "#importing all the necessary libraries for the project\n",
    "\n",
    "import numpy as np\n",
    "import pandas as pd\n",
    "import matplotlib.pyplot as plt\n",
    "import seaborn as sns\n",
    "\n",
    "import requests\n",
    "from bs4 import BeautifulSoup\n",
    "from selenium import webdriver\n",
    "\n",
    "import itertools\n",
    "\n",
    "import warnings\n",
    "warnings.simplefilter(\"ignore\")\n",
    "\n",
    "from datetime import datetime\n",
    "from datetime import date\n",
    "\n",
    "import calendar\n",
    "\n",
    "import re\n",
    "\n",
    "import time\n",
    "\n",
    "from IPython.core.interactiveshell import InteractiveShell\n",
    "InteractiveShell.ast_node_interactivity = 'all'"
   ]
  },
  {
   "cell_type": "code",
   "execution_count": 2,
   "id": "9ad4c864",
   "metadata": {},
   "outputs": [
    {
     "name": "stdout",
     "output_type": "stream",
     "text": [
      "Location Chennai completed in 1.251075029373169 seconds\n",
      "Location Chennai completed in 1.7497761249542236 seconds\n",
      "Location Chennai completed in 1.4376130104064941 seconds\n",
      "Location Chennai completed in 1.0610549449920654 seconds\n",
      "Location Chennai completed in 1.2953307628631592 seconds\n",
      "Location Chennai completed in 1.5196788311004639 seconds\n",
      "Location Chennai completed in 1.3596370220184326 seconds\n",
      "Location Chennai completed in 1.284372091293335 seconds\n",
      "Location Chennai completed in 1.4255831241607666 seconds\n",
      "Location Chennai completed in 1.422928810119629 seconds\n",
      "Location Chennai completed in 1.1197710037231445 seconds\n",
      "Location Chennai completed in 1.0503830909729004 seconds\n",
      "Location Chennai completed in 0.9628500938415527 seconds\n",
      "Location Chennai completed in 1.1778340339660645 seconds\n",
      "Location Chennai completed in 1.0529720783233643 seconds\n",
      "Location Chennai completed in 1.1838347911834717 seconds\n",
      "Location Chennai completed in 0.9198260307312012 seconds\n",
      "Location Chennai completed in 0.9241650104522705 seconds\n",
      "Location Chennai completed in 2.9035542011260986 seconds\n",
      "Location Chennai completed in 0.965947151184082 seconds\n",
      "Location Mumbai completed in 1.5294411182403564 seconds\n",
      "Location Mumbai completed in 1.4575438499450684 seconds\n",
      "Location Mumbai completed in 1.5374648571014404 seconds\n",
      "Location Mumbai completed in 1.86696195602417 seconds\n",
      "Location Mumbai completed in 1.546198844909668 seconds\n",
      "Location Mumbai completed in 1.7918708324432373 seconds\n",
      "Location Mumbai completed in 1.4360928535461426 seconds\n",
      "Location Mumbai completed in 1.446087121963501 seconds\n",
      "Location Mumbai completed in 2.112916946411133 seconds\n",
      "Location Mumbai completed in 1.4970550537109375 seconds\n",
      "Location Mumbai completed in 1.1749789714813232 seconds\n",
      "Location Mumbai completed in 1.2130460739135742 seconds\n",
      "Location Mumbai completed in 1.075594425201416 seconds\n",
      "Location Mumbai completed in 0.8924369812011719 seconds\n",
      "Location Mumbai completed in 0.9606280326843262 seconds\n",
      "Location Mumbai completed in 0.9206850528717041 seconds\n",
      "Location Mumbai completed in 1.0907649993896484 seconds\n",
      "Location Mumbai completed in 0.9926350116729736 seconds\n",
      "Location Mumbai completed in 0.8953847885131836 seconds\n",
      "Location Mumbai completed in 1.5274381637573242 seconds\n"
     ]
    }
   ],
   "source": [
    "#Scraping data from magicbricks.com\n",
    "\n",
    "#Flat filter\n",
    "prototypeF = 'Multistorey-Apartment,Builder-Floor-Apartment,Penthouse,Studio-Apartment'\n",
    "#Villa/House/Studio filter\n",
    "prototypeV = 'Residential-House,Villa'\n",
    "\n",
    "#City filter\n",
    "City = ['Chennai','Mumbai']\n",
    "\n",
    "Type = [prototypeF,prototypeV]\n",
    "\n",
    "#creating list of tuples for every location and type of realestate\n",
    "City_Type = list(itertools.product(City, Type,range(1,11)))\n",
    "\n",
    "\n",
    "\n",
    "Details = []\n",
    "Price = []\n",
    "PriceperSqft = []\n",
    "loc = []\n",
    "bhk = []\n",
    "\n",
    "for x,y,z in City_Type:\n",
    "    start_time = time.time()\n",
    "    \n",
    "    url = 'https://www.magicbricks.com/property-for-sale/residential-real-estate?&proptype={}&cityName={}&page={}'.format(y,x,z)\n",
    "    page = requests.get(url)\n",
    "    pagecontent = page.text\n",
    "    soup = BeautifulSoup(pagecontent)\n",
    "    \n",
    "    #Scraping BHK data\n",
    "    BHK_data = soup.findAll('div',class_=\"m-srp-card__desc flex__item\")\n",
    "    \n",
    "    for i in BHK_data:\n",
    "        if i.find('div',class_=\"luxury-srp-card__pri-see\") != None:\n",
    "            continue\n",
    "        else:\n",
    "            bhk.append(i.find('div',class_=\"m-srp-card__heading clearfix\").text)\n",
    "    \n",
    "    #Scraping details of Realestate\n",
    "    RealEstate = soup.findAll('div', attrs = {'class': 'm-srp-card__summary js-collapse__content'})\n",
    "    \n",
    "    for i in RealEstate:\n",
    "        \n",
    "        RealEstate_info = i.findAll('div', attrs = {'class': 'm-srp-card__summary__info'})\n",
    "        f = []\n",
    "        for i in RealEstate_info:\n",
    "            f.append(i.text)\n",
    "        Details.append(f)\n",
    "        loc.append(x)\n",
    "    \n",
    "    #Scraping price details of the realestate\n",
    "    Price_Details = soup.findAll('div', attrs = {'class': 'm-srp-card__info flex__item'})\n",
    "    \n",
    "    for i in Price_Details:\n",
    "        \n",
    "        #Total Price\n",
    "        Cost = i.find('div', attrs = {'class': 'm-srp-card__price'}) \n",
    "        if Cost is None:\n",
    "            Price.append('')\n",
    "        else:\n",
    "            Price.append(Cost.text)\n",
    "            \n",
    "        #Price per Sqft\n",
    "        CostperSqft = i.find('div', attrs = {'class': 'm-srp-card__area'}) \n",
    "        if CostperSqft is None:\n",
    "            PriceperSqft.append('')\n",
    "        else:\n",
    "            PriceperSqft.append(CostperSqft.text)\n",
    "            \n",
    "        \n",
    "    end_time = time.time()\n",
    "    print('Location {} completed in {} seconds'.format(x, end_time - start_time))"
   ]
  },
  {
   "cell_type": "code",
   "execution_count": 3,
   "id": "ad8d5373",
   "metadata": {},
   "outputs": [
    {
     "data": {
      "text/html": [
       "<div>\n",
       "<style scoped>\n",
       "    .dataframe tbody tr th:only-of-type {\n",
       "        vertical-align: middle;\n",
       "    }\n",
       "\n",
       "    .dataframe tbody tr th {\n",
       "        vertical-align: top;\n",
       "    }\n",
       "\n",
       "    .dataframe thead th {\n",
       "        text-align: right;\n",
       "    }\n",
       "</style>\n",
       "<table border=\"1\" class=\"dataframe\">\n",
       "  <thead>\n",
       "    <tr style=\"text-align: right;\">\n",
       "      <th></th>\n",
       "      <th>Location</th>\n",
       "      <th>bhk_Type</th>\n",
       "      <th>Details</th>\n",
       "      <th>Price</th>\n",
       "      <th>PriceperSqrt</th>\n",
       "    </tr>\n",
       "  </thead>\n",
       "  <tbody>\n",
       "    <tr>\n",
       "      <th>0</th>\n",
       "      <td>Chennai</td>\n",
       "      <td>\\n\\n\\n\\n2 BHK Flat\\n\\nfor Sale\\nin Perambur\\n\\n\\n</td>\n",
       "      <td>[1100 sqft, \\nPossession by Dec '21\\n, New Pro...</td>\n",
       "      <td>₹ 90 Lac</td>\n",
       "      <td>₹ 8182 per sqft</td>\n",
       "    </tr>\n",
       "    <tr>\n",
       "      <th>1</th>\n",
       "      <td>Chennai</td>\n",
       "      <td>\\n\\n\\n\\n1 BHK Flat\\n\\nfor Sale\\nin Thirumazhis...</td>\n",
       "      <td>[544 sqft, \\nPossession by Dec '23\\n, New Prop...</td>\n",
       "      <td>₹ 29.7 Lac</td>\n",
       "      <td>₹ 5450 per sqft</td>\n",
       "    </tr>\n",
       "    <tr>\n",
       "      <th>2</th>\n",
       "      <td>Chennai</td>\n",
       "      <td>\\n\\n\\n\\n2 BHK Flat\\n\\nfor Sale\\nin Perumbakkam...</td>\n",
       "      <td>[796 sqft, \\nPossession by Sep '23\\n, New Prop...</td>\n",
       "      <td>₹ 28.6 Lac</td>\n",
       "      <td>₹ 3599 per sqft</td>\n",
       "    </tr>\n",
       "    <tr>\n",
       "      <th>3</th>\n",
       "      <td>Chennai</td>\n",
       "      <td>\\n\\n\\n\\n2 BHK Flat\\n\\nfor Sale\\nin Thalambur\\n...</td>\n",
       "      <td>[1026 sqft, \\nPossession by Mar '24\\n, New Pro...</td>\n",
       "      <td>₹ 48.5 Lac</td>\n",
       "      <td>₹ 4724 per sqft</td>\n",
       "    </tr>\n",
       "    <tr>\n",
       "      <th>4</th>\n",
       "      <td>Chennai</td>\n",
       "      <td>\\n\\n\\n\\n2 BHK Flat\\n\\nfor Sale\\nin Perungalath...</td>\n",
       "      <td>[903 sqft, \\nPossession by Jul '22\\n, New Prop...</td>\n",
       "      <td>₹ 44 Lac</td>\n",
       "      <td>₹ 4877 per sqft</td>\n",
       "    </tr>\n",
       "    <tr>\n",
       "      <th>...</th>\n",
       "      <td>...</td>\n",
       "      <td>...</td>\n",
       "      <td>...</td>\n",
       "      <td>...</td>\n",
       "      <td>...</td>\n",
       "    </tr>\n",
       "    <tr>\n",
       "      <th>819</th>\n",
       "      <td>Mumbai</td>\n",
       "      <td>\\n\\n\\n\\n1 BHK House\\n\\nfor Sale in\\nLink Road\\...</td>\n",
       "      <td>[150 sqft, Ready to Move, 1 out of 1 floor, Re...</td>\n",
       "      <td>₹ 27 Lac</td>\n",
       "      <td></td>\n",
       "    </tr>\n",
       "    <tr>\n",
       "      <th>820</th>\n",
       "      <td>Mumbai</td>\n",
       "      <td>\\n\\n\\n\\n2 BHK House\\n\\nfor Sale in\\nPANVEL\\n\\n\\n</td>\n",
       "      <td>[78 sqm, Ready to Move, 1 out of 5 floors, Res...</td>\n",
       "      <td>₹ 90 Lac</td>\n",
       "      <td></td>\n",
       "    </tr>\n",
       "    <tr>\n",
       "      <th>821</th>\n",
       "      <td>Mumbai</td>\n",
       "      <td>\\n\\n\\n\\n2 BHK House\\n\\nfor Sale in\\nNirmal Pol...</td>\n",
       "      <td>[778 sqft, Ready to Move, 2 out of 20 floors, ...</td>\n",
       "      <td>₹ 1.80 Cr</td>\n",
       "      <td></td>\n",
       "    </tr>\n",
       "    <tr>\n",
       "      <th>822</th>\n",
       "      <td>Mumbai</td>\n",
       "      <td>\\n\\n\\n\\n1 BHK House\\n\\nfor Sale in\\nGhatkopar ...</td>\n",
       "      <td>[10 sqft, Ready to Move, Resale, Freehold, Mai...</td>\n",
       "      <td>₹ 25 Lac</td>\n",
       "      <td></td>\n",
       "    </tr>\n",
       "    <tr>\n",
       "      <th>823</th>\n",
       "      <td>Mumbai</td>\n",
       "      <td>\\n\\n\\n\\n1 BHK House\\n\\nfor Sale in\\nMithul Enc...</td>\n",
       "      <td>[620 sqft, Ready to Move, 5 out of 7 floors, R...</td>\n",
       "      <td>₹ 85 Lac</td>\n",
       "      <td>₹ 13709 per sqft</td>\n",
       "    </tr>\n",
       "  </tbody>\n",
       "</table>\n",
       "<p>824 rows × 5 columns</p>\n",
       "</div>"
      ],
      "text/plain": [
       "    Location                                           bhk_Type  \\\n",
       "0    Chennai  \\n\\n\\n\\n2 BHK Flat\\n\\nfor Sale\\nin Perambur\\n\\n\\n   \n",
       "1    Chennai  \\n\\n\\n\\n1 BHK Flat\\n\\nfor Sale\\nin Thirumazhis...   \n",
       "2    Chennai  \\n\\n\\n\\n2 BHK Flat\\n\\nfor Sale\\nin Perumbakkam...   \n",
       "3    Chennai  \\n\\n\\n\\n2 BHK Flat\\n\\nfor Sale\\nin Thalambur\\n...   \n",
       "4    Chennai  \\n\\n\\n\\n2 BHK Flat\\n\\nfor Sale\\nin Perungalath...   \n",
       "..       ...                                                ...   \n",
       "819   Mumbai  \\n\\n\\n\\n1 BHK House\\n\\nfor Sale in\\nLink Road\\...   \n",
       "820   Mumbai   \\n\\n\\n\\n2 BHK House\\n\\nfor Sale in\\nPANVEL\\n\\n\\n   \n",
       "821   Mumbai  \\n\\n\\n\\n2 BHK House\\n\\nfor Sale in\\nNirmal Pol...   \n",
       "822   Mumbai  \\n\\n\\n\\n1 BHK House\\n\\nfor Sale in\\nGhatkopar ...   \n",
       "823   Mumbai  \\n\\n\\n\\n1 BHK House\\n\\nfor Sale in\\nMithul Enc...   \n",
       "\n",
       "                                               Details       Price  \\\n",
       "0    [1100 sqft, \\nPossession by Dec '21\\n, New Pro...    ₹ 90 Lac   \n",
       "1    [544 sqft, \\nPossession by Dec '23\\n, New Prop...  ₹ 29.7 Lac   \n",
       "2    [796 sqft, \\nPossession by Sep '23\\n, New Prop...  ₹ 28.6 Lac   \n",
       "3    [1026 sqft, \\nPossession by Mar '24\\n, New Pro...  ₹ 48.5 Lac   \n",
       "4    [903 sqft, \\nPossession by Jul '22\\n, New Prop...    ₹ 44 Lac   \n",
       "..                                                 ...         ...   \n",
       "819  [150 sqft, Ready to Move, 1 out of 1 floor, Re...    ₹ 27 Lac   \n",
       "820  [78 sqm, Ready to Move, 1 out of 5 floors, Res...    ₹ 90 Lac   \n",
       "821  [778 sqft, Ready to Move, 2 out of 20 floors, ...   ₹ 1.80 Cr   \n",
       "822  [10 sqft, Ready to Move, Resale, Freehold, Mai...    ₹ 25 Lac   \n",
       "823  [620 sqft, Ready to Move, 5 out of 7 floors, R...    ₹ 85 Lac   \n",
       "\n",
       "         PriceperSqrt  \n",
       "0     ₹ 8182 per sqft  \n",
       "1     ₹ 5450 per sqft  \n",
       "2     ₹ 3599 per sqft  \n",
       "3     ₹ 4724 per sqft  \n",
       "4     ₹ 4877 per sqft  \n",
       "..                ...  \n",
       "819                    \n",
       "820                    \n",
       "821                    \n",
       "822                    \n",
       "823  ₹ 13709 per sqft  \n",
       "\n",
       "[824 rows x 5 columns]"
      ]
     },
     "execution_count": 3,
     "metadata": {},
     "output_type": "execute_result"
    }
   ],
   "source": [
    "#creating dataframe of scraped data\n",
    "REs = pd.DataFrame({'Location':loc,'bhk_Type':bhk,'Details':Details,'Price':Price,'PriceperSqrt':PriceperSqft})\n",
    "REs"
   ]
  },
  {
   "cell_type": "code",
   "execution_count": 4,
   "id": "94d6fe66",
   "metadata": {},
   "outputs": [
    {
     "name": "stdout",
     "output_type": "stream",
     "text": [
      "824\n",
      "824\n",
      "824\n",
      "824\n",
      "824\n"
     ]
    }
   ],
   "source": [
    "print(len(Details))\n",
    "print(len(Price))\n",
    "print(len(PriceperSqft))\n",
    "print(len(loc))\n",
    "print(len(bhk))"
   ]
  },
  {
   "cell_type": "code",
   "execution_count": 5,
   "id": "3f332018",
   "metadata": {},
   "outputs": [
    {
     "data": {
      "text/html": [
       "<div>\n",
       "<style scoped>\n",
       "    .dataframe tbody tr th:only-of-type {\n",
       "        vertical-align: middle;\n",
       "    }\n",
       "\n",
       "    .dataframe tbody tr th {\n",
       "        vertical-align: top;\n",
       "    }\n",
       "\n",
       "    .dataframe thead th {\n",
       "        text-align: right;\n",
       "    }\n",
       "</style>\n",
       "<table border=\"1\" class=\"dataframe\">\n",
       "  <thead>\n",
       "    <tr style=\"text-align: right;\">\n",
       "      <th></th>\n",
       "      <th>Location</th>\n",
       "      <th>bhk_Type</th>\n",
       "      <th>Details</th>\n",
       "      <th>Price</th>\n",
       "      <th>PriceperSqrt</th>\n",
       "    </tr>\n",
       "  </thead>\n",
       "  <tbody>\n",
       "    <tr>\n",
       "      <th>0</th>\n",
       "      <td>Chennai</td>\n",
       "      <td>\\n\\n\\n\\n2 BHK Flat\\n\\nfor Sale\\nin Perambur\\n\\n\\n</td>\n",
       "      <td>1100 sqft,\\nPossession by Dec '21\\n,New Proper...</td>\n",
       "      <td>₹ 90 Lac</td>\n",
       "      <td>₹ 8182 per sqft</td>\n",
       "    </tr>\n",
       "    <tr>\n",
       "      <th>1</th>\n",
       "      <td>Chennai</td>\n",
       "      <td>\\n\\n\\n\\n1 BHK Flat\\n\\nfor Sale\\nin Thirumazhis...</td>\n",
       "      <td>544 sqft,\\nPossession by Dec '23\\n,New Propert...</td>\n",
       "      <td>₹ 29.7 Lac</td>\n",
       "      <td>₹ 5450 per sqft</td>\n",
       "    </tr>\n",
       "    <tr>\n",
       "      <th>2</th>\n",
       "      <td>Chennai</td>\n",
       "      <td>\\n\\n\\n\\n2 BHK Flat\\n\\nfor Sale\\nin Perumbakkam...</td>\n",
       "      <td>796 sqft,\\nPossession by Sep '23\\n,New Propert...</td>\n",
       "      <td>₹ 28.6 Lac</td>\n",
       "      <td>₹ 3599 per sqft</td>\n",
       "    </tr>\n",
       "    <tr>\n",
       "      <th>3</th>\n",
       "      <td>Chennai</td>\n",
       "      <td>\\n\\n\\n\\n2 BHK Flat\\n\\nfor Sale\\nin Thalambur\\n...</td>\n",
       "      <td>1026 sqft,\\nPossession by Mar '24\\n,New Proper...</td>\n",
       "      <td>₹ 48.5 Lac</td>\n",
       "      <td>₹ 4724 per sqft</td>\n",
       "    </tr>\n",
       "    <tr>\n",
       "      <th>4</th>\n",
       "      <td>Chennai</td>\n",
       "      <td>\\n\\n\\n\\n2 BHK Flat\\n\\nfor Sale\\nin Perungalath...</td>\n",
       "      <td>903 sqft,\\nPossession by Jul '22\\n,New Propert...</td>\n",
       "      <td>₹ 44 Lac</td>\n",
       "      <td>₹ 4877 per sqft</td>\n",
       "    </tr>\n",
       "  </tbody>\n",
       "</table>\n",
       "</div>"
      ],
      "text/plain": [
       "  Location                                           bhk_Type  \\\n",
       "0  Chennai  \\n\\n\\n\\n2 BHK Flat\\n\\nfor Sale\\nin Perambur\\n\\n\\n   \n",
       "1  Chennai  \\n\\n\\n\\n1 BHK Flat\\n\\nfor Sale\\nin Thirumazhis...   \n",
       "2  Chennai  \\n\\n\\n\\n2 BHK Flat\\n\\nfor Sale\\nin Perumbakkam...   \n",
       "3  Chennai  \\n\\n\\n\\n2 BHK Flat\\n\\nfor Sale\\nin Thalambur\\n...   \n",
       "4  Chennai  \\n\\n\\n\\n2 BHK Flat\\n\\nfor Sale\\nin Perungalath...   \n",
       "\n",
       "                                             Details       Price  \\\n",
       "0  1100 sqft,\\nPossession by Dec '21\\n,New Proper...    ₹ 90 Lac   \n",
       "1  544 sqft,\\nPossession by Dec '23\\n,New Propert...  ₹ 29.7 Lac   \n",
       "2  796 sqft,\\nPossession by Sep '23\\n,New Propert...  ₹ 28.6 Lac   \n",
       "3  1026 sqft,\\nPossession by Mar '24\\n,New Proper...  ₹ 48.5 Lac   \n",
       "4  903 sqft,\\nPossession by Jul '22\\n,New Propert...    ₹ 44 Lac   \n",
       "\n",
       "      PriceperSqrt  \n",
       "0  ₹ 8182 per sqft  \n",
       "1  ₹ 5450 per sqft  \n",
       "2  ₹ 3599 per sqft  \n",
       "3  ₹ 4724 per sqft  \n",
       "4  ₹ 4877 per sqft  "
      ]
     },
     "execution_count": 5,
     "metadata": {},
     "output_type": "execute_result"
    }
   ],
   "source": [
    "#Converting list to string\n",
    "REs.Details = REs.Details.apply(lambda x : ','.join(x))\n",
    "REs.head()"
   ]
  },
  {
   "cell_type": "code",
   "execution_count": 6,
   "id": "abe3c050",
   "metadata": {},
   "outputs": [],
   "source": [
    "#Removing unnecessary characters from string\n",
    "REs.bhk_Type = REs.bhk_Type.str.replace('\\n','')"
   ]
  },
  {
   "cell_type": "code",
   "execution_count": 7,
   "id": "b0c6609d",
   "metadata": {},
   "outputs": [
    {
     "data": {
      "text/html": [
       "<div>\n",
       "<style scoped>\n",
       "    .dataframe tbody tr th:only-of-type {\n",
       "        vertical-align: middle;\n",
       "    }\n",
       "\n",
       "    .dataframe tbody tr th {\n",
       "        vertical-align: top;\n",
       "    }\n",
       "\n",
       "    .dataframe thead th {\n",
       "        text-align: right;\n",
       "    }\n",
       "</style>\n",
       "<table border=\"1\" class=\"dataframe\">\n",
       "  <thead>\n",
       "    <tr style=\"text-align: right;\">\n",
       "      <th></th>\n",
       "      <th>Location</th>\n",
       "      <th>bhk_Type</th>\n",
       "      <th>Details</th>\n",
       "      <th>Price</th>\n",
       "      <th>PriceperSqrt</th>\n",
       "      <th>Sqft</th>\n",
       "      <th>Status</th>\n",
       "      <th>Furnish</th>\n",
       "      <th>Car_Park</th>\n",
       "      <th>Bathroom</th>\n",
       "      <th>Transaction</th>\n",
       "      <th>BHK</th>\n",
       "      <th>Type</th>\n",
       "      <th>Area</th>\n",
       "    </tr>\n",
       "  </thead>\n",
       "  <tbody>\n",
       "    <tr>\n",
       "      <th>0</th>\n",
       "      <td>Chennai</td>\n",
       "      <td>2 BHK Flatfor Salein Perambur</td>\n",
       "      <td>1100 sqft,\\nPossession by Dec '21\\n,New Proper...</td>\n",
       "      <td>₹ 90 Lac</td>\n",
       "      <td>₹ 8182 per sqft</td>\n",
       "      <td>[1100 sqft]</td>\n",
       "      <td>[Possession by Dec '21]</td>\n",
       "      <td>[Unfurnish]</td>\n",
       "      <td>[1 Covered]</td>\n",
       "      <td>[2]</td>\n",
       "      <td>[New Property]</td>\n",
       "      <td>[2 BHK]</td>\n",
       "      <td>[Flat]</td>\n",
       "      <td>Perambur</td>\n",
       "    </tr>\n",
       "    <tr>\n",
       "      <th>1</th>\n",
       "      <td>Chennai</td>\n",
       "      <td>1 BHK Flatfor Salein Thirumazhisai</td>\n",
       "      <td>544 sqft,\\nPossession by Dec '23\\n,New Propert...</td>\n",
       "      <td>₹ 29.7 Lac</td>\n",
       "      <td>₹ 5450 per sqft</td>\n",
       "      <td>[544 sqft]</td>\n",
       "      <td>[Possession by Dec '23]</td>\n",
       "      <td>[Unfurnish]</td>\n",
       "      <td>[1 Covered]</td>\n",
       "      <td>[1]</td>\n",
       "      <td>[New Property]</td>\n",
       "      <td>[1 BHK]</td>\n",
       "      <td>[Flat]</td>\n",
       "      <td>Thirumazhisai</td>\n",
       "    </tr>\n",
       "    <tr>\n",
       "      <th>2</th>\n",
       "      <td>Chennai</td>\n",
       "      <td>2 BHK Flatfor Salein Perumbakkam</td>\n",
       "      <td>796 sqft,\\nPossession by Sep '23\\n,New Propert...</td>\n",
       "      <td>₹ 28.6 Lac</td>\n",
       "      <td>₹ 3599 per sqft</td>\n",
       "      <td>[796 sqft]</td>\n",
       "      <td>[Possession by Sep '23]</td>\n",
       "      <td>[]</td>\n",
       "      <td>[]</td>\n",
       "      <td>[2]</td>\n",
       "      <td>[New Property]</td>\n",
       "      <td>[2 BHK]</td>\n",
       "      <td>[Flat]</td>\n",
       "      <td>Perumbakkam</td>\n",
       "    </tr>\n",
       "    <tr>\n",
       "      <th>3</th>\n",
       "      <td>Chennai</td>\n",
       "      <td>2 BHK Flatfor Salein Thalambur</td>\n",
       "      <td>1026 sqft,\\nPossession by Mar '24\\n,New Proper...</td>\n",
       "      <td>₹ 48.5 Lac</td>\n",
       "      <td>₹ 4724 per sqft</td>\n",
       "      <td>[1026 sqft]</td>\n",
       "      <td>[Possession by Mar '24]</td>\n",
       "      <td>[Unfurnish]</td>\n",
       "      <td>[]</td>\n",
       "      <td>[2]</td>\n",
       "      <td>[New Property]</td>\n",
       "      <td>[2 BHK]</td>\n",
       "      <td>[Flat]</td>\n",
       "      <td>Thalambur</td>\n",
       "    </tr>\n",
       "    <tr>\n",
       "      <th>4</th>\n",
       "      <td>Chennai</td>\n",
       "      <td>2 BHK Flatfor Salein Perungalathur, Chennai By...</td>\n",
       "      <td>903 sqft,\\nPossession by Jul '22\\n,New Propert...</td>\n",
       "      <td>₹ 44 Lac</td>\n",
       "      <td>₹ 4877 per sqft</td>\n",
       "      <td>[903 sqft]</td>\n",
       "      <td>[Possession by Jul '22]</td>\n",
       "      <td>[Unfurnish]</td>\n",
       "      <td>[1 Covered]</td>\n",
       "      <td>[2]</td>\n",
       "      <td>[New Property]</td>\n",
       "      <td>[2 BHK]</td>\n",
       "      <td>[Flat]</td>\n",
       "      <td>Perungalathur Chennai Bypass Road</td>\n",
       "    </tr>\n",
       "    <tr>\n",
       "      <th>5</th>\n",
       "      <td>Chennai</td>\n",
       "      <td>3 BHK Flatfor Salein Sembakkam</td>\n",
       "      <td>1550 sqft,\\nPossession by Jul '22\\n,New Proper...</td>\n",
       "      <td>₹ 1.04 Cr</td>\n",
       "      <td>₹ 6749 per sqft</td>\n",
       "      <td>[1550 sqft]</td>\n",
       "      <td>[Possession by Jul '22]</td>\n",
       "      <td>[Unfurnish]</td>\n",
       "      <td>[]</td>\n",
       "      <td>[3]</td>\n",
       "      <td>[New Property]</td>\n",
       "      <td>[3 BHK]</td>\n",
       "      <td>[Flat]</td>\n",
       "      <td>Sembakkam</td>\n",
       "    </tr>\n",
       "    <tr>\n",
       "      <th>6</th>\n",
       "      <td>Chennai</td>\n",
       "      <td>2 BHK Flatfor Salein G S T Road</td>\n",
       "      <td>1455 sqft,\\nPossession by Dec '21\\n,New Proper...</td>\n",
       "      <td>₹ 78.7 Lac</td>\n",
       "      <td>₹ 5407 per sqft</td>\n",
       "      <td>[1455 sqft]</td>\n",
       "      <td>[Possession by Dec '21]</td>\n",
       "      <td>[Unfurnish]</td>\n",
       "      <td>[1 Covered]</td>\n",
       "      <td>[2]</td>\n",
       "      <td>[New Property]</td>\n",
       "      <td>[2 BHK]</td>\n",
       "      <td>[Flat]</td>\n",
       "      <td>G S T Road</td>\n",
       "    </tr>\n",
       "    <tr>\n",
       "      <th>7</th>\n",
       "      <td>Chennai</td>\n",
       "      <td>2 BHK Flatfor Salein Tambaram East</td>\n",
       "      <td>1004 sqft,\\nPossession by Sep '22\\n,New Proper...</td>\n",
       "      <td>₹ 71.3 Lac</td>\n",
       "      <td>₹ 7100 per sqft</td>\n",
       "      <td>[1004 sqft]</td>\n",
       "      <td>[Possession by Sep '22]</td>\n",
       "      <td>[Unfurnish]</td>\n",
       "      <td>[1 Covered]</td>\n",
       "      <td>[2]</td>\n",
       "      <td>[New Property]</td>\n",
       "      <td>[2 BHK]</td>\n",
       "      <td>[Flat]</td>\n",
       "      <td>Tambaram East</td>\n",
       "    </tr>\n",
       "    <tr>\n",
       "      <th>8</th>\n",
       "      <td>Chennai</td>\n",
       "      <td>3 BHK Flatfor Salein Medavakkam</td>\n",
       "      <td>1280 sqft,\\nPossession by Nov '22\\n,New Proper...</td>\n",
       "      <td>₹ 90.2 Lac</td>\n",
       "      <td>₹ 7049 per sqft</td>\n",
       "      <td>[1280 sqft]</td>\n",
       "      <td>[Possession by Nov '22]</td>\n",
       "      <td>[Unfurnish]</td>\n",
       "      <td>[1 Covered]</td>\n",
       "      <td>[2]</td>\n",
       "      <td>[New Property]</td>\n",
       "      <td>[3 BHK]</td>\n",
       "      <td>[Flat]</td>\n",
       "      <td>Medavakkam</td>\n",
       "    </tr>\n",
       "    <tr>\n",
       "      <th>9</th>\n",
       "      <td>Chennai</td>\n",
       "      <td>3 BHK Flatfor Salein Padur, Old Mahabalipuram ...</td>\n",
       "      <td>918 sqft,\\nPossession by Mar '23\\n,New Propert...</td>\n",
       "      <td>₹ 44.6 Lac</td>\n",
       "      <td>₹ 4855 per sqft</td>\n",
       "      <td>[918 sqft]</td>\n",
       "      <td>[Possession by Mar '23]</td>\n",
       "      <td>[Unfurnish]</td>\n",
       "      <td>[]</td>\n",
       "      <td>[2]</td>\n",
       "      <td>[New Property]</td>\n",
       "      <td>[3 BHK]</td>\n",
       "      <td>[Flat]</td>\n",
       "      <td>Padur Old Mahabalipuram Road</td>\n",
       "    </tr>\n",
       "  </tbody>\n",
       "</table>\n",
       "</div>"
      ],
      "text/plain": [
       "  Location                                           bhk_Type  \\\n",
       "0  Chennai                      2 BHK Flatfor Salein Perambur   \n",
       "1  Chennai                 1 BHK Flatfor Salein Thirumazhisai   \n",
       "2  Chennai                   2 BHK Flatfor Salein Perumbakkam   \n",
       "3  Chennai                     2 BHK Flatfor Salein Thalambur   \n",
       "4  Chennai  2 BHK Flatfor Salein Perungalathur, Chennai By...   \n",
       "5  Chennai                     3 BHK Flatfor Salein Sembakkam   \n",
       "6  Chennai                    2 BHK Flatfor Salein G S T Road   \n",
       "7  Chennai                 2 BHK Flatfor Salein Tambaram East   \n",
       "8  Chennai                    3 BHK Flatfor Salein Medavakkam   \n",
       "9  Chennai  3 BHK Flatfor Salein Padur, Old Mahabalipuram ...   \n",
       "\n",
       "                                             Details       Price  \\\n",
       "0  1100 sqft,\\nPossession by Dec '21\\n,New Proper...    ₹ 90 Lac   \n",
       "1  544 sqft,\\nPossession by Dec '23\\n,New Propert...  ₹ 29.7 Lac   \n",
       "2  796 sqft,\\nPossession by Sep '23\\n,New Propert...  ₹ 28.6 Lac   \n",
       "3  1026 sqft,\\nPossession by Mar '24\\n,New Proper...  ₹ 48.5 Lac   \n",
       "4  903 sqft,\\nPossession by Jul '22\\n,New Propert...    ₹ 44 Lac   \n",
       "5  1550 sqft,\\nPossession by Jul '22\\n,New Proper...   ₹ 1.04 Cr   \n",
       "6  1455 sqft,\\nPossession by Dec '21\\n,New Proper...  ₹ 78.7 Lac   \n",
       "7  1004 sqft,\\nPossession by Sep '22\\n,New Proper...  ₹ 71.3 Lac   \n",
       "8  1280 sqft,\\nPossession by Nov '22\\n,New Proper...  ₹ 90.2 Lac   \n",
       "9  918 sqft,\\nPossession by Mar '23\\n,New Propert...  ₹ 44.6 Lac   \n",
       "\n",
       "      PriceperSqrt         Sqft                   Status      Furnish  \\\n",
       "0  ₹ 8182 per sqft  [1100 sqft]  [Possession by Dec '21]  [Unfurnish]   \n",
       "1  ₹ 5450 per sqft   [544 sqft]  [Possession by Dec '23]  [Unfurnish]   \n",
       "2  ₹ 3599 per sqft   [796 sqft]  [Possession by Sep '23]           []   \n",
       "3  ₹ 4724 per sqft  [1026 sqft]  [Possession by Mar '24]  [Unfurnish]   \n",
       "4  ₹ 4877 per sqft   [903 sqft]  [Possession by Jul '22]  [Unfurnish]   \n",
       "5  ₹ 6749 per sqft  [1550 sqft]  [Possession by Jul '22]  [Unfurnish]   \n",
       "6  ₹ 5407 per sqft  [1455 sqft]  [Possession by Dec '21]  [Unfurnish]   \n",
       "7  ₹ 7100 per sqft  [1004 sqft]  [Possession by Sep '22]  [Unfurnish]   \n",
       "8  ₹ 7049 per sqft  [1280 sqft]  [Possession by Nov '22]  [Unfurnish]   \n",
       "9  ₹ 4855 per sqft   [918 sqft]  [Possession by Mar '23]  [Unfurnish]   \n",
       "\n",
       "      Car_Park Bathroom     Transaction      BHK    Type  \\\n",
       "0  [1 Covered]      [2]  [New Property]  [2 BHK]  [Flat]   \n",
       "1  [1 Covered]      [1]  [New Property]  [1 BHK]  [Flat]   \n",
       "2           []      [2]  [New Property]  [2 BHK]  [Flat]   \n",
       "3           []      [2]  [New Property]  [2 BHK]  [Flat]   \n",
       "4  [1 Covered]      [2]  [New Property]  [2 BHK]  [Flat]   \n",
       "5           []      [3]  [New Property]  [3 BHK]  [Flat]   \n",
       "6  [1 Covered]      [2]  [New Property]  [2 BHK]  [Flat]   \n",
       "7  [1 Covered]      [2]  [New Property]  [2 BHK]  [Flat]   \n",
       "8  [1 Covered]      [2]  [New Property]  [3 BHK]  [Flat]   \n",
       "9           []      [2]  [New Property]  [3 BHK]  [Flat]   \n",
       "\n",
       "                                Area  \n",
       "0                           Perambur  \n",
       "1                      Thirumazhisai  \n",
       "2                        Perumbakkam  \n",
       "3                          Thalambur  \n",
       "4  Perungalathur Chennai Bypass Road  \n",
       "5                          Sembakkam  \n",
       "6                         G S T Road  \n",
       "7                      Tambaram East  \n",
       "8                         Medavakkam  \n",
       "9       Padur Old Mahabalipuram Road  "
      ]
     },
     "execution_count": 7,
     "metadata": {},
     "output_type": "execute_result"
    }
   ],
   "source": [
    "# Creating data columns from the scraped data\n",
    "\n",
    "#Sqft data extraction\n",
    "Sqft_regex = re.compile(r'[0-9\\s]+sqft')\n",
    "REs['Sqft'] = REs.Details.apply(lambda x : Sqft_regex.findall(x))\n",
    "\n",
    "#Status data extraction\n",
    "status_regex = re.compile(r'Possession[\\s\\w]+\\W\\d{2}')\n",
    "REs['Status'] = REs.Details.apply(lambda x : status_regex.findall(x))\n",
    "\n",
    "#Furnish Type data extraction\n",
    "furnish_regex = re.compile(r'[\\w]+furnish')\n",
    "REs['Furnish'] = REs.Details.apply(lambda x : furnish_regex.findall(x))\n",
    "\n",
    "#Covered Carpark data extraction\n",
    "carpark_regex = re.compile(r'[\\w\\s]+Covered')\n",
    "REs['Car_Park'] = REs.Details.apply(lambda x : carpark_regex.findall(x))\n",
    "\n",
    "#No of Bathrooms data extraction\n",
    "bathroom_regex = re.compile(r'\\d$')\n",
    "REs['Bathroom'] = REs.Details.apply(lambda x : bathroom_regex.findall(x))\n",
    "\n",
    "#Transaction date data extraction\n",
    "transaction_regex = re.compile(r'[\\w\\s]+Property')\n",
    "REs['Transaction'] = REs.Details.apply(lambda x : transaction_regex.findall(x))\n",
    "\n",
    "#No of BHK data extraction\n",
    "bhk_regex = re.compile(r'\\d{1,2}\\s+BHK')\n",
    "REs['BHK'] = REs.bhk_Type.apply(lambda x : bhk_regex.findall(x))\n",
    "\n",
    "#Type of the real estate\n",
    "type_regex = re.compile(r'(Flat|Villa)')\n",
    "REs['Type'] = REs.bhk_Type.apply(lambda x : type_regex.findall(x))\n",
    "\n",
    "#Location of the data\n",
    "area_regex = re.compile(r'[^\\W]+')\n",
    "REs['Area'] = REs.bhk_Type.apply(lambda x : ' '.join(area_regex.findall(x)[4:]))\n",
    "\n",
    "\n",
    "REs.head(10)"
   ]
  },
  {
   "cell_type": "code",
   "execution_count": 8,
   "id": "2903987a",
   "metadata": {},
   "outputs": [],
   "source": [
    "#Converting list to strings\n",
    "REs.Sqft = REs.Sqft.apply(lambda x:''.join(x) if len(x)!=0 else '')\n",
    "REs.Transaction = REs.Transaction.apply(lambda x:''.join(x) if len(x)!=0 else 'Old Property')\n",
    "REs.Furnish = REs.Furnish.apply(lambda x:''.join(x) if len(x)!=0 else 'Furnish')\n",
    "REs.Bathroom = REs.Bathroom.apply(lambda x:''.join(x))\n",
    "REs.Car_Park = REs.Car_Park.apply(lambda x:''.join(x))\n",
    "REs.Status = REs.Status.apply(lambda x:''.join(x) if len(x)!=0 else 'Ready to Move')\n",
    "REs.BHK = REs.BHK.apply(lambda x: ''.join(x) if len(x)!=0 else '0 BHK')\n",
    "REs.Type = REs.Type.apply(lambda x: ''.join(x))\n",
    "REs.Area = REs.Area.apply(lambda x: x if len(x)!=0 else 'Unknown')"
   ]
  },
  {
   "cell_type": "code",
   "execution_count": 9,
   "id": "b3f4a41c",
   "metadata": {},
   "outputs": [
    {
     "data": {
      "text/html": [
       "<div>\n",
       "<style scoped>\n",
       "    .dataframe tbody tr th:only-of-type {\n",
       "        vertical-align: middle;\n",
       "    }\n",
       "\n",
       "    .dataframe tbody tr th {\n",
       "        vertical-align: top;\n",
       "    }\n",
       "\n",
       "    .dataframe thead th {\n",
       "        text-align: right;\n",
       "    }\n",
       "</style>\n",
       "<table border=\"1\" class=\"dataframe\">\n",
       "  <thead>\n",
       "    <tr style=\"text-align: right;\">\n",
       "      <th></th>\n",
       "      <th>Location</th>\n",
       "      <th>Area</th>\n",
       "      <th>Type</th>\n",
       "      <th>BHK</th>\n",
       "      <th>Sqft</th>\n",
       "      <th>Furnish</th>\n",
       "      <th>Car_Park</th>\n",
       "      <th>Bathroom</th>\n",
       "      <th>Transaction</th>\n",
       "      <th>Status</th>\n",
       "      <th>PriceperSqrt</th>\n",
       "      <th>Price</th>\n",
       "    </tr>\n",
       "  </thead>\n",
       "  <tbody>\n",
       "    <tr>\n",
       "      <th>0</th>\n",
       "      <td>Chennai</td>\n",
       "      <td>Perambur</td>\n",
       "      <td>Flat</td>\n",
       "      <td>2 BHK</td>\n",
       "      <td>1100 sqft</td>\n",
       "      <td>Unfurnish</td>\n",
       "      <td>1 Covered</td>\n",
       "      <td>2</td>\n",
       "      <td>New Property</td>\n",
       "      <td>Possession by Dec '21</td>\n",
       "      <td>₹ 8182 per sqft</td>\n",
       "      <td>₹ 90 Lac</td>\n",
       "    </tr>\n",
       "    <tr>\n",
       "      <th>1</th>\n",
       "      <td>Chennai</td>\n",
       "      <td>Thirumazhisai</td>\n",
       "      <td>Flat</td>\n",
       "      <td>1 BHK</td>\n",
       "      <td>544 sqft</td>\n",
       "      <td>Unfurnish</td>\n",
       "      <td>1 Covered</td>\n",
       "      <td>1</td>\n",
       "      <td>New Property</td>\n",
       "      <td>Possession by Dec '23</td>\n",
       "      <td>₹ 5450 per sqft</td>\n",
       "      <td>₹ 29.7 Lac</td>\n",
       "    </tr>\n",
       "    <tr>\n",
       "      <th>2</th>\n",
       "      <td>Chennai</td>\n",
       "      <td>Perumbakkam</td>\n",
       "      <td>Flat</td>\n",
       "      <td>2 BHK</td>\n",
       "      <td>796 sqft</td>\n",
       "      <td>Furnish</td>\n",
       "      <td></td>\n",
       "      <td>2</td>\n",
       "      <td>New Property</td>\n",
       "      <td>Possession by Sep '23</td>\n",
       "      <td>₹ 3599 per sqft</td>\n",
       "      <td>₹ 28.6 Lac</td>\n",
       "    </tr>\n",
       "    <tr>\n",
       "      <th>3</th>\n",
       "      <td>Chennai</td>\n",
       "      <td>Thalambur</td>\n",
       "      <td>Flat</td>\n",
       "      <td>2 BHK</td>\n",
       "      <td>1026 sqft</td>\n",
       "      <td>Unfurnish</td>\n",
       "      <td></td>\n",
       "      <td>2</td>\n",
       "      <td>New Property</td>\n",
       "      <td>Possession by Mar '24</td>\n",
       "      <td>₹ 4724 per sqft</td>\n",
       "      <td>₹ 48.5 Lac</td>\n",
       "    </tr>\n",
       "    <tr>\n",
       "      <th>4</th>\n",
       "      <td>Chennai</td>\n",
       "      <td>Perungalathur Chennai Bypass Road</td>\n",
       "      <td>Flat</td>\n",
       "      <td>2 BHK</td>\n",
       "      <td>903 sqft</td>\n",
       "      <td>Unfurnish</td>\n",
       "      <td>1 Covered</td>\n",
       "      <td>2</td>\n",
       "      <td>New Property</td>\n",
       "      <td>Possession by Jul '22</td>\n",
       "      <td>₹ 4877 per sqft</td>\n",
       "      <td>₹ 44 Lac</td>\n",
       "    </tr>\n",
       "    <tr>\n",
       "      <th>...</th>\n",
       "      <td>...</td>\n",
       "      <td>...</td>\n",
       "      <td>...</td>\n",
       "      <td>...</td>\n",
       "      <td>...</td>\n",
       "      <td>...</td>\n",
       "      <td>...</td>\n",
       "      <td>...</td>\n",
       "      <td>...</td>\n",
       "      <td>...</td>\n",
       "      <td>...</td>\n",
       "      <td>...</td>\n",
       "    </tr>\n",
       "    <tr>\n",
       "      <th>819</th>\n",
       "      <td>Mumbai</td>\n",
       "      <td>inLink Road</td>\n",
       "      <td></td>\n",
       "      <td>1 BHK</td>\n",
       "      <td>150 sqft</td>\n",
       "      <td>Unfurnish</td>\n",
       "      <td></td>\n",
       "      <td></td>\n",
       "      <td>Old Property</td>\n",
       "      <td>Ready to Move</td>\n",
       "      <td></td>\n",
       "      <td>₹ 27 Lac</td>\n",
       "    </tr>\n",
       "    <tr>\n",
       "      <th>820</th>\n",
       "      <td>Mumbai</td>\n",
       "      <td>inPANVEL</td>\n",
       "      <td></td>\n",
       "      <td>2 BHK</td>\n",
       "      <td></td>\n",
       "      <td>Unfurnish</td>\n",
       "      <td></td>\n",
       "      <td></td>\n",
       "      <td>Old Property</td>\n",
       "      <td>Ready to Move</td>\n",
       "      <td></td>\n",
       "      <td>₹ 90 Lac</td>\n",
       "    </tr>\n",
       "    <tr>\n",
       "      <th>821</th>\n",
       "      <td>Mumbai</td>\n",
       "      <td>inNirmal Polaris Mulund West</td>\n",
       "      <td></td>\n",
       "      <td>2 BHK</td>\n",
       "      <td>778 sqft</td>\n",
       "      <td>Furnish</td>\n",
       "      <td></td>\n",
       "      <td></td>\n",
       "      <td>Old Property</td>\n",
       "      <td>Ready to Move</td>\n",
       "      <td></td>\n",
       "      <td>₹ 1.80 Cr</td>\n",
       "    </tr>\n",
       "    <tr>\n",
       "      <th>822</th>\n",
       "      <td>Mumbai</td>\n",
       "      <td>inGhatkopar West</td>\n",
       "      <td></td>\n",
       "      <td>1 BHK</td>\n",
       "      <td>10 sqft</td>\n",
       "      <td>Unfurnish</td>\n",
       "      <td></td>\n",
       "      <td></td>\n",
       "      <td>Old Property</td>\n",
       "      <td>Ready to Move</td>\n",
       "      <td></td>\n",
       "      <td>₹ 25 Lac</td>\n",
       "    </tr>\n",
       "    <tr>\n",
       "      <th>823</th>\n",
       "      <td>Mumbai</td>\n",
       "      <td>inMithul Enclave Chembur Colony</td>\n",
       "      <td></td>\n",
       "      <td>1 BHK</td>\n",
       "      <td>620 sqft</td>\n",
       "      <td>Unfurnish</td>\n",
       "      <td></td>\n",
       "      <td></td>\n",
       "      <td>Old Property</td>\n",
       "      <td>Ready to Move</td>\n",
       "      <td>₹ 13709 per sqft</td>\n",
       "      <td>₹ 85 Lac</td>\n",
       "    </tr>\n",
       "  </tbody>\n",
       "</table>\n",
       "<p>824 rows × 12 columns</p>\n",
       "</div>"
      ],
      "text/plain": [
       "    Location                               Area  Type    BHK       Sqft  \\\n",
       "0    Chennai                           Perambur  Flat  2 BHK  1100 sqft   \n",
       "1    Chennai                      Thirumazhisai  Flat  1 BHK   544 sqft   \n",
       "2    Chennai                        Perumbakkam  Flat  2 BHK   796 sqft   \n",
       "3    Chennai                          Thalambur  Flat  2 BHK  1026 sqft   \n",
       "4    Chennai  Perungalathur Chennai Bypass Road  Flat  2 BHK   903 sqft   \n",
       "..       ...                                ...   ...    ...        ...   \n",
       "819   Mumbai                        inLink Road        1 BHK   150 sqft   \n",
       "820   Mumbai                           inPANVEL        2 BHK              \n",
       "821   Mumbai       inNirmal Polaris Mulund West        2 BHK   778 sqft   \n",
       "822   Mumbai                   inGhatkopar West        1 BHK    10 sqft   \n",
       "823   Mumbai    inMithul Enclave Chembur Colony        1 BHK   620 sqft   \n",
       "\n",
       "       Furnish   Car_Park Bathroom   Transaction                 Status  \\\n",
       "0    Unfurnish  1 Covered        2  New Property  Possession by Dec '21   \n",
       "1    Unfurnish  1 Covered        1  New Property  Possession by Dec '23   \n",
       "2      Furnish                   2  New Property  Possession by Sep '23   \n",
       "3    Unfurnish                   2  New Property  Possession by Mar '24   \n",
       "4    Unfurnish  1 Covered        2  New Property  Possession by Jul '22   \n",
       "..         ...        ...      ...           ...                    ...   \n",
       "819  Unfurnish                      Old Property          Ready to Move   \n",
       "820  Unfurnish                      Old Property          Ready to Move   \n",
       "821    Furnish                      Old Property          Ready to Move   \n",
       "822  Unfurnish                      Old Property          Ready to Move   \n",
       "823  Unfurnish                      Old Property          Ready to Move   \n",
       "\n",
       "         PriceperSqrt       Price  \n",
       "0     ₹ 8182 per sqft    ₹ 90 Lac  \n",
       "1     ₹ 5450 per sqft  ₹ 29.7 Lac  \n",
       "2     ₹ 3599 per sqft  ₹ 28.6 Lac  \n",
       "3     ₹ 4724 per sqft  ₹ 48.5 Lac  \n",
       "4     ₹ 4877 per sqft    ₹ 44 Lac  \n",
       "..                ...         ...  \n",
       "819                      ₹ 27 Lac  \n",
       "820                      ₹ 90 Lac  \n",
       "821                     ₹ 1.80 Cr  \n",
       "822                      ₹ 25 Lac  \n",
       "823  ₹ 13709 per sqft    ₹ 85 Lac  \n",
       "\n",
       "[824 rows x 12 columns]"
      ]
     },
     "execution_count": 9,
     "metadata": {},
     "output_type": "execute_result"
    }
   ],
   "source": [
    "#Creating a dataframe in orderly fashion (more readable format)\n",
    "REstate = REs[['Location','Area','Type','BHK','Sqft','Furnish','Car_Park','Bathroom','Transaction','Status','PriceperSqrt','Price' ]]\n",
    "REstate"
   ]
  },
  {
   "cell_type": "code",
   "execution_count": 10,
   "id": "4096f0dc",
   "metadata": {},
   "outputs": [
    {
     "data": {
      "text/html": [
       "<div>\n",
       "<style scoped>\n",
       "    .dataframe tbody tr th:only-of-type {\n",
       "        vertical-align: middle;\n",
       "    }\n",
       "\n",
       "    .dataframe tbody tr th {\n",
       "        vertical-align: top;\n",
       "    }\n",
       "\n",
       "    .dataframe thead th {\n",
       "        text-align: right;\n",
       "    }\n",
       "</style>\n",
       "<table border=\"1\" class=\"dataframe\">\n",
       "  <thead>\n",
       "    <tr style=\"text-align: right;\">\n",
       "      <th></th>\n",
       "      <th>Location</th>\n",
       "      <th>Area</th>\n",
       "      <th>Type</th>\n",
       "      <th>BHK</th>\n",
       "      <th>Sqft</th>\n",
       "      <th>Furnish</th>\n",
       "      <th>Transaction</th>\n",
       "      <th>Status</th>\n",
       "      <th>PriceperSqrt</th>\n",
       "      <th>Price</th>\n",
       "    </tr>\n",
       "  </thead>\n",
       "  <tbody>\n",
       "    <tr>\n",
       "      <th>0</th>\n",
       "      <td>Chennai</td>\n",
       "      <td>Perambur</td>\n",
       "      <td>Flat</td>\n",
       "      <td>2 BHK</td>\n",
       "      <td>1100 sqft</td>\n",
       "      <td>Unfurnish</td>\n",
       "      <td>New Property</td>\n",
       "      <td>Possession by Dec '21</td>\n",
       "      <td>₹ 8182 per sqft</td>\n",
       "      <td>₹ 90 Lac</td>\n",
       "    </tr>\n",
       "    <tr>\n",
       "      <th>1</th>\n",
       "      <td>Chennai</td>\n",
       "      <td>Thirumazhisai</td>\n",
       "      <td>Flat</td>\n",
       "      <td>1 BHK</td>\n",
       "      <td>544 sqft</td>\n",
       "      <td>Unfurnish</td>\n",
       "      <td>New Property</td>\n",
       "      <td>Possession by Dec '23</td>\n",
       "      <td>₹ 5450 per sqft</td>\n",
       "      <td>₹ 29.7 Lac</td>\n",
       "    </tr>\n",
       "    <tr>\n",
       "      <th>2</th>\n",
       "      <td>Chennai</td>\n",
       "      <td>Perumbakkam</td>\n",
       "      <td>Flat</td>\n",
       "      <td>2 BHK</td>\n",
       "      <td>796 sqft</td>\n",
       "      <td>Furnish</td>\n",
       "      <td>New Property</td>\n",
       "      <td>Possession by Sep '23</td>\n",
       "      <td>₹ 3599 per sqft</td>\n",
       "      <td>₹ 28.6 Lac</td>\n",
       "    </tr>\n",
       "    <tr>\n",
       "      <th>3</th>\n",
       "      <td>Chennai</td>\n",
       "      <td>Thalambur</td>\n",
       "      <td>Flat</td>\n",
       "      <td>2 BHK</td>\n",
       "      <td>1026 sqft</td>\n",
       "      <td>Unfurnish</td>\n",
       "      <td>New Property</td>\n",
       "      <td>Possession by Mar '24</td>\n",
       "      <td>₹ 4724 per sqft</td>\n",
       "      <td>₹ 48.5 Lac</td>\n",
       "    </tr>\n",
       "    <tr>\n",
       "      <th>4</th>\n",
       "      <td>Chennai</td>\n",
       "      <td>Perungalathur Chennai Bypass Road</td>\n",
       "      <td>Flat</td>\n",
       "      <td>2 BHK</td>\n",
       "      <td>903 sqft</td>\n",
       "      <td>Unfurnish</td>\n",
       "      <td>New Property</td>\n",
       "      <td>Possession by Jul '22</td>\n",
       "      <td>₹ 4877 per sqft</td>\n",
       "      <td>₹ 44 Lac</td>\n",
       "    </tr>\n",
       "    <tr>\n",
       "      <th>...</th>\n",
       "      <td>...</td>\n",
       "      <td>...</td>\n",
       "      <td>...</td>\n",
       "      <td>...</td>\n",
       "      <td>...</td>\n",
       "      <td>...</td>\n",
       "      <td>...</td>\n",
       "      <td>...</td>\n",
       "      <td>...</td>\n",
       "      <td>...</td>\n",
       "    </tr>\n",
       "    <tr>\n",
       "      <th>819</th>\n",
       "      <td>Mumbai</td>\n",
       "      <td>inLink Road</td>\n",
       "      <td></td>\n",
       "      <td>1 BHK</td>\n",
       "      <td>150 sqft</td>\n",
       "      <td>Unfurnish</td>\n",
       "      <td>Old Property</td>\n",
       "      <td>Ready to Move</td>\n",
       "      <td></td>\n",
       "      <td>₹ 27 Lac</td>\n",
       "    </tr>\n",
       "    <tr>\n",
       "      <th>820</th>\n",
       "      <td>Mumbai</td>\n",
       "      <td>inPANVEL</td>\n",
       "      <td></td>\n",
       "      <td>2 BHK</td>\n",
       "      <td></td>\n",
       "      <td>Unfurnish</td>\n",
       "      <td>Old Property</td>\n",
       "      <td>Ready to Move</td>\n",
       "      <td></td>\n",
       "      <td>₹ 90 Lac</td>\n",
       "    </tr>\n",
       "    <tr>\n",
       "      <th>821</th>\n",
       "      <td>Mumbai</td>\n",
       "      <td>inNirmal Polaris Mulund West</td>\n",
       "      <td></td>\n",
       "      <td>2 BHK</td>\n",
       "      <td>778 sqft</td>\n",
       "      <td>Furnish</td>\n",
       "      <td>Old Property</td>\n",
       "      <td>Ready to Move</td>\n",
       "      <td></td>\n",
       "      <td>₹ 1.80 Cr</td>\n",
       "    </tr>\n",
       "    <tr>\n",
       "      <th>822</th>\n",
       "      <td>Mumbai</td>\n",
       "      <td>inGhatkopar West</td>\n",
       "      <td></td>\n",
       "      <td>1 BHK</td>\n",
       "      <td>10 sqft</td>\n",
       "      <td>Unfurnish</td>\n",
       "      <td>Old Property</td>\n",
       "      <td>Ready to Move</td>\n",
       "      <td></td>\n",
       "      <td>₹ 25 Lac</td>\n",
       "    </tr>\n",
       "    <tr>\n",
       "      <th>823</th>\n",
       "      <td>Mumbai</td>\n",
       "      <td>inMithul Enclave Chembur Colony</td>\n",
       "      <td></td>\n",
       "      <td>1 BHK</td>\n",
       "      <td>620 sqft</td>\n",
       "      <td>Unfurnish</td>\n",
       "      <td>Old Property</td>\n",
       "      <td>Ready to Move</td>\n",
       "      <td>₹ 13709 per sqft</td>\n",
       "      <td>₹ 85 Lac</td>\n",
       "    </tr>\n",
       "  </tbody>\n",
       "</table>\n",
       "<p>824 rows × 10 columns</p>\n",
       "</div>"
      ],
      "text/plain": [
       "    Location                               Area  Type    BHK       Sqft  \\\n",
       "0    Chennai                           Perambur  Flat  2 BHK  1100 sqft   \n",
       "1    Chennai                      Thirumazhisai  Flat  1 BHK   544 sqft   \n",
       "2    Chennai                        Perumbakkam  Flat  2 BHK   796 sqft   \n",
       "3    Chennai                          Thalambur  Flat  2 BHK  1026 sqft   \n",
       "4    Chennai  Perungalathur Chennai Bypass Road  Flat  2 BHK   903 sqft   \n",
       "..       ...                                ...   ...    ...        ...   \n",
       "819   Mumbai                        inLink Road        1 BHK   150 sqft   \n",
       "820   Mumbai                           inPANVEL        2 BHK              \n",
       "821   Mumbai       inNirmal Polaris Mulund West        2 BHK   778 sqft   \n",
       "822   Mumbai                   inGhatkopar West        1 BHK    10 sqft   \n",
       "823   Mumbai    inMithul Enclave Chembur Colony        1 BHK   620 sqft   \n",
       "\n",
       "       Furnish   Transaction                 Status      PriceperSqrt  \\\n",
       "0    Unfurnish  New Property  Possession by Dec '21   ₹ 8182 per sqft   \n",
       "1    Unfurnish  New Property  Possession by Dec '23   ₹ 5450 per sqft   \n",
       "2      Furnish  New Property  Possession by Sep '23   ₹ 3599 per sqft   \n",
       "3    Unfurnish  New Property  Possession by Mar '24   ₹ 4724 per sqft   \n",
       "4    Unfurnish  New Property  Possession by Jul '22   ₹ 4877 per sqft   \n",
       "..         ...           ...                    ...               ...   \n",
       "819  Unfurnish  Old Property          Ready to Move                     \n",
       "820  Unfurnish  Old Property          Ready to Move                     \n",
       "821    Furnish  Old Property          Ready to Move                     \n",
       "822  Unfurnish  Old Property          Ready to Move                     \n",
       "823  Unfurnish  Old Property          Ready to Move  ₹ 13709 per sqft   \n",
       "\n",
       "          Price  \n",
       "0      ₹ 90 Lac  \n",
       "1    ₹ 29.7 Lac  \n",
       "2    ₹ 28.6 Lac  \n",
       "3    ₹ 48.5 Lac  \n",
       "4      ₹ 44 Lac  \n",
       "..          ...  \n",
       "819    ₹ 27 Lac  \n",
       "820    ₹ 90 Lac  \n",
       "821   ₹ 1.80 Cr  \n",
       "822    ₹ 25 Lac  \n",
       "823    ₹ 85 Lac  \n",
       "\n",
       "[824 rows x 10 columns]"
      ]
     },
     "execution_count": 10,
     "metadata": {},
     "output_type": "execute_result"
    }
   ],
   "source": [
    "#Removing the 'CarPark' and 'Bathroom' columns as they have excess null values\n",
    "REstate.drop(['Car_Park','Bathroom'],axis = 1,inplace = True)\n",
    "REstate"
   ]
  },
  {
   "cell_type": "code",
   "execution_count": 11,
   "id": "56b02c13",
   "metadata": {},
   "outputs": [],
   "source": [
    "REstate.to_csv('RealEstate_'+City[0]+'-'+City[1]+'_RAW.csv',index=False)"
   ]
  },
  {
   "cell_type": "code",
   "execution_count": 12,
   "id": "e36145f8",
   "metadata": {},
   "outputs": [
    {
     "data": {
      "text/plain": [
       "(824, 10)"
      ]
     },
     "execution_count": 12,
     "metadata": {},
     "output_type": "execute_result"
    }
   ],
   "source": [
    "REstate.shape"
   ]
  },
  {
   "cell_type": "code",
   "execution_count": 13,
   "id": "45668bef",
   "metadata": {},
   "outputs": [],
   "source": [
    "typePrice = REstate.index[REstate['Price']==''].tolist()\n",
    "REstate.drop([i for i in typePrice],axis=0,inplace=True)"
   ]
  },
  {
   "cell_type": "code",
   "execution_count": 14,
   "id": "9e6da5b0",
   "metadata": {
    "scrolled": true
   },
   "outputs": [],
   "source": [
    "REstate['Price_Lac'] = REstate.Price.str.replace('₹','')"
   ]
  },
  {
   "cell_type": "code",
   "execution_count": 15,
   "id": "85a5ecfc",
   "metadata": {},
   "outputs": [],
   "source": [
    "#Changing Crore value to lacs in price column\n",
    "\n",
    "def PriceMetric(x):\n",
    "    regex = re.compile(r'[\\w.]+')\n",
    "    if regex.findall(x)[1] == 'Cr':\n",
    "        return (float(regex.findall(x)[0]) * 100)\n",
    "    else:\n",
    "        return (float(regex.findall(x)[0]))\n",
    "    \n",
    "REstate['Price_Lac'] = REstate['Price_Lac'].apply(lambda x : PriceMetric(x))"
   ]
  },
  {
   "cell_type": "code",
   "execution_count": 16,
   "id": "97ddd13a",
   "metadata": {},
   "outputs": [],
   "source": [
    "typesqft = REstate.index[REstate['Sqft']==''].tolist()\n",
    "REstate.drop([i for i in typesqft],axis=0,inplace=True)"
   ]
  },
  {
   "cell_type": "code",
   "execution_count": 17,
   "id": "0b16e765",
   "metadata": {},
   "outputs": [],
   "source": [
    "#Converting string to float values\n",
    "regex = re.compile(r'[\\d]+')\n",
    "REstate['Area_Sqft'] = REstate['Sqft'].apply(lambda x : ''.join(regex.findall(x))).astype(float)\n"
   ]
  },
  {
   "cell_type": "code",
   "execution_count": 18,
   "id": "0d806cfc",
   "metadata": {},
   "outputs": [],
   "source": [
    "#Converting string to float values\n",
    "regex = re.compile(r'[\\d]+')\n",
    "REstate['Price/Sqft'] = REstate['PriceperSqrt'].apply(lambda x: ''.join(regex.findall(x) if len(x)!=0 else '-1')).astype(float)"
   ]
  },
  {
   "cell_type": "code",
   "execution_count": 19,
   "id": "a01a912d",
   "metadata": {},
   "outputs": [
    {
     "data": {
      "text/html": [
       "<div>\n",
       "<style scoped>\n",
       "    .dataframe tbody tr th:only-of-type {\n",
       "        vertical-align: middle;\n",
       "    }\n",
       "\n",
       "    .dataframe tbody tr th {\n",
       "        vertical-align: top;\n",
       "    }\n",
       "\n",
       "    .dataframe thead th {\n",
       "        text-align: right;\n",
       "    }\n",
       "</style>\n",
       "<table border=\"1\" class=\"dataframe\">\n",
       "  <thead>\n",
       "    <tr style=\"text-align: right;\">\n",
       "      <th></th>\n",
       "      <th>Location</th>\n",
       "      <th>Area</th>\n",
       "      <th>Type</th>\n",
       "      <th>BHK</th>\n",
       "      <th>Sqft</th>\n",
       "      <th>Furnish</th>\n",
       "      <th>Transaction</th>\n",
       "      <th>Status</th>\n",
       "      <th>PriceperSqrt</th>\n",
       "      <th>Price</th>\n",
       "      <th>Price_Lac</th>\n",
       "      <th>Area_Sqft</th>\n",
       "      <th>Price/Sqft</th>\n",
       "    </tr>\n",
       "  </thead>\n",
       "  <tbody>\n",
       "    <tr>\n",
       "      <th>0</th>\n",
       "      <td>Chennai</td>\n",
       "      <td>Perambur</td>\n",
       "      <td>Flat</td>\n",
       "      <td>2 BHK</td>\n",
       "      <td>1100 sqft</td>\n",
       "      <td>Unfurnish</td>\n",
       "      <td>New Property</td>\n",
       "      <td>Possession by Dec '21</td>\n",
       "      <td>₹ 8182 per sqft</td>\n",
       "      <td>₹ 90 Lac</td>\n",
       "      <td>90.0</td>\n",
       "      <td>1100.0</td>\n",
       "      <td>8182.0</td>\n",
       "    </tr>\n",
       "    <tr>\n",
       "      <th>1</th>\n",
       "      <td>Chennai</td>\n",
       "      <td>Thirumazhisai</td>\n",
       "      <td>Flat</td>\n",
       "      <td>1 BHK</td>\n",
       "      <td>544 sqft</td>\n",
       "      <td>Unfurnish</td>\n",
       "      <td>New Property</td>\n",
       "      <td>Possession by Dec '23</td>\n",
       "      <td>₹ 5450 per sqft</td>\n",
       "      <td>₹ 29.7 Lac</td>\n",
       "      <td>29.7</td>\n",
       "      <td>544.0</td>\n",
       "      <td>5450.0</td>\n",
       "    </tr>\n",
       "    <tr>\n",
       "      <th>2</th>\n",
       "      <td>Chennai</td>\n",
       "      <td>Perumbakkam</td>\n",
       "      <td>Flat</td>\n",
       "      <td>2 BHK</td>\n",
       "      <td>796 sqft</td>\n",
       "      <td>Furnish</td>\n",
       "      <td>New Property</td>\n",
       "      <td>Possession by Sep '23</td>\n",
       "      <td>₹ 3599 per sqft</td>\n",
       "      <td>₹ 28.6 Lac</td>\n",
       "      <td>28.6</td>\n",
       "      <td>796.0</td>\n",
       "      <td>3599.0</td>\n",
       "    </tr>\n",
       "    <tr>\n",
       "      <th>3</th>\n",
       "      <td>Chennai</td>\n",
       "      <td>Thalambur</td>\n",
       "      <td>Flat</td>\n",
       "      <td>2 BHK</td>\n",
       "      <td>1026 sqft</td>\n",
       "      <td>Unfurnish</td>\n",
       "      <td>New Property</td>\n",
       "      <td>Possession by Mar '24</td>\n",
       "      <td>₹ 4724 per sqft</td>\n",
       "      <td>₹ 48.5 Lac</td>\n",
       "      <td>48.5</td>\n",
       "      <td>1026.0</td>\n",
       "      <td>4724.0</td>\n",
       "    </tr>\n",
       "    <tr>\n",
       "      <th>4</th>\n",
       "      <td>Chennai</td>\n",
       "      <td>Perungalathur Chennai Bypass Road</td>\n",
       "      <td>Flat</td>\n",
       "      <td>2 BHK</td>\n",
       "      <td>903 sqft</td>\n",
       "      <td>Unfurnish</td>\n",
       "      <td>New Property</td>\n",
       "      <td>Possession by Jul '22</td>\n",
       "      <td>₹ 4877 per sqft</td>\n",
       "      <td>₹ 44 Lac</td>\n",
       "      <td>44.0</td>\n",
       "      <td>903.0</td>\n",
       "      <td>4877.0</td>\n",
       "    </tr>\n",
       "  </tbody>\n",
       "</table>\n",
       "</div>"
      ],
      "text/plain": [
       "  Location                               Area  Type    BHK       Sqft  \\\n",
       "0  Chennai                           Perambur  Flat  2 BHK  1100 sqft   \n",
       "1  Chennai                      Thirumazhisai  Flat  1 BHK   544 sqft   \n",
       "2  Chennai                        Perumbakkam  Flat  2 BHK   796 sqft   \n",
       "3  Chennai                          Thalambur  Flat  2 BHK  1026 sqft   \n",
       "4  Chennai  Perungalathur Chennai Bypass Road  Flat  2 BHK   903 sqft   \n",
       "\n",
       "     Furnish   Transaction                 Status     PriceperSqrt  \\\n",
       "0  Unfurnish  New Property  Possession by Dec '21  ₹ 8182 per sqft   \n",
       "1  Unfurnish  New Property  Possession by Dec '23  ₹ 5450 per sqft   \n",
       "2    Furnish  New Property  Possession by Sep '23  ₹ 3599 per sqft   \n",
       "3  Unfurnish  New Property  Possession by Mar '24  ₹ 4724 per sqft   \n",
       "4  Unfurnish  New Property  Possession by Jul '22  ₹ 4877 per sqft   \n",
       "\n",
       "        Price  Price_Lac  Area_Sqft  Price/Sqft  \n",
       "0    ₹ 90 Lac       90.0     1100.0      8182.0  \n",
       "1  ₹ 29.7 Lac       29.7      544.0      5450.0  \n",
       "2  ₹ 28.6 Lac       28.6      796.0      3599.0  \n",
       "3  ₹ 48.5 Lac       48.5     1026.0      4724.0  \n",
       "4    ₹ 44 Lac       44.0      903.0      4877.0  "
      ]
     },
     "execution_count": 19,
     "metadata": {},
     "output_type": "execute_result"
    }
   ],
   "source": [
    "REstate[REstate.Location ==City[0]].head()"
   ]
  },
  {
   "cell_type": "code",
   "execution_count": 20,
   "id": "8aac4d7a",
   "metadata": {},
   "outputs": [],
   "source": [
    "#Reseting the index of Data Frame\n",
    "REstate = REstate.reset_index(drop=True)"
   ]
  },
  {
   "cell_type": "code",
   "execution_count": 21,
   "id": "6b12197f",
   "metadata": {},
   "outputs": [],
   "source": [
    "# REstate[REstate.Location==City[0]][REstate[REstate.Location==City[0]].Type=='Flat'].to_csv(City[0]+'_Flat.csv',index=False)\n",
    "# REstate[REstate.Location==City[0]][REstate[REstate.Location==City[0]].Type=='Villa'].to_csv(City[0]+'_Villa.csv',index=False)\n",
    "# REstate[REstate.Location==City[1]][REstate[REstate.Location==City[1]].Type=='Flat'].to_csv(City[1]+'_Flat.csv',index=False)\n",
    "# REstate[REstate.Location==City[1]][REstate[REstate.Location==City[1]].Type=='Villa'].to_csv(City[1]+'_Villa.csv',index=False)"
   ]
  },
  {
   "cell_type": "code",
   "execution_count": 22,
   "id": "9edfcda0",
   "metadata": {},
   "outputs": [],
   "source": [
    "City1Flat = REstate[REstate.Location ==City[0]][REstate[REstate.Location ==City[0]].Type=='Flat']\n",
    "City1Flat['Price/Sqft'] = np.where(City1Flat['Price/Sqft'] == -1, round((City1Flat['Price_Lac']/City1Flat['Area_Sqft'])*100000,2), City1Flat['Price/Sqft'])\n",
    "\n",
    "\n",
    "City1Villa = REstate[REstate.Location ==City[0]][REstate[REstate.Location ==City[0]].Type=='Villa']\n",
    "City1Villa['Price/Sqft'] = np.where(City1Villa['Price/Sqft'] == -1, round((City1Villa['Price_Lac']/City1Villa['Area_Sqft'])*100000,2), City1Villa['Price/Sqft'])\n",
    "\n",
    "City2Flat = REstate[REstate.Location ==City[1]][REstate[REstate.Location ==City[1]].Type=='Flat']\n",
    "City2Flat['Price/Sqft'] = np.where(City2Flat['Price/Sqft'] == -1, round((City2Flat['Price_Lac']/City2Flat['Area_Sqft'])*100000,2), City2Flat['Price/Sqft'])\n",
    "\n",
    "City2Villa = REstate[REstate.Location ==City[1]][REstate[REstate.Location ==City[1]].Type=='Villa']\n",
    "City2Villa['Price/Sqft'] = np.where(City2Villa['Price/Sqft'] == -1, round((City2Villa['Price_Lac']/City2Villa['Area_Sqft'])*100000,2), City2Villa['Price/Sqft'])"
   ]
  },
  {
   "cell_type": "code",
   "execution_count": 23,
   "id": "25860d62",
   "metadata": {},
   "outputs": [],
   "source": [
    "City1Flat.to_csv(City[0]+'_Flat.csv',index=False)\n",
    "City1Villa.to_csv(City[0]+'_Villa.csv',index=False)\n",
    "City2Flat.to_csv(City[1]+'_Flat.csv',index=False)\n",
    "City2Villa.to_csv(City[1]+'_Villa.csv',index=False)"
   ]
  },
  {
   "cell_type": "code",
   "execution_count": 24,
   "id": "ef29659a",
   "metadata": {},
   "outputs": [],
   "source": [
    "Property = pd.concat([City1Flat,City1Villa,City2Flat,City2Villa], axis=0)"
   ]
  },
  {
   "cell_type": "code",
   "execution_count": 25,
   "id": "b7b7337b",
   "metadata": {},
   "outputs": [],
   "source": [
    "#Converting string to float values\n",
    "regex = re.compile(r'[\\d]+')\n",
    "Property['BHK'] = Property['BHK'].apply(lambda x: ''.join(regex.findall(x))).astype(float)"
   ]
  },
  {
   "cell_type": "code",
   "execution_count": 26,
   "id": "a983bf9d",
   "metadata": {},
   "outputs": [
    {
     "data": {
      "text/html": [
       "<div>\n",
       "<style scoped>\n",
       "    .dataframe tbody tr th:only-of-type {\n",
       "        vertical-align: middle;\n",
       "    }\n",
       "\n",
       "    .dataframe tbody tr th {\n",
       "        vertical-align: top;\n",
       "    }\n",
       "\n",
       "    .dataframe thead th {\n",
       "        text-align: right;\n",
       "    }\n",
       "</style>\n",
       "<table border=\"1\" class=\"dataframe\">\n",
       "  <thead>\n",
       "    <tr style=\"text-align: right;\">\n",
       "      <th></th>\n",
       "      <th>Location</th>\n",
       "      <th>Area</th>\n",
       "      <th>Type</th>\n",
       "      <th>BHK</th>\n",
       "      <th>Sqft</th>\n",
       "      <th>Furnish</th>\n",
       "      <th>Transaction</th>\n",
       "      <th>Status</th>\n",
       "      <th>PriceperSqrt</th>\n",
       "      <th>Price</th>\n",
       "      <th>Price_Lac</th>\n",
       "      <th>Area_Sqft</th>\n",
       "      <th>Price/Sqft</th>\n",
       "    </tr>\n",
       "  </thead>\n",
       "  <tbody>\n",
       "    <tr>\n",
       "      <th>0</th>\n",
       "      <td>Chennai</td>\n",
       "      <td>Perambur</td>\n",
       "      <td>Flat</td>\n",
       "      <td>2.0</td>\n",
       "      <td>1100 sqft</td>\n",
       "      <td>Unfurnish</td>\n",
       "      <td>New Property</td>\n",
       "      <td>Possession by Dec '21</td>\n",
       "      <td>₹ 8182 per sqft</td>\n",
       "      <td>₹ 90 Lac</td>\n",
       "      <td>90.0</td>\n",
       "      <td>1100.0</td>\n",
       "      <td>8182.0</td>\n",
       "    </tr>\n",
       "    <tr>\n",
       "      <th>1</th>\n",
       "      <td>Chennai</td>\n",
       "      <td>Thirumazhisai</td>\n",
       "      <td>Flat</td>\n",
       "      <td>1.0</td>\n",
       "      <td>544 sqft</td>\n",
       "      <td>Unfurnish</td>\n",
       "      <td>New Property</td>\n",
       "      <td>Possession by Dec '23</td>\n",
       "      <td>₹ 5450 per sqft</td>\n",
       "      <td>₹ 29.7 Lac</td>\n",
       "      <td>29.7</td>\n",
       "      <td>544.0</td>\n",
       "      <td>5450.0</td>\n",
       "    </tr>\n",
       "    <tr>\n",
       "      <th>2</th>\n",
       "      <td>Chennai</td>\n",
       "      <td>Perumbakkam</td>\n",
       "      <td>Flat</td>\n",
       "      <td>2.0</td>\n",
       "      <td>796 sqft</td>\n",
       "      <td>Furnish</td>\n",
       "      <td>New Property</td>\n",
       "      <td>Possession by Sep '23</td>\n",
       "      <td>₹ 3599 per sqft</td>\n",
       "      <td>₹ 28.6 Lac</td>\n",
       "      <td>28.6</td>\n",
       "      <td>796.0</td>\n",
       "      <td>3599.0</td>\n",
       "    </tr>\n",
       "    <tr>\n",
       "      <th>3</th>\n",
       "      <td>Chennai</td>\n",
       "      <td>Thalambur</td>\n",
       "      <td>Flat</td>\n",
       "      <td>2.0</td>\n",
       "      <td>1026 sqft</td>\n",
       "      <td>Unfurnish</td>\n",
       "      <td>New Property</td>\n",
       "      <td>Possession by Mar '24</td>\n",
       "      <td>₹ 4724 per sqft</td>\n",
       "      <td>₹ 48.5 Lac</td>\n",
       "      <td>48.5</td>\n",
       "      <td>1026.0</td>\n",
       "      <td>4724.0</td>\n",
       "    </tr>\n",
       "    <tr>\n",
       "      <th>4</th>\n",
       "      <td>Chennai</td>\n",
       "      <td>Perungalathur Chennai Bypass Road</td>\n",
       "      <td>Flat</td>\n",
       "      <td>2.0</td>\n",
       "      <td>903 sqft</td>\n",
       "      <td>Unfurnish</td>\n",
       "      <td>New Property</td>\n",
       "      <td>Possession by Jul '22</td>\n",
       "      <td>₹ 4877 per sqft</td>\n",
       "      <td>₹ 44 Lac</td>\n",
       "      <td>44.0</td>\n",
       "      <td>903.0</td>\n",
       "      <td>4877.0</td>\n",
       "    </tr>\n",
       "    <tr>\n",
       "      <th>...</th>\n",
       "      <td>...</td>\n",
       "      <td>...</td>\n",
       "      <td>...</td>\n",
       "      <td>...</td>\n",
       "      <td>...</td>\n",
       "      <td>...</td>\n",
       "      <td>...</td>\n",
       "      <td>...</td>\n",
       "      <td>...</td>\n",
       "      <td>...</td>\n",
       "      <td>...</td>\n",
       "      <td>...</td>\n",
       "      <td>...</td>\n",
       "    </tr>\n",
       "    <tr>\n",
       "      <th>570</th>\n",
       "      <td>Mumbai</td>\n",
       "      <td>inVile Parle East</td>\n",
       "      <td>Villa</td>\n",
       "      <td>1.0</td>\n",
       "      <td>350 sqft</td>\n",
       "      <td>Unfurnish</td>\n",
       "      <td>Old Property</td>\n",
       "      <td>Ready to Move</td>\n",
       "      <td>₹ 15714 per sqft</td>\n",
       "      <td>₹ 55 Lac</td>\n",
       "      <td>55.0</td>\n",
       "      <td>350.0</td>\n",
       "      <td>15714.0</td>\n",
       "    </tr>\n",
       "    <tr>\n",
       "      <th>571</th>\n",
       "      <td>Mumbai</td>\n",
       "      <td>inBolinj</td>\n",
       "      <td>Villa</td>\n",
       "      <td>4.0</td>\n",
       "      <td>2500 sqft</td>\n",
       "      <td>Furnish</td>\n",
       "      <td>Old Property</td>\n",
       "      <td>Ready to Move</td>\n",
       "      <td>₹ 5800 per sqft</td>\n",
       "      <td>₹ 1.45 Cr</td>\n",
       "      <td>145.0</td>\n",
       "      <td>2500.0</td>\n",
       "      <td>5800.0</td>\n",
       "    </tr>\n",
       "    <tr>\n",
       "      <th>572</th>\n",
       "      <td>Mumbai</td>\n",
       "      <td>inPushpa Park</td>\n",
       "      <td>Villa</td>\n",
       "      <td>1.0</td>\n",
       "      <td>200 sqft</td>\n",
       "      <td>Unfurnish</td>\n",
       "      <td>Old Property</td>\n",
       "      <td>Ready to Move</td>\n",
       "      <td></td>\n",
       "      <td>₹ 36 Lac</td>\n",
       "      <td>36.0</td>\n",
       "      <td>200.0</td>\n",
       "      <td>18000.0</td>\n",
       "    </tr>\n",
       "    <tr>\n",
       "      <th>573</th>\n",
       "      <td>Mumbai</td>\n",
       "      <td>inMadh Village</td>\n",
       "      <td>Villa</td>\n",
       "      <td>5.0</td>\n",
       "      <td>1080 sqft</td>\n",
       "      <td>Unfurnish</td>\n",
       "      <td>Old Property</td>\n",
       "      <td>Ready to Move</td>\n",
       "      <td>₹ 4630 per sqft</td>\n",
       "      <td>₹ 50 Lac</td>\n",
       "      <td>50.0</td>\n",
       "      <td>1080.0</td>\n",
       "      <td>4630.0</td>\n",
       "    </tr>\n",
       "    <tr>\n",
       "      <th>574</th>\n",
       "      <td>Mumbai</td>\n",
       "      <td>inKurar Village</td>\n",
       "      <td>Villa</td>\n",
       "      <td>1.0</td>\n",
       "      <td>235 sqft</td>\n",
       "      <td>Unfurnish</td>\n",
       "      <td>Old Property</td>\n",
       "      <td>Ready to Move</td>\n",
       "      <td>₹ 9362 per sqft</td>\n",
       "      <td>₹ 22 Lac</td>\n",
       "      <td>22.0</td>\n",
       "      <td>235.0</td>\n",
       "      <td>9362.0</td>\n",
       "    </tr>\n",
       "  </tbody>\n",
       "</table>\n",
       "<p>575 rows × 13 columns</p>\n",
       "</div>"
      ],
      "text/plain": [
       "    Location                               Area   Type  BHK       Sqft  \\\n",
       "0    Chennai                           Perambur   Flat  2.0  1100 sqft   \n",
       "1    Chennai                      Thirumazhisai   Flat  1.0   544 sqft   \n",
       "2    Chennai                        Perumbakkam   Flat  2.0   796 sqft   \n",
       "3    Chennai                          Thalambur   Flat  2.0  1026 sqft   \n",
       "4    Chennai  Perungalathur Chennai Bypass Road   Flat  2.0   903 sqft   \n",
       "..       ...                                ...    ...  ...        ...   \n",
       "570   Mumbai                  inVile Parle East  Villa  1.0   350 sqft   \n",
       "571   Mumbai                           inBolinj  Villa  4.0  2500 sqft   \n",
       "572   Mumbai                      inPushpa Park  Villa  1.0   200 sqft   \n",
       "573   Mumbai                     inMadh Village  Villa  5.0  1080 sqft   \n",
       "574   Mumbai                    inKurar Village  Villa  1.0   235 sqft   \n",
       "\n",
       "       Furnish   Transaction                 Status      PriceperSqrt  \\\n",
       "0    Unfurnish  New Property  Possession by Dec '21   ₹ 8182 per sqft   \n",
       "1    Unfurnish  New Property  Possession by Dec '23   ₹ 5450 per sqft   \n",
       "2      Furnish  New Property  Possession by Sep '23   ₹ 3599 per sqft   \n",
       "3    Unfurnish  New Property  Possession by Mar '24   ₹ 4724 per sqft   \n",
       "4    Unfurnish  New Property  Possession by Jul '22   ₹ 4877 per sqft   \n",
       "..         ...           ...                    ...               ...   \n",
       "570  Unfurnish  Old Property          Ready to Move  ₹ 15714 per sqft   \n",
       "571    Furnish  Old Property          Ready to Move   ₹ 5800 per sqft   \n",
       "572  Unfurnish  Old Property          Ready to Move                     \n",
       "573  Unfurnish  Old Property          Ready to Move   ₹ 4630 per sqft   \n",
       "574  Unfurnish  Old Property          Ready to Move   ₹ 9362 per sqft   \n",
       "\n",
       "          Price  Price_Lac  Area_Sqft  Price/Sqft  \n",
       "0      ₹ 90 Lac       90.0     1100.0      8182.0  \n",
       "1    ₹ 29.7 Lac       29.7      544.0      5450.0  \n",
       "2    ₹ 28.6 Lac       28.6      796.0      3599.0  \n",
       "3    ₹ 48.5 Lac       48.5     1026.0      4724.0  \n",
       "4      ₹ 44 Lac       44.0      903.0      4877.0  \n",
       "..          ...        ...        ...         ...  \n",
       "570    ₹ 55 Lac       55.0      350.0     15714.0  \n",
       "571   ₹ 1.45 Cr      145.0     2500.0      5800.0  \n",
       "572    ₹ 36 Lac       36.0      200.0     18000.0  \n",
       "573    ₹ 50 Lac       50.0     1080.0      4630.0  \n",
       "574    ₹ 22 Lac       22.0      235.0      9362.0  \n",
       "\n",
       "[575 rows x 13 columns]"
      ]
     },
     "execution_count": 26,
     "metadata": {},
     "output_type": "execute_result"
    }
   ],
   "source": [
    "Property.reset_index(drop=True)"
   ]
  },
  {
   "cell_type": "code",
   "execution_count": 27,
   "id": "cbd6e688",
   "metadata": {},
   "outputs": [
    {
     "data": {
      "text/html": [
       "<div>\n",
       "<style scoped>\n",
       "    .dataframe tbody tr th:only-of-type {\n",
       "        vertical-align: middle;\n",
       "    }\n",
       "\n",
       "    .dataframe tbody tr th {\n",
       "        vertical-align: top;\n",
       "    }\n",
       "\n",
       "    .dataframe thead th {\n",
       "        text-align: right;\n",
       "    }\n",
       "</style>\n",
       "<table border=\"1\" class=\"dataframe\">\n",
       "  <thead>\n",
       "    <tr style=\"text-align: right;\">\n",
       "      <th></th>\n",
       "      <th>Location</th>\n",
       "      <th>Area</th>\n",
       "      <th>Type</th>\n",
       "      <th>BHK</th>\n",
       "      <th>Furnish</th>\n",
       "      <th>Transaction</th>\n",
       "      <th>Status</th>\n",
       "      <th>Price_Lac</th>\n",
       "      <th>Area_Sqft</th>\n",
       "      <th>Price/Sqft</th>\n",
       "    </tr>\n",
       "  </thead>\n",
       "  <tbody>\n",
       "    <tr>\n",
       "      <th>0</th>\n",
       "      <td>Chennai</td>\n",
       "      <td>Perambur</td>\n",
       "      <td>Flat</td>\n",
       "      <td>2.0</td>\n",
       "      <td>Unfurnish</td>\n",
       "      <td>New Property</td>\n",
       "      <td>Possession by Dec '21</td>\n",
       "      <td>90.0</td>\n",
       "      <td>1100.0</td>\n",
       "      <td>8182.0</td>\n",
       "    </tr>\n",
       "    <tr>\n",
       "      <th>1</th>\n",
       "      <td>Chennai</td>\n",
       "      <td>Thirumazhisai</td>\n",
       "      <td>Flat</td>\n",
       "      <td>1.0</td>\n",
       "      <td>Unfurnish</td>\n",
       "      <td>New Property</td>\n",
       "      <td>Possession by Dec '23</td>\n",
       "      <td>29.7</td>\n",
       "      <td>544.0</td>\n",
       "      <td>5450.0</td>\n",
       "    </tr>\n",
       "    <tr>\n",
       "      <th>2</th>\n",
       "      <td>Chennai</td>\n",
       "      <td>Perumbakkam</td>\n",
       "      <td>Flat</td>\n",
       "      <td>2.0</td>\n",
       "      <td>Furnish</td>\n",
       "      <td>New Property</td>\n",
       "      <td>Possession by Sep '23</td>\n",
       "      <td>28.6</td>\n",
       "      <td>796.0</td>\n",
       "      <td>3599.0</td>\n",
       "    </tr>\n",
       "    <tr>\n",
       "      <th>3</th>\n",
       "      <td>Chennai</td>\n",
       "      <td>Thalambur</td>\n",
       "      <td>Flat</td>\n",
       "      <td>2.0</td>\n",
       "      <td>Unfurnish</td>\n",
       "      <td>New Property</td>\n",
       "      <td>Possession by Mar '24</td>\n",
       "      <td>48.5</td>\n",
       "      <td>1026.0</td>\n",
       "      <td>4724.0</td>\n",
       "    </tr>\n",
       "    <tr>\n",
       "      <th>4</th>\n",
       "      <td>Chennai</td>\n",
       "      <td>Perungalathur Chennai Bypass Road</td>\n",
       "      <td>Flat</td>\n",
       "      <td>2.0</td>\n",
       "      <td>Unfurnish</td>\n",
       "      <td>New Property</td>\n",
       "      <td>Possession by Jul '22</td>\n",
       "      <td>44.0</td>\n",
       "      <td>903.0</td>\n",
       "      <td>4877.0</td>\n",
       "    </tr>\n",
       "  </tbody>\n",
       "</table>\n",
       "</div>"
      ],
      "text/plain": [
       "  Location                               Area  Type  BHK    Furnish  \\\n",
       "0  Chennai                           Perambur  Flat  2.0  Unfurnish   \n",
       "1  Chennai                      Thirumazhisai  Flat  1.0  Unfurnish   \n",
       "2  Chennai                        Perumbakkam  Flat  2.0    Furnish   \n",
       "3  Chennai                          Thalambur  Flat  2.0  Unfurnish   \n",
       "4  Chennai  Perungalathur Chennai Bypass Road  Flat  2.0  Unfurnish   \n",
       "\n",
       "    Transaction                 Status  Price_Lac  Area_Sqft  Price/Sqft  \n",
       "0  New Property  Possession by Dec '21       90.0     1100.0      8182.0  \n",
       "1  New Property  Possession by Dec '23       29.7      544.0      5450.0  \n",
       "2  New Property  Possession by Sep '23       28.6      796.0      3599.0  \n",
       "3  New Property  Possession by Mar '24       48.5     1026.0      4724.0  \n",
       "4  New Property  Possession by Jul '22       44.0      903.0      4877.0  "
      ]
     },
     "execution_count": 27,
     "metadata": {},
     "output_type": "execute_result"
    }
   ],
   "source": [
    "Property.drop(columns = ['Sqft','PriceperSqrt','Price'],inplace=True)\n",
    "Property.head()"
   ]
  },
  {
   "cell_type": "markdown",
   "id": "038762b8",
   "metadata": {},
   "source": [
    "# Descriptive Statistics"
   ]
  },
  {
   "cell_type": "markdown",
   "id": "60f1da9e",
   "metadata": {},
   "source": [
    "## Exploratory Data Analysis (EDA)"
   ]
  },
  {
   "cell_type": "code",
   "execution_count": 28,
   "id": "6f2059d0",
   "metadata": {},
   "outputs": [],
   "source": [
    "#Creating a data Frame to work on analysing statistical measures\n",
    "df = Property.copy(deep=True)"
   ]
  },
  {
   "cell_type": "code",
   "execution_count": 29,
   "id": "e36014bf",
   "metadata": {},
   "outputs": [],
   "source": [
    "df.reset_index(drop=True,inplace=True)"
   ]
  },
  {
   "cell_type": "code",
   "execution_count": 30,
   "id": "4eb76d90",
   "metadata": {},
   "outputs": [],
   "source": [
    "def Datetime(date_):\n",
    "    if date_ == 'Ready to Move':\n",
    "        return calendar.month_abbr[date.today().month]+' '+str(date.today().year)\n",
    "    else:\n",
    "        yearstr = ''.join(re.findall(r'\\w{3}\\s.\\d\\d',date_)).replace(\"'\",'').split(' ')\n",
    "        return yearstr[0]+' '+str(datetime.strptime(yearstr[1],'%y').year)"
   ]
  },
  {
   "cell_type": "code",
   "execution_count": 31,
   "id": "2dd1cb8f",
   "metadata": {},
   "outputs": [],
   "source": [
    "df.Status = df.Status.apply(lambda x: Datetime(x))"
   ]
  },
  {
   "cell_type": "code",
   "execution_count": 32,
   "id": "c010dcb8",
   "metadata": {},
   "outputs": [],
   "source": [
    "#Create a csv file of the data which can be used for calculation purpose\n",
    "df.to_csv('Property_'+City[0]+'-'+City[1]+'_CalData.csv',index=False)"
   ]
  },
  {
   "cell_type": "code",
   "execution_count": 33,
   "id": "2c7303c2",
   "metadata": {},
   "outputs": [
    {
     "data": {
      "text/html": [
       "<div>\n",
       "<style scoped>\n",
       "    .dataframe tbody tr th:only-of-type {\n",
       "        vertical-align: middle;\n",
       "    }\n",
       "\n",
       "    .dataframe tbody tr th {\n",
       "        vertical-align: top;\n",
       "    }\n",
       "\n",
       "    .dataframe thead th {\n",
       "        text-align: right;\n",
       "    }\n",
       "</style>\n",
       "<table border=\"1\" class=\"dataframe\">\n",
       "  <thead>\n",
       "    <tr style=\"text-align: right;\">\n",
       "      <th></th>\n",
       "      <th>Location</th>\n",
       "      <th>Area</th>\n",
       "      <th>Type</th>\n",
       "      <th>BHK</th>\n",
       "      <th>Furnish</th>\n",
       "      <th>Transaction</th>\n",
       "      <th>Status</th>\n",
       "      <th>Price_Lac</th>\n",
       "      <th>Area_Sqft</th>\n",
       "      <th>Price/Sqft</th>\n",
       "      <th>SS</th>\n",
       "    </tr>\n",
       "  </thead>\n",
       "  <tbody>\n",
       "    <tr>\n",
       "      <th>0</th>\n",
       "      <td>Chennai</td>\n",
       "      <td>Perambur</td>\n",
       "      <td>Flat</td>\n",
       "      <td>2.0</td>\n",
       "      <td>Unfurnish</td>\n",
       "      <td>New Property</td>\n",
       "      <td>Dec 2021</td>\n",
       "      <td>90.0</td>\n",
       "      <td>1100.0</td>\n",
       "      <td>8182.0</td>\n",
       "      <td>False</td>\n",
       "    </tr>\n",
       "    <tr>\n",
       "      <th>1</th>\n",
       "      <td>Chennai</td>\n",
       "      <td>Thirumazhisai</td>\n",
       "      <td>Flat</td>\n",
       "      <td>1.0</td>\n",
       "      <td>Unfurnish</td>\n",
       "      <td>New Property</td>\n",
       "      <td>Dec 2023</td>\n",
       "      <td>29.7</td>\n",
       "      <td>544.0</td>\n",
       "      <td>5450.0</td>\n",
       "      <td>True</td>\n",
       "    </tr>\n",
       "    <tr>\n",
       "      <th>2</th>\n",
       "      <td>Chennai</td>\n",
       "      <td>Perumbakkam</td>\n",
       "      <td>Flat</td>\n",
       "      <td>2.0</td>\n",
       "      <td>Furnish</td>\n",
       "      <td>New Property</td>\n",
       "      <td>Sep 2023</td>\n",
       "      <td>28.6</td>\n",
       "      <td>796.0</td>\n",
       "      <td>3599.0</td>\n",
       "      <td>True</td>\n",
       "    </tr>\n",
       "    <tr>\n",
       "      <th>3</th>\n",
       "      <td>Chennai</td>\n",
       "      <td>Thalambur</td>\n",
       "      <td>Flat</td>\n",
       "      <td>2.0</td>\n",
       "      <td>Unfurnish</td>\n",
       "      <td>New Property</td>\n",
       "      <td>Mar 2024</td>\n",
       "      <td>48.5</td>\n",
       "      <td>1026.0</td>\n",
       "      <td>4724.0</td>\n",
       "      <td>False</td>\n",
       "    </tr>\n",
       "    <tr>\n",
       "      <th>4</th>\n",
       "      <td>Chennai</td>\n",
       "      <td>Perungalathur Chennai Bypass Road</td>\n",
       "      <td>Flat</td>\n",
       "      <td>2.0</td>\n",
       "      <td>Unfurnish</td>\n",
       "      <td>New Property</td>\n",
       "      <td>Jul 2022</td>\n",
       "      <td>44.0</td>\n",
       "      <td>903.0</td>\n",
       "      <td>4877.0</td>\n",
       "      <td>False</td>\n",
       "    </tr>\n",
       "    <tr>\n",
       "      <th>...</th>\n",
       "      <td>...</td>\n",
       "      <td>...</td>\n",
       "      <td>...</td>\n",
       "      <td>...</td>\n",
       "      <td>...</td>\n",
       "      <td>...</td>\n",
       "      <td>...</td>\n",
       "      <td>...</td>\n",
       "      <td>...</td>\n",
       "      <td>...</td>\n",
       "      <td>...</td>\n",
       "    </tr>\n",
       "    <tr>\n",
       "      <th>570</th>\n",
       "      <td>Mumbai</td>\n",
       "      <td>inVile Parle East</td>\n",
       "      <td>Villa</td>\n",
       "      <td>1.0</td>\n",
       "      <td>Unfurnish</td>\n",
       "      <td>Old Property</td>\n",
       "      <td>Dec 2021</td>\n",
       "      <td>55.0</td>\n",
       "      <td>350.0</td>\n",
       "      <td>15714.0</td>\n",
       "      <td>False</td>\n",
       "    </tr>\n",
       "    <tr>\n",
       "      <th>571</th>\n",
       "      <td>Mumbai</td>\n",
       "      <td>inBolinj</td>\n",
       "      <td>Villa</td>\n",
       "      <td>4.0</td>\n",
       "      <td>Furnish</td>\n",
       "      <td>Old Property</td>\n",
       "      <td>Dec 2021</td>\n",
       "      <td>145.0</td>\n",
       "      <td>2500.0</td>\n",
       "      <td>5800.0</td>\n",
       "      <td>False</td>\n",
       "    </tr>\n",
       "    <tr>\n",
       "      <th>572</th>\n",
       "      <td>Mumbai</td>\n",
       "      <td>inPushpa Park</td>\n",
       "      <td>Villa</td>\n",
       "      <td>1.0</td>\n",
       "      <td>Unfurnish</td>\n",
       "      <td>Old Property</td>\n",
       "      <td>Dec 2021</td>\n",
       "      <td>36.0</td>\n",
       "      <td>200.0</td>\n",
       "      <td>18000.0</td>\n",
       "      <td>False</td>\n",
       "    </tr>\n",
       "    <tr>\n",
       "      <th>573</th>\n",
       "      <td>Mumbai</td>\n",
       "      <td>inMadh Village</td>\n",
       "      <td>Villa</td>\n",
       "      <td>5.0</td>\n",
       "      <td>Unfurnish</td>\n",
       "      <td>Old Property</td>\n",
       "      <td>Dec 2021</td>\n",
       "      <td>50.0</td>\n",
       "      <td>1080.0</td>\n",
       "      <td>4630.0</td>\n",
       "      <td>False</td>\n",
       "    </tr>\n",
       "    <tr>\n",
       "      <th>574</th>\n",
       "      <td>Mumbai</td>\n",
       "      <td>inKurar Village</td>\n",
       "      <td>Villa</td>\n",
       "      <td>1.0</td>\n",
       "      <td>Unfurnish</td>\n",
       "      <td>Old Property</td>\n",
       "      <td>Dec 2021</td>\n",
       "      <td>22.0</td>\n",
       "      <td>235.0</td>\n",
       "      <td>9362.0</td>\n",
       "      <td>False</td>\n",
       "    </tr>\n",
       "  </tbody>\n",
       "</table>\n",
       "<p>575 rows × 11 columns</p>\n",
       "</div>"
      ],
      "text/plain": [
       "    Location                               Area   Type  BHK    Furnish  \\\n",
       "0    Chennai                           Perambur   Flat  2.0  Unfurnish   \n",
       "1    Chennai                      Thirumazhisai   Flat  1.0  Unfurnish   \n",
       "2    Chennai                        Perumbakkam   Flat  2.0    Furnish   \n",
       "3    Chennai                          Thalambur   Flat  2.0  Unfurnish   \n",
       "4    Chennai  Perungalathur Chennai Bypass Road   Flat  2.0  Unfurnish   \n",
       "..       ...                                ...    ...  ...        ...   \n",
       "570   Mumbai                  inVile Parle East  Villa  1.0  Unfurnish   \n",
       "571   Mumbai                           inBolinj  Villa  4.0    Furnish   \n",
       "572   Mumbai                      inPushpa Park  Villa  1.0  Unfurnish   \n",
       "573   Mumbai                     inMadh Village  Villa  5.0  Unfurnish   \n",
       "574   Mumbai                    inKurar Village  Villa  1.0  Unfurnish   \n",
       "\n",
       "      Transaction    Status  Price_Lac  Area_Sqft  Price/Sqft     SS  \n",
       "0    New Property  Dec 2021       90.0     1100.0      8182.0  False  \n",
       "1    New Property  Dec 2023       29.7      544.0      5450.0   True  \n",
       "2    New Property  Sep 2023       28.6      796.0      3599.0   True  \n",
       "3    New Property  Mar 2024       48.5     1026.0      4724.0  False  \n",
       "4    New Property  Jul 2022       44.0      903.0      4877.0  False  \n",
       "..            ...       ...        ...        ...         ...    ...  \n",
       "570  Old Property  Dec 2021       55.0      350.0     15714.0  False  \n",
       "571  Old Property  Dec 2021      145.0     2500.0      5800.0  False  \n",
       "572  Old Property  Dec 2021       36.0      200.0     18000.0  False  \n",
       "573  Old Property  Dec 2021       50.0     1080.0      4630.0  False  \n",
       "574  Old Property  Dec 2021       22.0      235.0      9362.0  False  \n",
       "\n",
       "[575 rows x 11 columns]"
      ]
     },
     "execution_count": 33,
     "metadata": {},
     "output_type": "execute_result"
    }
   ],
   "source": [
    "TorF = []\n",
    "for i in df.index:\n",
    "    TorF.append(datetime.strptime(df.Status[i],'%b %Y').year > 2021 and datetime.strptime(df.Status[i],'%b %Y').month > 7)\n",
    "df['SS'] = TorF\n",
    "df"
   ]
  },
  {
   "cell_type": "code",
   "execution_count": 34,
   "id": "64e2bb59",
   "metadata": {},
   "outputs": [
    {
     "data": {
      "text/plain": [
       "Location         2\n",
       "Area           371\n",
       "Type             2\n",
       "BHK              5\n",
       "Furnish          2\n",
       "Transaction      2\n",
       "Status          39\n",
       "Price_Lac      253\n",
       "Area_Sqft      371\n",
       "Price/Sqft     526\n",
       "SS               2\n",
       "dtype: int64"
      ]
     },
     "execution_count": 34,
     "metadata": {},
     "output_type": "execute_result"
    }
   ],
   "source": [
    "df.nunique()"
   ]
  },
  {
   "cell_type": "code",
   "execution_count": 35,
   "id": "033d2686",
   "metadata": {},
   "outputs": [
    {
     "name": "stdout",
     "output_type": "stream",
     "text": [
      "<class 'pandas.core.frame.DataFrame'>\n",
      "RangeIndex: 575 entries, 0 to 574\n",
      "Data columns (total 11 columns):\n",
      " #   Column       Non-Null Count  Dtype  \n",
      "---  ------       --------------  -----  \n",
      " 0   Location     575 non-null    object \n",
      " 1   Area         575 non-null    object \n",
      " 2   Type         575 non-null    object \n",
      " 3   BHK          575 non-null    float64\n",
      " 4   Furnish      575 non-null    object \n",
      " 5   Transaction  575 non-null    object \n",
      " 6   Status       575 non-null    object \n",
      " 7   Price_Lac    575 non-null    float64\n",
      " 8   Area_Sqft    575 non-null    float64\n",
      " 9   Price/Sqft   575 non-null    float64\n",
      " 10  SS           575 non-null    bool   \n",
      "dtypes: bool(1), float64(4), object(6)\n",
      "memory usage: 45.6+ KB\n"
     ]
    }
   ],
   "source": [
    "df.info()"
   ]
  },
  {
   "cell_type": "markdown",
   "id": "cc4c170c",
   "metadata": {},
   "source": [
    "## What is the percentage of Flats that are Unfurnished ?"
   ]
  },
  {
   "cell_type": "code",
   "execution_count": 36,
   "id": "5013000b",
   "metadata": {},
   "outputs": [
    {
     "data": {
      "text/plain": [
       "67.40088105726872"
      ]
     },
     "execution_count": 36,
     "metadata": {},
     "output_type": "execute_result"
    }
   ],
   "source": [
    "#Percentage of Flat Type Realestate that is furnished\n",
    "per = len(df[df.Type =='Flat'][df[df.Type =='Flat'].Furnish=='Unfurnish'])/len(df[df.Type =='Flat']) * 100\n",
    "per"
   ]
  },
  {
   "cell_type": "markdown",
   "id": "d88f4627",
   "metadata": {},
   "source": [
    "## What is the percentage of Villas that are Furnished ?"
   ]
  },
  {
   "cell_type": "code",
   "execution_count": 37,
   "id": "902f63f0",
   "metadata": {},
   "outputs": [
    {
     "data": {
      "text/plain": [
       "31.40495867768595"
      ]
     },
     "execution_count": 37,
     "metadata": {},
     "output_type": "execute_result"
    }
   ],
   "source": [
    "#Percentage of Villa Type Realestate that is furnished\n",
    "len(df[df.Type =='Villa'][df[df.Type =='Villa'].Furnish=='Furnish'])/len(df[df.Type =='Villa']) * 100"
   ]
  },
  {
   "cell_type": "markdown",
   "id": "520762dc",
   "metadata": {},
   "source": [
    "## What are the percentages of Flats/Villas that are Unfurnished/Furnished ?"
   ]
  },
  {
   "cell_type": "code",
   "execution_count": 38,
   "id": "2e5053d4",
   "metadata": {},
   "outputs": [
    {
     "data": {
      "text/plain": [
       "Type   Furnish  \n",
       "Flat   Unfurnish    0.674009\n",
       "       Furnish      0.325991\n",
       "Villa  Unfurnish    0.685950\n",
       "       Furnish      0.314050\n",
       "Name: Furnish, dtype: float64"
      ]
     },
     "execution_count": 38,
     "metadata": {},
     "output_type": "execute_result"
    }
   ],
   "source": [
    "#Percentage of all Type of Realestate that are furnished/Unfurnished\n",
    "df.groupby(df.Type)['Furnish'].value_counts(normalize = True)"
   ]
  },
  {
   "cell_type": "code",
   "execution_count": 39,
   "id": "3285e6bd",
   "metadata": {},
   "outputs": [
    {
     "data": {
      "text/html": [
       "<div>\n",
       "<style scoped>\n",
       "    .dataframe tbody tr th:only-of-type {\n",
       "        vertical-align: middle;\n",
       "    }\n",
       "\n",
       "    .dataframe tbody tr th {\n",
       "        vertical-align: top;\n",
       "    }\n",
       "\n",
       "    .dataframe thead th {\n",
       "        text-align: right;\n",
       "    }\n",
       "</style>\n",
       "<table border=\"1\" class=\"dataframe\">\n",
       "  <thead>\n",
       "    <tr style=\"text-align: right;\">\n",
       "      <th></th>\n",
       "      <th>BHK</th>\n",
       "      <th>Price_Lac</th>\n",
       "      <th>Area_Sqft</th>\n",
       "      <th>Price/Sqft</th>\n",
       "    </tr>\n",
       "  </thead>\n",
       "  <tbody>\n",
       "    <tr>\n",
       "      <th>count</th>\n",
       "      <td>575.000000</td>\n",
       "      <td>575.000000</td>\n",
       "      <td>575.000000</td>\n",
       "      <td>575.000000</td>\n",
       "    </tr>\n",
       "    <tr>\n",
       "      <th>mean</th>\n",
       "      <td>2.133913</td>\n",
       "      <td>81.949739</td>\n",
       "      <td>911.714783</td>\n",
       "      <td>11027.618070</td>\n",
       "    </tr>\n",
       "    <tr>\n",
       "      <th>std</th>\n",
       "      <td>0.797086</td>\n",
       "      <td>40.539880</td>\n",
       "      <td>424.965486</td>\n",
       "      <td>7735.847973</td>\n",
       "    </tr>\n",
       "    <tr>\n",
       "      <th>min</th>\n",
       "      <td>1.000000</td>\n",
       "      <td>1.200000</td>\n",
       "      <td>150.000000</td>\n",
       "      <td>134.830000</td>\n",
       "    </tr>\n",
       "    <tr>\n",
       "      <th>25%</th>\n",
       "      <td>2.000000</td>\n",
       "      <td>50.000000</td>\n",
       "      <td>591.500000</td>\n",
       "      <td>5383.810000</td>\n",
       "    </tr>\n",
       "    <tr>\n",
       "      <th>50%</th>\n",
       "      <td>2.000000</td>\n",
       "      <td>72.600000</td>\n",
       "      <td>824.000000</td>\n",
       "      <td>7556.270000</td>\n",
       "    </tr>\n",
       "    <tr>\n",
       "      <th>75%</th>\n",
       "      <td>3.000000</td>\n",
       "      <td>105.000000</td>\n",
       "      <td>1198.000000</td>\n",
       "      <td>14550.590000</td>\n",
       "    </tr>\n",
       "    <tr>\n",
       "      <th>max</th>\n",
       "      <td>5.000000</td>\n",
       "      <td>198.000000</td>\n",
       "      <td>2500.000000</td>\n",
       "      <td>39726.030000</td>\n",
       "    </tr>\n",
       "  </tbody>\n",
       "</table>\n",
       "</div>"
      ],
      "text/plain": [
       "              BHK   Price_Lac    Area_Sqft    Price/Sqft\n",
       "count  575.000000  575.000000   575.000000    575.000000\n",
       "mean     2.133913   81.949739   911.714783  11027.618070\n",
       "std      0.797086   40.539880   424.965486   7735.847973\n",
       "min      1.000000    1.200000   150.000000    134.830000\n",
       "25%      2.000000   50.000000   591.500000   5383.810000\n",
       "50%      2.000000   72.600000   824.000000   7556.270000\n",
       "75%      3.000000  105.000000  1198.000000  14550.590000\n",
       "max      5.000000  198.000000  2500.000000  39726.030000"
      ]
     },
     "execution_count": 39,
     "metadata": {},
     "output_type": "execute_result"
    }
   ],
   "source": [
    "#Statistical measure of the whole DataFrame\n",
    "df.describe()"
   ]
  },
  {
   "cell_type": "markdown",
   "id": "7ffbaa3d",
   "metadata": {},
   "source": [
    "## Which of the two cities is expensive to buy property (Flat/Villa) ?"
   ]
  },
  {
   "cell_type": "code",
   "execution_count": 40,
   "id": "741fb2ac",
   "metadata": {},
   "outputs": [
    {
     "data": {
      "text/plain": [
       "Location  Type \n",
       "Chennai   Flat      6518.565522\n",
       "          Villa     6311.520417\n",
       "Mumbai    Flat     20023.661075\n",
       "          Villa    10543.916400\n",
       "Name: Price/Sqft, dtype: float64"
      ]
     },
     "execution_count": 40,
     "metadata": {},
     "output_type": "execute_result"
    }
   ],
   "source": [
    "#Finding the mean Price/Sqft of RealEstate in every Location Scraped data\n",
    "df.groupby(['Location','Type'])['Price/Sqft'].mean()"
   ]
  },
  {
   "cell_type": "markdown",
   "id": "ef10df7a",
   "metadata": {},
   "source": [
    "# Data Visualization\n"
   ]
  },
  {
   "cell_type": "markdown",
   "id": "85701171",
   "metadata": {},
   "source": [
    "## I. Univariate Analysis"
   ]
  },
  {
   "cell_type": "code",
   "execution_count": 41,
   "id": "755463e3",
   "metadata": {},
   "outputs": [
    {
     "data": {
      "text/plain": [
       "<Figure size 576x432 with 0 Axes>"
      ]
     },
     "execution_count": 41,
     "metadata": {},
     "output_type": "execute_result"
    },
    {
     "data": {
      "text/plain": [
       "<AxesSubplot:xlabel='count', ylabel='Location'>"
      ]
     },
     "execution_count": 41,
     "metadata": {},
     "output_type": "execute_result"
    },
    {
     "data": {
      "image/png": "[encoded data removed]",
      "text/plain": [
       "<Figure size 576x432 with 1 Axes>"
      ]
     },
     "metadata": {
      "needs_background": "light"
     },
     "output_type": "display_data"
    }
   ],
   "source": [
    "#Creating a plot that counts the totla number of Real Estate data collected for every location\n",
    "plt.figure(figsize = (8,6))\n",
    "sns.countplot(y=df.Location)\n",
    "plt.savefig('plot1n .png', dpi = 1000)"
   ]
  },
  {
   "cell_type": "markdown",
   "id": "953e985a",
   "metadata": {},
   "source": [
    "## What is the total count of Flat and Villa in the dataset ?"
   ]
  },
  {
   "cell_type": "code",
   "execution_count": 42,
   "id": "178fc92f",
   "metadata": {},
   "outputs": [
    {
     "data": {
      "text/plain": [
       "<Figure size 720x504 with 0 Axes>"
      ]
     },
     "execution_count": 42,
     "metadata": {},
     "output_type": "execute_result"
    },
    {
     "data": {
      "text/plain": [
       "<AxesSubplot:xlabel='Type', ylabel='count'>"
      ]
     },
     "execution_count": 42,
     "metadata": {},
     "output_type": "execute_result"
    },
    {
     "data": {
      "image/png": "[encoded data removed]",
      "text/plain": [
       "<Figure size 720x504 with 1 Axes>"
      ]
     },
     "metadata": {
      "needs_background": "light"
     },
     "output_type": "display_data"
    },
    {
     "data": {
      "text/plain": [
       "<Figure size 432x288 with 0 Axes>"
      ]
     },
     "metadata": {},
     "output_type": "display_data"
    }
   ],
   "source": [
    "#Creating a custom seaborn plot(template) to count the No of Real Estate of different Type\n",
    "plt.figure(figsize=(10,7))\n",
    "sns.set(rc={\"axes.facecolor\":\"#283747\", \"axes.grid\":False,'xtick.labelsize':14,'ytick.labelsize':14})\n",
    "sns.countplot(df.Type, order=df.Type.value_counts(ascending = True).index)\n",
    "plt.show()\n",
    "plt.savefig('plot4.png', dpi = 1000)"
   ]
  },
  {
   "cell_type": "markdown",
   "id": "38fb2dfc",
   "metadata": {},
   "source": [
    "## Plots to determine Outliers\n",
    "<ul>\n",
    "    <li>Box Plot</li>\n",
    "    <li>Density Plot</li>\n",
    "</ul>"
   ]
  },
  {
   "cell_type": "markdown",
   "id": "54dce5f3",
   "metadata": {},
   "source": [
    "## 1. Box Plot"
   ]
  },
  {
   "cell_type": "markdown",
   "id": "753e0651",
   "metadata": {},
   "source": [
    "## What are the Inter Quartile Range of Price of both RealEstate ?"
   ]
  },
  {
   "cell_type": "code",
   "execution_count": 43,
   "id": "a32d5189",
   "metadata": {
    "scrolled": false
   },
   "outputs": [
    {
     "data": {
      "text/plain": [
       "<Figure size 660x440 with 0 Axes>"
      ]
     },
     "execution_count": 43,
     "metadata": {},
     "output_type": "execute_result"
    },
    {
     "data": {
      "text/plain": [
       "Text(0.5, 1.0, 'Chennai')"
      ]
     },
     "execution_count": 43,
     "metadata": {},
     "output_type": "execute_result"
    },
    {
     "data": {
      "text/plain": [
       "<AxesSubplot:title={'center':'Chennai'}, xlabel='Price_Lac'>"
      ]
     },
     "execution_count": 43,
     "metadata": {},
     "output_type": "execute_result"
    },
    {
     "data": {
      "text/plain": [
       "<Figure size 660x440 with 0 Axes>"
      ]
     },
     "execution_count": 43,
     "metadata": {},
     "output_type": "execute_result"
    },
    {
     "data": {
      "text/plain": [
       "Text(0.5, 1.0, 'Mumbai')"
      ]
     },
     "execution_count": 43,
     "metadata": {},
     "output_type": "execute_result"
    },
    {
     "data": {
      "text/plain": [
       "<AxesSubplot:title={'center':'Mumbai'}, xlabel='Price_Lac'>"
      ]
     },
     "execution_count": 43,
     "metadata": {},
     "output_type": "execute_result"
    },
    {
     "data": {
      "image/png": "[encoded data removed]",
      "text/plain": [
       "<Figure size 660x440 with 1 Axes>"
      ]
     },
     "metadata": {
      "needs_background": "light"
     },
     "output_type": "display_data"
    },
    {
     "data": {
      "image/png": "[encoded data removed]",
      "text/plain": [
       "<Figure size 660x440 with 1 Axes>"
      ]
     },
     "metadata": {
      "needs_background": "light"
     },
     "output_type": "display_data"
    }
   ],
   "source": [
    "#Reseting the seaborn settings from custom to default\n",
    "sns.reset_orig()\n",
    "# Creating a boxplot to verify where most of the collected Real Estate price i.e. Scraped\n",
    "plt.figure(dpi = 110)\n",
    "plt.title(City[0])\n",
    "sns.boxplot(data = df[df.Location==City[0]],x ='Price_Lac',color='r')\n",
    "plt.figure(dpi = 110)\n",
    "plt.title(City[1])\n",
    "sns.boxplot(data = df[df.Location==City[1]],x ='Price_Lac',color='b')\n",
    "plt.savefig('plot6.png', dpi = 1000)"
   ]
  },
  {
   "cell_type": "markdown",
   "id": "46d12089",
   "metadata": {},
   "source": [
    "## 2. Density Plot"
   ]
  },
  {
   "cell_type": "code",
   "execution_count": 44,
   "id": "6b71734a",
   "metadata": {
    "scrolled": false
   },
   "outputs": [
    {
     "data": {
      "text/plain": [
       "<Figure size 660x440 with 0 Axes>"
      ]
     },
     "execution_count": 44,
     "metadata": {},
     "output_type": "execute_result"
    },
    {
     "data": {
      "text/plain": [
       "<AxesSubplot:xlabel='Price_Lac', ylabel='Density'>"
      ]
     },
     "execution_count": 44,
     "metadata": {},
     "output_type": "execute_result"
    },
    {
     "data": {
      "image/png": "[encoded data removed]",
      "text/plain": [
       "<Figure size 660x440 with 1 Axes>"
      ]
     },
     "metadata": {
      "needs_background": "light"
     },
     "output_type": "display_data"
    }
   ],
   "source": [
    "# Density plot for the same purpose as before\n",
    "plt.figure(dpi = 110)\n",
    "sns.kdeplot(data = df,x ='Price_Lac',hue='Location')\n",
    "plt.savefig('plot7.png', dpi = 1000)"
   ]
  },
  {
   "cell_type": "code",
   "execution_count": 45,
   "id": "304751a7",
   "metadata": {},
   "outputs": [
    {
     "data": {
      "text/plain": [
       "<Figure size 360x360 with 0 Axes>"
      ]
     },
     "execution_count": 45,
     "metadata": {},
     "output_type": "execute_result"
    },
    {
     "data": {
      "text/plain": [
       "([<matplotlib.patches.Wedge at 0x7fd78a83df10>,\n",
       "  <matplotlib.patches.Wedge at 0x7fd78ba51d60>,\n",
       "  <matplotlib.patches.Wedge at 0x7fd78a8e3070>,\n",
       "  <matplotlib.patches.Wedge at 0x7fd78a8b26a0>,\n",
       "  <matplotlib.patches.Wedge at 0x7fd78a8d4e20>],\n",
       " [Text(0.13488478963123118, 1.091698719210634, '2.0'),\n",
       "  Text(-0.8570625835757864, -0.6895242764648671, '3.0'),\n",
       "  Text(0.7240557326339653, -0.8280961876738063, '1.0'),\n",
       "  Text(1.0940783235965807, -0.11398518252867691, '4.0'),\n",
       "  Text(1.0997373163358684, -0.024038199982165578, '5.0')],\n",
       " [Text(0.07357352161703518, 0.5954720286603458, '46.09%'),\n",
       "  Text(-0.4674886819504288, -0.3761041507990184, '29.39%'),\n",
       "  Text(0.3949394905276174, -0.4516888296402579, '21.91%'),\n",
       "  Text(0.596769994689044, -0.062173735924732854, '1.91%'),\n",
       "  Text(0.5998567180013826, -0.013111745444817587, '0.70%')])"
      ]
     },
     "execution_count": 45,
     "metadata": {},
     "output_type": "execute_result"
    },
    {
     "data": {
      "image/png": "[encoded data removed]",
      "text/plain": [
       "<Figure size 360x360 with 1 Axes>"
      ]
     },
     "metadata": {},
     "output_type": "display_data"
    }
   ],
   "source": [
    "plt.figure(figsize = (5,5))\n",
    "plt.pie(df.BHK.value_counts(), labels = df.BHK.value_counts().index, autopct = '%.2f%%')\n",
    "plt.savefig('plot10.png', dpi = 1000)"
   ]
  },
  {
   "cell_type": "code",
   "execution_count": 46,
   "id": "07fd0fa8",
   "metadata": {},
   "outputs": [
    {
     "data": {
      "text/plain": [
       "<Figure size 360x360 with 0 Axes>"
      ]
     },
     "execution_count": 46,
     "metadata": {},
     "output_type": "execute_result"
    },
    {
     "data": {
      "text/plain": [
       "([<matplotlib.patches.Wedge at 0x7fd78b3b9220>,\n",
       "  <matplotlib.patches.Wedge at 0x7fd74809e0d0>],\n",
       " [Text(-0.3399187721714582, 1.046162142464278, 'New Property'),\n",
       "  Text(0.3399188701202255, -1.0461621106387813, 'Old Property')],\n",
       " [Text(-0.18541023936624992, 0.5706338958896061, '60.00%'),\n",
       "  Text(0.18541029279285026, -0.5706338785302443, '40.00%')])"
      ]
     },
     "execution_count": 46,
     "metadata": {},
     "output_type": "execute_result"
    },
    {
     "data": {
      "image/png": "[encoded data removed]",
      "text/plain": [
       "<Figure size 360x360 with 1 Axes>"
      ]
     },
     "metadata": {},
     "output_type": "display_data"
    }
   ],
   "source": [
    "plt.figure(figsize = (5,5))\n",
    "plt.pie(df.Transaction.value_counts(), labels = df.Transaction.value_counts().index, autopct = '%.2f%%')\n",
    "plt.savefig('plot10.png', dpi = 1000)"
   ]
  },
  {
   "cell_type": "markdown",
   "id": "e3a8467e",
   "metadata": {},
   "source": [
    "## II. Bivariate Analysis"
   ]
  },
  {
   "cell_type": "markdown",
   "id": "b6ce3212",
   "metadata": {},
   "source": [
    "## What is the mean Price to buy Real Estate in both cities ?"
   ]
  },
  {
   "cell_type": "code",
   "execution_count": 47,
   "id": "95cffe70",
   "metadata": {},
   "outputs": [
    {
     "data": {
      "text/plain": [
       "<Figure size 660x440 with 0 Axes>"
      ]
     },
     "execution_count": 47,
     "metadata": {},
     "output_type": "execute_result"
    },
    {
     "data": {
      "text/plain": [
       "<AxesSubplot:xlabel='Price_Lac', ylabel='Location'>"
      ]
     },
     "execution_count": 47,
     "metadata": {},
     "output_type": "execute_result"
    },
    {
     "data": {
      "image/png": "[encoded data removed]",
      "text/plain": [
       "<Figure size 660x440 with 1 Axes>"
      ]
     },
     "metadata": {
      "needs_background": "light"
     },
     "output_type": "display_data"
    }
   ],
   "source": [
    "#Creating a barplot that shows the mean Price of Real Estate of various Locations\n",
    "plt.figure(dpi = 110)\n",
    "sns.barplot(y = df.Location,x= df.Price_Lac)\n",
    "plt.savefig('plot5.png', dpi = 1000)"
   ]
  },
  {
   "cell_type": "markdown",
   "id": "0333c3e8",
   "metadata": {},
   "source": [
    "## How is the Flat Price compared between two cities ?"
   ]
  },
  {
   "cell_type": "code",
   "execution_count": 48,
   "id": "b99e0848",
   "metadata": {},
   "outputs": [],
   "source": [
    "a = df[df.BHK==2.0]"
   ]
  },
  {
   "cell_type": "code",
   "execution_count": 49,
   "id": "ebe3b62b",
   "metadata": {},
   "outputs": [
    {
     "data": {
      "text/plain": [
       "<Figure size 660x440 with 0 Axes>"
      ]
     },
     "execution_count": 49,
     "metadata": {},
     "output_type": "execute_result"
    },
    {
     "data": {
      "text/plain": [
       "Text(0.5, 1.0, 'Chennai/Mumbai')"
      ]
     },
     "execution_count": 49,
     "metadata": {},
     "output_type": "execute_result"
    },
    {
     "data": {
      "text/plain": [
       "<AxesSubplot:title={'center':'Chennai/Mumbai'}, xlabel='Area_Sqft', ylabel='Price_Lac'>"
      ]
     },
     "execution_count": 49,
     "metadata": {},
     "output_type": "execute_result"
    },
    {
     "data": {
      "image/png": "[encoded data removed]",
      "text/plain": [
       "<Figure size 660x440 with 1 Axes>"
      ]
     },
     "metadata": {
      "needs_background": "light"
     },
     "output_type": "display_data"
    }
   ],
   "source": [
    "# Create Plot between Location and Price/Sqft for different Type of Real estate\n",
    "plt.figure(dpi = 110)\n",
    "plt.title(City[0]+'/'+City[1])\n",
    "sns.scatterplot(a[a.Type=='Flat'].Area_Sqft,a[a.Type=='Flat'].Price_Lac, hue = a[a.Type=='Flat'].Location)\n",
    "plt.savefig('plot8.png', dpi = 1000)"
   ]
  },
  {
   "cell_type": "markdown",
   "id": "38bd3682",
   "metadata": {},
   "source": [
    "## Demonstrating it in violin plot"
   ]
  },
  {
   "cell_type": "code",
   "execution_count": 50,
   "id": "ab3822a4",
   "metadata": {},
   "outputs": [
    {
     "data": {
      "text/plain": [
       "<Figure size 1000x500 with 0 Axes>"
      ]
     },
     "execution_count": 50,
     "metadata": {},
     "output_type": "execute_result"
    },
    {
     "data": {
      "text/plain": [
       "<AxesSubplot:xlabel='Type', ylabel='Price_Lac'>"
      ]
     },
     "execution_count": 50,
     "metadata": {},
     "output_type": "execute_result"
    },
    {
     "data": {
      "text/plain": [
       "(array([0, 1]), [Text(0, 0, 'Flat'), Text(1, 0, 'Villa')])"
      ]
     },
     "execution_count": 50,
     "metadata": {},
     "output_type": "execute_result"
    },
    {
     "data": {
      "image/png": "[encoded data removed]",
      "text/plain": [
       "<Figure size 1000x500 with 1 Axes>"
      ]
     },
     "metadata": {
      "needs_background": "light"
     },
     "output_type": "display_data"
    }
   ],
   "source": [
    "#Create violin plot for different Location for Price/Sqft\n",
    "plt.figure(figsize=(10,5),dpi=100)\n",
    "sns.violinplot(y=df['Price_Lac'],x=df[df.Location==City[0]].Type)\n",
    "plt.xticks(rotation=90)\n",
    "plt.savefig('plot11.png', dpi = 1000)"
   ]
  },
  {
   "cell_type": "markdown",
   "id": "05811ca5",
   "metadata": {},
   "source": [
    "## How much does New Property cost in both cities comparatively ?"
   ]
  },
  {
   "cell_type": "code",
   "execution_count": 51,
   "id": "5b05b8a3",
   "metadata": {},
   "outputs": [
    {
     "data": {
      "text/plain": [
       "<matplotlib.collections.PathCollection at 0x7fd77a79d880>"
      ]
     },
     "execution_count": 51,
     "metadata": {},
     "output_type": "execute_result"
    },
    {
     "data": {
      "text/plain": [
       "<matplotlib.collections.PathCollection at 0x7fd77a79d820>"
      ]
     },
     "execution_count": 51,
     "metadata": {},
     "output_type": "execute_result"
    },
    {
     "data": {
      "image/png": "[encoded data removed]",
      "text/plain": [
       "<Figure size 1080x720 with 2 Axes>"
      ]
     },
     "metadata": {
      "needs_background": "light"
     },
     "output_type": "display_data"
    }
   ],
   "source": [
    "fig,plots = plt.subplots(2,1,figsize=(15,10))\n",
    "city1tran = df[df.Location==City[0]][df[df.Location==City[0]].Transaction=='New Property']\n",
    "city2tran = df[df.Location==City[1]][df[df.Location==City[1]].Transaction=='New Property']\n",
    "plots[0].scatter(city1tran.Area_Sqft,city1tran['Price_Lac'])\n",
    "plots[1].scatter(city2tran.Area_Sqft,city2tran['Price_Lac'])"
   ]
  },
  {
   "cell_type": "markdown",
   "id": "8604cc89",
   "metadata": {},
   "source": [
    "## How much does Villa cost in both the cities ? also find an approx. evaluation for new data !"
   ]
  },
  {
   "cell_type": "code",
   "execution_count": 52,
   "id": "4fac7168",
   "metadata": {},
   "outputs": [
    {
     "data": {
      "text/plain": [
       "<Figure size 720x432 with 0 Axes>"
      ]
     },
     "execution_count": 52,
     "metadata": {},
     "output_type": "execute_result"
    },
    {
     "data": {
      "text/plain": [
       "<seaborn.axisgrid.JointGrid at 0x7fd78b94eb20>"
      ]
     },
     "execution_count": 52,
     "metadata": {},
     "output_type": "execute_result"
    },
    {
     "data": {
      "text/plain": [
       "<seaborn.axisgrid.JointGrid at 0x7fd77a39bc70>"
      ]
     },
     "execution_count": 52,
     "metadata": {},
     "output_type": "execute_result"
    },
    {
     "data": {
      "text/plain": [
       "<Figure size 720x432 with 0 Axes>"
      ]
     },
     "metadata": {},
     "output_type": "display_data"
    },
    {
     "data": {
      "image/png": "[encoded data removed]",
      "text/plain": [
       "<Figure size 432x432 with 3 Axes>"
      ]
     },
     "metadata": {
      "needs_background": "light"
     },
     "output_type": "display_data"
    },
    {
     "data": {
      "image/png": "[encoded data removed]",
      "text/plain": [
       "<Figure size 432x432 with 3 Axes>"
      ]
     },
     "metadata": {
      "needs_background": "light"
     },
     "output_type": "display_data"
    }
   ],
   "source": [
    "#Show an increase in Price/Sqft with increace in\n",
    "plt.figure(figsize=(10,6))\n",
    "city1type = df[df.Location==City[0]][df[df.Location==City[0]].Type =='Villa']\n",
    "city2type = df[df.Location==City[1]][df[df.Location==City[1]].Type =='Villa']\n",
    "# chensqft\n",
    "# bangsqft\n",
    "sns.jointplot(city1type.Area_Sqft,city1type['Price_Lac'],color='m',kind = 'reg')\n",
    "sns.jointplot(city2type.Area_Sqft,city2type['Price_Lac'],color='y',kind = 'reg')\n",
    "plt.savefig('plot13.png', dpi = 1000)"
   ]
  },
  {
   "cell_type": "code",
   "execution_count": 53,
   "id": "abe40d46",
   "metadata": {},
   "outputs": [
    {
     "data": {
      "text/plain": [
       "<Figure size 1008x504 with 0 Axes>"
      ]
     },
     "execution_count": 53,
     "metadata": {},
     "output_type": "execute_result"
    },
    {
     "data": {
      "text/plain": [
       "Text(0.5, 1.0, 'Chennai')"
      ]
     },
     "execution_count": 53,
     "metadata": {},
     "output_type": "execute_result"
    },
    {
     "data": {
      "text/plain": [
       "<AxesSubplot:title={'center':'Chennai'}, xlabel='BHK', ylabel='Price_Lac'>"
      ]
     },
     "execution_count": 53,
     "metadata": {},
     "output_type": "execute_result"
    },
    {
     "data": {
      "image/png": "[encoded data removed]",
      "text/plain": [
       "<Figure size 1008x504 with 1 Axes>"
      ]
     },
     "metadata": {
      "needs_background": "light"
     },
     "output_type": "display_data"
    },
    {
     "data": {
      "text/plain": [
       "<Figure size 432x288 with 0 Axes>"
      ]
     },
     "metadata": {},
     "output_type": "display_data"
    }
   ],
   "source": [
    "#Create a custom seaborn plot between the Price/Sqft and Sqft for different Type of RealEstate\n",
    "plt.figure(figsize=(14,7))\n",
    "sns.set(rc={'xtick.labelsize':17,'ytick.labelsize':10,'axes.labelsize':15 , \"axes.grid\":False})\n",
    "plt.title(City[0])\n",
    "sns.lineplot(x='BHK' , y='Price_Lac',hue='Furnish', data = city1type[city1type.BHK<4.0],dashes = False,palette = 'CMRmap')\n",
    "plt.show()\n",
    "plt.savefig('plot12.png', dpi = 1000)"
   ]
  },
  {
   "cell_type": "code",
   "execution_count": 54,
   "id": "d796d79d",
   "metadata": {},
   "outputs": [
    {
     "data": {
      "text/html": [
       "<div>\n",
       "<style scoped>\n",
       "    .dataframe tbody tr th:only-of-type {\n",
       "        vertical-align: middle;\n",
       "    }\n",
       "\n",
       "    .dataframe tbody tr th {\n",
       "        vertical-align: top;\n",
       "    }\n",
       "\n",
       "    .dataframe thead th {\n",
       "        text-align: right;\n",
       "    }\n",
       "</style>\n",
       "<table border=\"1\" class=\"dataframe\">\n",
       "  <thead>\n",
       "    <tr style=\"text-align: right;\">\n",
       "      <th></th>\n",
       "      <th>Location</th>\n",
       "      <th>Area</th>\n",
       "      <th>Type</th>\n",
       "      <th>BHK</th>\n",
       "      <th>Furnish</th>\n",
       "      <th>Transaction</th>\n",
       "      <th>Status</th>\n",
       "      <th>Price_Lac</th>\n",
       "      <th>Area_Sqft</th>\n",
       "      <th>Price/Sqft</th>\n",
       "      <th>SS</th>\n",
       "    </tr>\n",
       "  </thead>\n",
       "  <tbody>\n",
       "    <tr>\n",
       "      <th>272</th>\n",
       "      <td>Chennai</td>\n",
       "      <td>inPerumbakkam</td>\n",
       "      <td>Villa</td>\n",
       "      <td>4.0</td>\n",
       "      <td>Unfurnish</td>\n",
       "      <td>New Property</td>\n",
       "      <td>Dec 2022</td>\n",
       "      <td>120.0</td>\n",
       "      <td>1884.0</td>\n",
       "      <td>6369.00</td>\n",
       "      <td>True</td>\n",
       "    </tr>\n",
       "    <tr>\n",
       "      <th>273</th>\n",
       "      <td>Chennai</td>\n",
       "      <td>inKelambakkam Old Mahabalipuram Road</td>\n",
       "      <td>Villa</td>\n",
       "      <td>4.0</td>\n",
       "      <td>Unfurnish</td>\n",
       "      <td>New Property</td>\n",
       "      <td>Dec 2021</td>\n",
       "      <td>115.0</td>\n",
       "      <td>1866.0</td>\n",
       "      <td>6162.00</td>\n",
       "      <td>False</td>\n",
       "    </tr>\n",
       "    <tr>\n",
       "      <th>283</th>\n",
       "      <td>Chennai</td>\n",
       "      <td>inKelambakkam Old Mahabalipuram Road</td>\n",
       "      <td>Villa</td>\n",
       "      <td>4.0</td>\n",
       "      <td>Unfurnish</td>\n",
       "      <td>New Property</td>\n",
       "      <td>Dec 2021</td>\n",
       "      <td>139.0</td>\n",
       "      <td>1896.0</td>\n",
       "      <td>7013.00</td>\n",
       "      <td>False</td>\n",
       "    </tr>\n",
       "    <tr>\n",
       "      <th>337</th>\n",
       "      <td>Chennai</td>\n",
       "      <td>inKolapakkam Vandalur Kelambakkam Road</td>\n",
       "      <td>Villa</td>\n",
       "      <td>4.0</td>\n",
       "      <td>Furnish</td>\n",
       "      <td>Old Property</td>\n",
       "      <td>Dec 2021</td>\n",
       "      <td>89.0</td>\n",
       "      <td>1668.0</td>\n",
       "      <td>5335.73</td>\n",
       "      <td>False</td>\n",
       "    </tr>\n",
       "    <tr>\n",
       "      <th>357</th>\n",
       "      <td>Chennai</td>\n",
       "      <td>inThalambur</td>\n",
       "      <td>Villa</td>\n",
       "      <td>4.0</td>\n",
       "      <td>Furnish</td>\n",
       "      <td>Old Property</td>\n",
       "      <td>Dec 2021</td>\n",
       "      <td>115.0</td>\n",
       "      <td>2000.0</td>\n",
       "      <td>5750.00</td>\n",
       "      <td>False</td>\n",
       "    </tr>\n",
       "    <tr>\n",
       "      <th>359</th>\n",
       "      <td>Chennai</td>\n",
       "      <td>inIyyappanthangal</td>\n",
       "      <td>Villa</td>\n",
       "      <td>4.0</td>\n",
       "      <td>Furnish</td>\n",
       "      <td>New Property</td>\n",
       "      <td>Dec 2021</td>\n",
       "      <td>130.0</td>\n",
       "      <td>1000.0</td>\n",
       "      <td>13000.00</td>\n",
       "      <td>False</td>\n",
       "    </tr>\n",
       "    <tr>\n",
       "      <th>550</th>\n",
       "      <td>Mumbai</td>\n",
       "      <td>inChikhal Dongari</td>\n",
       "      <td>Villa</td>\n",
       "      <td>4.0</td>\n",
       "      <td>Furnish</td>\n",
       "      <td>New Property</td>\n",
       "      <td>May 2022</td>\n",
       "      <td>85.0</td>\n",
       "      <td>1700.0</td>\n",
       "      <td>5000.00</td>\n",
       "      <td>False</td>\n",
       "    </tr>\n",
       "    <tr>\n",
       "      <th>552</th>\n",
       "      <td>Mumbai</td>\n",
       "      <td>inVasai West</td>\n",
       "      <td>Villa</td>\n",
       "      <td>4.0</td>\n",
       "      <td>Furnish</td>\n",
       "      <td>Old Property</td>\n",
       "      <td>Dec 2021</td>\n",
       "      <td>198.0</td>\n",
       "      <td>1681.0</td>\n",
       "      <td>11778.70</td>\n",
       "      <td>False</td>\n",
       "    </tr>\n",
       "    <tr>\n",
       "      <th>571</th>\n",
       "      <td>Mumbai</td>\n",
       "      <td>inBolinj</td>\n",
       "      <td>Villa</td>\n",
       "      <td>4.0</td>\n",
       "      <td>Furnish</td>\n",
       "      <td>Old Property</td>\n",
       "      <td>Dec 2021</td>\n",
       "      <td>145.0</td>\n",
       "      <td>2500.0</td>\n",
       "      <td>5800.00</td>\n",
       "      <td>False</td>\n",
       "    </tr>\n",
       "  </tbody>\n",
       "</table>\n",
       "</div>"
      ],
      "text/plain": [
       "    Location                                    Area   Type  BHK    Furnish  \\\n",
       "272  Chennai                           inPerumbakkam  Villa  4.0  Unfurnish   \n",
       "273  Chennai    inKelambakkam Old Mahabalipuram Road  Villa  4.0  Unfurnish   \n",
       "283  Chennai    inKelambakkam Old Mahabalipuram Road  Villa  4.0  Unfurnish   \n",
       "337  Chennai  inKolapakkam Vandalur Kelambakkam Road  Villa  4.0    Furnish   \n",
       "357  Chennai                             inThalambur  Villa  4.0    Furnish   \n",
       "359  Chennai                       inIyyappanthangal  Villa  4.0    Furnish   \n",
       "550   Mumbai                       inChikhal Dongari  Villa  4.0    Furnish   \n",
       "552   Mumbai                            inVasai West  Villa  4.0    Furnish   \n",
       "571   Mumbai                                inBolinj  Villa  4.0    Furnish   \n",
       "\n",
       "      Transaction    Status  Price_Lac  Area_Sqft  Price/Sqft     SS  \n",
       "272  New Property  Dec 2022      120.0     1884.0     6369.00   True  \n",
       "273  New Property  Dec 2021      115.0     1866.0     6162.00  False  \n",
       "283  New Property  Dec 2021      139.0     1896.0     7013.00  False  \n",
       "337  Old Property  Dec 2021       89.0     1668.0     5335.73  False  \n",
       "357  Old Property  Dec 2021      115.0     2000.0     5750.00  False  \n",
       "359  New Property  Dec 2021      130.0     1000.0    13000.00  False  \n",
       "550  New Property  May 2022       85.0     1700.0     5000.00  False  \n",
       "552  Old Property  Dec 2021      198.0     1681.0    11778.70  False  \n",
       "571  Old Property  Dec 2021      145.0     2500.0     5800.00  False  "
      ]
     },
     "execution_count": 54,
     "metadata": {},
     "output_type": "execute_result"
    }
   ],
   "source": [
    "df[df.BHK==4][df[df.BHK==4].Type=='Villa']"
   ]
  },
  {
   "cell_type": "markdown",
   "id": "af482060",
   "metadata": {},
   "source": [
    "## III. Multivariate Analysis"
   ]
  },
  {
   "cell_type": "code",
   "execution_count": 55,
   "id": "0a31fef0",
   "metadata": {},
   "outputs": [
    {
     "data": {
      "text/plain": [
       "<Figure size 432x288 with 0 Axes>"
      ]
     },
     "execution_count": 55,
     "metadata": {},
     "output_type": "execute_result"
    },
    {
     "data": {
      "text/plain": [
       "<seaborn.axisgrid.FacetGrid at 0x7fd78a5c2640>"
      ]
     },
     "execution_count": 55,
     "metadata": {},
     "output_type": "execute_result"
    },
    {
     "data": {
      "text/plain": [
       "<Figure size 432x288 with 0 Axes>"
      ]
     },
     "metadata": {},
     "output_type": "display_data"
    },
    {
     "data": {
      "image/png": "[encoded data removed]",
      "text/plain": [
       "<Figure size 780.35x720 with 4 Axes>"
      ]
     },
     "metadata": {},
     "output_type": "display_data"
    }
   ],
   "source": [
    "# Create a rich plot with information of Location, Furnish, and Type of the Real Estate data\n",
    "plt.figure()\n",
    "sns.relplot(x = 'Area_Sqft', y = 'Price_Lac', data = df, kind = 'scatter', col = 'Furnish',row = 'Location', hue = 'Type')\n",
    "plt.savefig('plot14.png', dpi = 1000)"
   ]
  },
  {
   "cell_type": "code",
   "execution_count": 56,
   "id": "0af03eb9",
   "metadata": {},
   "outputs": [
    {
     "data": {
      "text/plain": [
       "<Figure size 576x432 with 0 Axes>"
      ]
     },
     "execution_count": 56,
     "metadata": {},
     "output_type": "execute_result"
    },
    {
     "data": {
      "text/plain": [
       "<AxesSubplot:>"
      ]
     },
     "execution_count": 56,
     "metadata": {},
     "output_type": "execute_result"
    },
    {
     "data": {
      "text/plain": [
       "(array([0.5, 1.5, 2.5, 3.5, 4.5]),\n",
       " [Text(0.5, 0, 'BHK'),\n",
       "  Text(1.5, 0, 'Price_Lac'),\n",
       "  Text(2.5, 0, 'Area_Sqft'),\n",
       "  Text(3.5, 0, 'Price/Sqft'),\n",
       "  Text(4.5, 0, 'SS')])"
      ]
     },
     "execution_count": 56,
     "metadata": {},
     "output_type": "execute_result"
    },
    {
     "data": {
      "image/png": "[encoded data removed]",
      "text/plain": [
       "<Figure size 576x432 with 2 Axes>"
      ]
     },
     "metadata": {},
     "output_type": "display_data"
    }
   ],
   "source": [
    "plt.figure(figsize = (8,6))\n",
    "corela = df.corr()\n",
    "sns.heatmap(corela,annot=True)\n",
    "plt.xticks(rotation=20)\n",
    "plt.savefig('plot15.png',dpi=1000)"
   ]
  },
  {
   "cell_type": "markdown",
   "id": "8c331f15",
   "metadata": {},
   "source": [
    "# Outliers Determination"
   ]
  },
  {
   "cell_type": "markdown",
   "id": "dfe6b4bb",
   "metadata": {},
   "source": [
    "## Calculate the z-score"
   ]
  },
  {
   "cell_type": "code",
   "execution_count": 57,
   "id": "59432ee2",
   "metadata": {
    "scrolled": true
   },
   "outputs": [
    {
     "data": {
      "text/plain": [
       "[0      0.192693\n",
       " 1      1.440572\n",
       " 2      0.700315\n",
       " 3      0.024684\n",
       " 4      0.386000\n",
       "          ...   \n",
       " 263    0.870692\n",
       " 264    1.716699\n",
       " 265    1.129194\n",
       " 266    0.541689\n",
       " 267    0.838949\n",
       " Name: Area_Sqft, Length: 268, dtype: float64]"
      ]
     },
     "execution_count": 57,
     "metadata": {},
     "output_type": "execute_result"
    }
   ],
   "source": [
    "zscore = []\n",
    "sq = df[df.Type=='Flat'][df[df.Type=='Flat'].Location ==City[0]].Area_Sqft\n",
    "zscore.append(abs((sq - sq.mean())/sq.std()))\n",
    "zscore"
   ]
  },
  {
   "cell_type": "code",
   "execution_count": 58,
   "id": "fd0b355e",
   "metadata": {},
   "outputs": [
    {
     "data": {
      "text/html": [
       "<div>\n",
       "<style scoped>\n",
       "    .dataframe tbody tr th:only-of-type {\n",
       "        vertical-align: middle;\n",
       "    }\n",
       "\n",
       "    .dataframe tbody tr th {\n",
       "        vertical-align: top;\n",
       "    }\n",
       "\n",
       "    .dataframe thead th {\n",
       "        text-align: right;\n",
       "    }\n",
       "</style>\n",
       "<table border=\"1\" class=\"dataframe\">\n",
       "  <thead>\n",
       "    <tr style=\"text-align: right;\">\n",
       "      <th></th>\n",
       "      <th>BHK</th>\n",
       "      <th>Price_Lac</th>\n",
       "      <th>Area_Sqft</th>\n",
       "      <th>Price/Sqft</th>\n",
       "    </tr>\n",
       "  </thead>\n",
       "  <tbody>\n",
       "    <tr>\n",
       "      <th>count</th>\n",
       "      <td>575.000000</td>\n",
       "      <td>575.000000</td>\n",
       "      <td>575.000000</td>\n",
       "      <td>575.000000</td>\n",
       "    </tr>\n",
       "    <tr>\n",
       "      <th>mean</th>\n",
       "      <td>2.133913</td>\n",
       "      <td>81.949739</td>\n",
       "      <td>911.714783</td>\n",
       "      <td>11027.618070</td>\n",
       "    </tr>\n",
       "    <tr>\n",
       "      <th>std</th>\n",
       "      <td>0.797086</td>\n",
       "      <td>40.539880</td>\n",
       "      <td>424.965486</td>\n",
       "      <td>7735.847973</td>\n",
       "    </tr>\n",
       "    <tr>\n",
       "      <th>min</th>\n",
       "      <td>1.000000</td>\n",
       "      <td>1.200000</td>\n",
       "      <td>150.000000</td>\n",
       "      <td>134.830000</td>\n",
       "    </tr>\n",
       "    <tr>\n",
       "      <th>25%</th>\n",
       "      <td>2.000000</td>\n",
       "      <td>50.000000</td>\n",
       "      <td>591.500000</td>\n",
       "      <td>5383.810000</td>\n",
       "    </tr>\n",
       "    <tr>\n",
       "      <th>50%</th>\n",
       "      <td>2.000000</td>\n",
       "      <td>72.600000</td>\n",
       "      <td>824.000000</td>\n",
       "      <td>7556.270000</td>\n",
       "    </tr>\n",
       "    <tr>\n",
       "      <th>75%</th>\n",
       "      <td>3.000000</td>\n",
       "      <td>105.000000</td>\n",
       "      <td>1198.000000</td>\n",
       "      <td>14550.590000</td>\n",
       "    </tr>\n",
       "    <tr>\n",
       "      <th>max</th>\n",
       "      <td>5.000000</td>\n",
       "      <td>198.000000</td>\n",
       "      <td>2500.000000</td>\n",
       "      <td>39726.030000</td>\n",
       "    </tr>\n",
       "  </tbody>\n",
       "</table>\n",
       "</div>"
      ],
      "text/plain": [
       "              BHK   Price_Lac    Area_Sqft    Price/Sqft\n",
       "count  575.000000  575.000000   575.000000    575.000000\n",
       "mean     2.133913   81.949739   911.714783  11027.618070\n",
       "std      0.797086   40.539880   424.965486   7735.847973\n",
       "min      1.000000    1.200000   150.000000    134.830000\n",
       "25%      2.000000   50.000000   591.500000   5383.810000\n",
       "50%      2.000000   72.600000   824.000000   7556.270000\n",
       "75%      3.000000  105.000000  1198.000000  14550.590000\n",
       "max      5.000000  198.000000  2500.000000  39726.030000"
      ]
     },
     "execution_count": 58,
     "metadata": {},
     "output_type": "execute_result"
    }
   ],
   "source": [
    "df.describe()"
   ]
  },
  {
   "cell_type": "markdown",
   "id": "4f91d940",
   "metadata": {},
   "source": [
    "# Summary"
   ]
  },
  {
   "cell_type": "markdown",
   "id": "ae55b59e",
   "metadata": {},
   "source": [
    "<ul>\n",
    "    <li>The objective of the project is achieved</li>\n",
    "    <li>User was able to successfully find insights by comapring the two datasets</li>\n",
    "    <li>Between Chennai and Mumbai, Mumbai is more expensive to buy </li>\n",
    "    <li>Between Chennai and Bangalore data did not drastically change</li>\n",
    "    <li>Similarly, various Real Estate locaations can be compared</li>\n",
    "</ul>"
   ]
  },
  {
   "cell_type": "code",
   "execution_count": null,
   "id": "4751c4c0",
   "metadata": {},
   "outputs": [],
   "source": []
  }
 ],
 "metadata": {
  "kernelspec": {
   "display_name": "Python 3",
   "language": "python",
   "name": "python3"
  },
  "language_info": {
   "codemirror_mode": {
    "name": "ipython",
    "version": 3
   },
   "file_extension": ".py",
   "mimetype": "text/x-python",
   "name": "python",
   "nbconvert_exporter": "python",
   "pygments_lexer": "ipython3",
   "version": "3.8.8"
  }
 },
 "nbformat": 4,
 "nbformat_minor": 5
}
