{
 "cells": [
  {
   "cell_type": "code",
   "execution_count": null,
   "metadata": {
    "colab": {
     "base_uri": "https://localhost:8080/",
     "height": 1000
    },
    "id": "DpFzKpZtMWLI",
    "outputId": "35c5225d-a537-449b-a9ba-a0a97a0afdce"
   },
   "outputs": [
    {
     "name": "stdout",
     "output_type": "stream",
     "text": [
      "Collecting rasa==1.10.3\n",
      "  Downloading rasa-1.10.3-py3-none-any.whl (510 kB)\n",
      "\u001b[K     |████████████████████████████████| 510 kB 13.5 MB/s \n",
      "\u001b[?25hCollecting ujson<3.0,>=1.35\n",
      "  Downloading ujson-2.0.3-cp37-cp37m-manylinux1_x86_64.whl (174 kB)\n",
      "\u001b[K     |████████████████████████████████| 174 kB 76.5 MB/s \n",
      "\u001b[?25hCollecting twilio<6.27,>=6.26\n",
      "  Downloading twilio-6.26.3-py2.py3-none-any.whl (979 kB)\n",
      "\u001b[K     |████████████████████████████████| 979 kB 56.7 MB/s \n",
      "\u001b[?25hCollecting tqdm<4.46,>=4.31\n",
      "  Downloading tqdm-4.45.0-py2.py3-none-any.whl (60 kB)\n",
      "\u001b[K     |████████████████████████████████| 60 kB 5.8 MB/s \n",
      "\u001b[?25hCollecting boto3<2.0,>=1.12\n",
      "  Downloading boto3-1.20.26-py3-none-any.whl (131 kB)\n",
      "\u001b[K     |████████████████████████████████| 131 kB 88.6 MB/s \n",
      "\u001b[?25hCollecting sanic-cors<0.11.0,>=0.10.0b1\n",
      "  Downloading Sanic_Cors-0.10.0.post3-py2.py3-none-any.whl (17 kB)\n",
      "Collecting ruamel.yaml<0.17,>=0.16\n",
      "  Downloading ruamel.yaml-0.16.13-py2.py3-none-any.whl (111 kB)\n",
      "\u001b[K     |████████████████████████████████| 111 kB 66.4 MB/s \n",
      "\u001b[?25hCollecting terminaltables<3.2.0,>=3.1.0\n",
      "  Downloading terminaltables-3.1.10-py2.py3-none-any.whl (15 kB)\n",
      "Collecting SQLAlchemy<1.4.0,>=1.3.3\n",
      "  Downloading SQLAlchemy-1.3.24-cp37-cp37m-manylinux2010_x86_64.whl (1.3 MB)\n",
      "\u001b[K     |████████████████████████████████| 1.3 MB 62.0 MB/s \n",
      "\u001b[?25hCollecting webexteamssdk<1.4.0,>=1.1.1\n",
      "  Downloading webexteamssdk-1.3.tar.gz (56 kB)\n",
      "\u001b[K     |████████████████████████████████| 56 kB 4.5 MB/s \n",
      "\u001b[?25hCollecting kafka-python<2.0,>=1.4\n",
      "  Downloading kafka_python-1.4.7-py2.py3-none-any.whl (266 kB)\n",
      "\u001b[K     |████████████████████████████████| 266 kB 62.8 MB/s \n",
      "\u001b[?25hCollecting pymongo[srv,tls]<3.9.0,>=3.8.0\n",
      "  Downloading pymongo-3.8.0-cp37-cp37m-manylinux1_x86_64.whl (417 kB)\n",
      "\u001b[K     |████████████████████████████████| 417 kB 74.1 MB/s \n",
      "\u001b[?25hRequirement already satisfied: python-dateutil<2.9,>=2.8 in /usr/local/lib/python3.7/dist-packages (from rasa==1.10.3) (2.8.2)\n",
      "Collecting async_generator<1.11,>=1.10\n",
      "  Downloading async_generator-1.10-py3-none-any.whl (18 kB)\n",
      "Collecting python-engineio<3.13,>=3.11\n",
      "  Downloading python_engineio-3.12.1-py2.py3-none-any.whl (49 kB)\n",
      "\u001b[K     |████████████████████████████████| 49 kB 4.2 MB/s \n",
      "\u001b[?25hRequirement already satisfied: matplotlib<3.3,>=3.1 in /usr/local/lib/python3.7/dist-packages (from rasa==1.10.3) (3.2.2)\n",
      "Collecting python-socketio<4.6,>=4.4\n",
      "  Downloading python_socketio-4.5.1-py2.py3-none-any.whl (51 kB)\n",
      "\u001b[K     |████████████████████████████████| 51 kB 282 kB/s \n",
      "\u001b[?25hCollecting redis<4.0,>=3.4\n",
      "  Downloading redis-3.5.3-py2.py3-none-any.whl (72 kB)\n",
      "\u001b[K     |████████████████████████████████| 72 kB 479 kB/s \n",
      "\u001b[?25hRequirement already satisfied: setuptools>=41.0.0 in /usr/local/lib/python3.7/dist-packages (from rasa==1.10.3) (57.4.0)\n",
      "Collecting slackclient<3.0.0,>=2.0.0\n",
      "  Downloading slackclient-2.9.3-py2.py3-none-any.whl (96 kB)\n",
      "\u001b[K     |████████████████████████████████| 96 kB 6.4 MB/s \n",
      "\u001b[?25hRequirement already satisfied: oauth2client==4.1.3 in /usr/local/lib/python3.7/dist-packages (from rasa==1.10.3) (4.1.3)\n",
      "Collecting sanic-jwt<1.5.0,>=1.3.2\n",
      "  Downloading sanic-jwt-1.4.1.tar.gz (19 kB)\n",
      "Collecting tensorflow-probability<0.10,>=0.7\n",
      "  Downloading tensorflow_probability-0.9.0-py2.py3-none-any.whl (3.2 MB)\n",
      "\u001b[K     |████████████████████████████████| 3.2 MB 26.0 MB/s \n",
      "\u001b[?25hRequirement already satisfied: cloudpickle<1.4,>=1.2 in /usr/local/lib/python3.7/dist-packages (from rasa==1.10.3) (1.3.0)\n",
      "Collecting aiohttp<3.7,>=3.6\n",
      "  Downloading aiohttp-3.6.3-cp37-cp37m-manylinux1_x86_64.whl (1.2 MB)\n",
      "\u001b[K     |████████████████████████████████| 1.2 MB 65.1 MB/s \n",
      "\u001b[?25hCollecting attrs<19.4,>=19.3\n",
      "  Downloading attrs-19.3.0-py2.py3-none-any.whl (39 kB)\n",
      "Collecting multidict<5.0,>=4.6\n",
      "  Downloading multidict-4.7.6-cp37-cp37m-manylinux1_x86_64.whl (149 kB)\n",
      "\u001b[K     |████████████████████████████████| 149 kB 71.2 MB/s \n",
      "\u001b[?25hRequirement already satisfied: numpy<2.0,>=1.16 in /usr/local/lib/python3.7/dist-packages (from rasa==1.10.3) (1.19.5)\n",
      "Collecting packaging<21.0,>=20.0\n",
      "  Downloading packaging-20.9-py2.py3-none-any.whl (40 kB)\n",
      "\u001b[K     |████████████████████████████████| 40 kB 4.5 MB/s \n",
      "\u001b[?25hCollecting questionary<1.6.0,>=1.5.1\n",
      "  Downloading questionary-1.5.2-py3-none-any.whl (26 kB)\n",
      "Collecting absl-py<0.10,>=0.9\n",
      "  Downloading absl-py-0.9.0.tar.gz (104 kB)\n",
      "\u001b[K     |████████████████████████████████| 104 kB 57.6 MB/s \n",
      "\u001b[?25hCollecting sanic<20.0.0,>=19.12.2\n",
      "  Downloading sanic-19.12.5-py3-none-any.whl (73 kB)\n",
      "\u001b[K     |████████████████████████████████| 73 kB 1.4 MB/s \n",
      "\u001b[?25hCollecting pydot<1.5,>=1.4\n",
      "  Downloading pydot-1.4.2-py2.py3-none-any.whl (21 kB)\n",
      "Collecting mattermostwrapper<2.3,>=2.2\n",
      "  Downloading mattermostwrapper-2.2.tar.gz (2.5 kB)\n",
      "Collecting tensorflow-addons<0.8.0,>=0.7.1\n",
      "  Downloading tensorflow_addons-0.7.1-cp37-cp37m-manylinux2010_x86_64.whl (990 kB)\n",
      "\u001b[K     |████████████████████████████████| 990 kB 65.9 MB/s \n",
      "\u001b[?25hCollecting prompt-toolkit<3.0,>=2.0\n",
      "  Downloading prompt_toolkit-2.0.10-py3-none-any.whl (340 kB)\n",
      "\u001b[K     |████████████████████████████████| 340 kB 65.1 MB/s \n",
      "\u001b[?25hCollecting tensorflow_hub<0.9,>=0.7\n",
      "  Downloading tensorflow_hub-0.8.0-py2.py3-none-any.whl (101 kB)\n",
      "\u001b[K     |████████████████████████████████| 101 kB 10.5 MB/s \n",
      "\u001b[?25hCollecting colorhash<1.1.0,>=1.0.2\n",
      "  Downloading colorhash-1.0.4-py3-none-any.whl (5.5 kB)\n",
      "Requirement already satisfied: scipy<2.0.0,>=1.4.1 in /usr/local/lib/python3.7/dist-packages (from rasa==1.10.3) (1.4.1)\n",
      "Collecting jsonpickle<1.5,>=1.3\n",
      "  Downloading jsonpickle-1.4.2-py2.py3-none-any.whl (36 kB)\n",
      "Collecting gevent<1.6,>=1.4\n",
      "  Downloading gevent-1.5.0-cp37-cp37m-manylinux2010_x86_64.whl (5.1 MB)\n",
      "\u001b[K     |████████████████████████████████| 5.1 MB 40.9 MB/s \n",
      "\u001b[?25hCollecting networkx<2.5.0,>=2.4.0\n",
      "  Downloading networkx-2.4-py3-none-any.whl (1.6 MB)\n",
      "\u001b[K     |████████████████████████████████| 1.6 MB 41.8 MB/s \n",
      "\u001b[?25hCollecting fbmessenger<6.1.0,>=6.0.0\n",
      "  Downloading fbmessenger-6.0.0-py2.py3-none-any.whl (11 kB)\n",
      "Collecting rasa-sdk<2.0.0,>=1.10.0\n",
      "  Downloading rasa_sdk-1.10.3-py3-none-any.whl (39 kB)\n",
      "Collecting sklearn-crfsuite<0.4,>=0.3\n",
      "  Downloading sklearn_crfsuite-0.3.6-py2.py3-none-any.whl (12 kB)\n",
      "Collecting scikit-learn<0.23,>=0.22\n",
      "  Downloading scikit_learn-0.22.2.post1-cp37-cp37m-manylinux1_x86_64.whl (7.1 MB)\n",
      "\u001b[K     |████████████████████████████████| 7.1 MB 56.6 MB/s \n",
      "\u001b[?25hCollecting coloredlogs<11.0,>=10.0\n",
      "  Downloading coloredlogs-10.0-py2.py3-none-any.whl (47 kB)\n",
      "\u001b[K     |████████████████████████████████| 47 kB 4.2 MB/s \n",
      "\u001b[?25hCollecting tensorflow-estimator==2.1.0\n",
      "  Downloading tensorflow_estimator-2.1.0-py2.py3-none-any.whl (448 kB)\n",
      "\u001b[K     |████████████████████████████████| 448 kB 56.5 MB/s \n",
      "\u001b[?25hCollecting colorclass<2.3,>=2.2\n",
      "  Downloading colorclass-2.2.2-py2.py3-none-any.whl (18 kB)\n",
      "Requirement already satisfied: requests<3.0,>=2.23 in /usr/local/lib/python3.7/dist-packages (from rasa==1.10.3) (2.23.0)\n",
      "Collecting pytz<2020.0,>=2019.1\n",
      "  Downloading pytz-2019.3-py2.py3-none-any.whl (509 kB)\n",
      "\u001b[K     |████████████████████████████████| 509 kB 64.1 MB/s \n",
      "\u001b[?25hCollecting pika<1.2.0,>=1.1.0\n",
      "  Downloading pika-1.1.0-py2.py3-none-any.whl (148 kB)\n",
      "\u001b[K     |████████████████████████████████| 148 kB 65.6 MB/s \n",
      "\u001b[?25hCollecting tensorflow<2.2,>=2.1\n",
      "  Downloading tensorflow-2.1.4-cp37-cp37m-manylinux2010_x86_64.whl (422.0 MB)\n",
      "\u001b[K     |████████████████████████████████| 422.0 MB 33 kB/s \n",
      "\u001b[?25hCollecting python-telegram-bot<13.0,>=11.1\n",
      "  Downloading python_telegram_bot-12.8-py2.py3-none-any.whl (375 kB)\n",
      "\u001b[K     |████████████████████████████████| 375 kB 70.6 MB/s \n",
      "\u001b[?25hCollecting PyJWT<1.8,>=1.7\n",
      "  Downloading PyJWT-1.7.1-py2.py3-none-any.whl (18 kB)\n",
      "Collecting apscheduler<3.7,>=3.6\n",
      "  Downloading APScheduler-3.6.3-py2.py3-none-any.whl (58 kB)\n",
      "\u001b[K     |████████████████████████████████| 58 kB 5.3 MB/s \n",
      "\u001b[?25hCollecting jsonschema<3.3,>=3.2\n",
      "  Downloading jsonschema-3.2.0-py2.py3-none-any.whl (56 kB)\n",
      "\u001b[K     |████████████████████████████████| 56 kB 3.0 MB/s \n",
      "\u001b[?25hCollecting rocketchat_API<1.4.0,>=0.6.31\n",
      "  Downloading rocketchat_API-1.3.1-py3-none-any.whl (9.6 kB)\n",
      "Collecting pykwalify<1.8.0,>=1.7.0\n",
      "  Downloading pykwalify-1.7.0-py2.py3-none-any.whl (40 kB)\n",
      "\u001b[K     |████████████████████████████████| 40 kB 4.2 MB/s \n",
      "\u001b[?25hCollecting psycopg2-binary<2.9.0,>=2.8.2\n",
      "  Downloading psycopg2_binary-2.8.6-cp37-cp37m-manylinux1_x86_64.whl (3.0 MB)\n",
      "\u001b[K     |████████████████████████████████| 3.0 MB 39.2 MB/s \n",
      "\u001b[?25hRequirement already satisfied: six>=1.6.1 in /usr/local/lib/python3.7/dist-packages (from oauth2client==4.1.3->rasa==1.10.3) (1.15.0)\n",
      "Requirement already satisfied: pyasn1>=0.1.7 in /usr/local/lib/python3.7/dist-packages (from oauth2client==4.1.3->rasa==1.10.3) (0.4.8)\n",
      "Requirement already satisfied: pyasn1-modules>=0.0.5 in /usr/local/lib/python3.7/dist-packages (from oauth2client==4.1.3->rasa==1.10.3) (0.2.8)\n",
      "Requirement already satisfied: rsa>=3.1.4 in /usr/local/lib/python3.7/dist-packages (from oauth2client==4.1.3->rasa==1.10.3) (4.8)\n",
      "Requirement already satisfied: httplib2>=0.9.1 in /usr/local/lib/python3.7/dist-packages (from oauth2client==4.1.3->rasa==1.10.3) (0.17.4)\n",
      "Requirement already satisfied: chardet<4.0,>=2.0 in /usr/local/lib/python3.7/dist-packages (from aiohttp<3.7,>=3.6->rasa==1.10.3) (3.0.4)\n",
      "Collecting yarl<1.6.0,>=1.0\n",
      "  Downloading yarl-1.5.1-cp37-cp37m-manylinux1_x86_64.whl (258 kB)\n",
      "\u001b[K     |████████████████████████████████| 258 kB 80.8 MB/s \n",
      "\u001b[?25hCollecting async-timeout<4.0,>=3.0\n",
      "  Downloading async_timeout-3.0.1-py3-none-any.whl (8.2 kB)\n",
      "Requirement already satisfied: tzlocal>=1.2 in /usr/local/lib/python3.7/dist-packages (from apscheduler<3.7,>=3.6->rasa==1.10.3) (1.5.1)\n",
      "Collecting jmespath<1.0.0,>=0.7.1\n",
      "  Downloading jmespath-0.10.0-py2.py3-none-any.whl (24 kB)\n",
      "Collecting s3transfer<0.6.0,>=0.5.0\n",
      "  Downloading s3transfer-0.5.0-py3-none-any.whl (79 kB)\n",
      "\u001b[K     |████████████████████████████████| 79 kB 5.8 MB/s \n",
      "\u001b[?25hCollecting botocore<1.24.0,>=1.23.26\n",
      "  Downloading botocore-1.23.26-py3-none-any.whl (8.5 MB)\n",
      "\u001b[K     |████████████████████████████████| 8.5 MB 50.2 MB/s \n",
      "\u001b[?25hCollecting urllib3<1.27,>=1.25.4\n",
      "  Downloading urllib3-1.26.7-py2.py3-none-any.whl (138 kB)\n",
      "\u001b[K     |████████████████████████████████| 138 kB 68.0 MB/s \n",
      "\u001b[?25hCollecting humanfriendly>=4.7\n",
      "  Downloading humanfriendly-10.0-py2.py3-none-any.whl (86 kB)\n",
      "\u001b[K     |████████████████████████████████| 86 kB 5.1 MB/s \n",
      "\u001b[?25hRequirement already satisfied: greenlet>=0.4.14 in /usr/local/lib/python3.7/dist-packages (from gevent<1.6,>=1.4->rasa==1.10.3) (1.1.2)\n",
      "Requirement already satisfied: importlib-metadata in /usr/local/lib/python3.7/dist-packages (from jsonpickle<1.5,>=1.3->rasa==1.10.3) (4.8.2)\n",
      "Requirement already satisfied: pyrsistent>=0.14.0 in /usr/local/lib/python3.7/dist-packages (from jsonschema<3.3,>=3.2->rasa==1.10.3) (0.18.0)\n",
      "Requirement already satisfied: pyparsing!=2.0.4,!=2.1.2,!=2.1.6,>=2.0.1 in /usr/local/lib/python3.7/dist-packages (from matplotlib<3.3,>=3.1->rasa==1.10.3) (3.0.6)\n",
      "Requirement already satisfied: cycler>=0.10 in /usr/local/lib/python3.7/dist-packages (from matplotlib<3.3,>=3.1->rasa==1.10.3) (0.11.0)\n",
      "Requirement already satisfied: kiwisolver>=1.0.1 in /usr/local/lib/python3.7/dist-packages (from matplotlib<3.3,>=3.1->rasa==1.10.3) (1.3.2)\n",
      "Requirement already satisfied: decorator>=4.3.0 in /usr/local/lib/python3.7/dist-packages (from networkx<2.5.0,>=2.4.0->rasa==1.10.3) (4.4.2)\n",
      "Requirement already satisfied: wcwidth in /usr/local/lib/python3.7/dist-packages (from prompt-toolkit<3.0,>=2.0->rasa==1.10.3) (0.2.5)\n",
      "Requirement already satisfied: docopt>=0.6.2 in /usr/local/lib/python3.7/dist-packages (from pykwalify<1.8.0,>=1.7.0->rasa==1.10.3) (0.6.2)\n",
      "Requirement already satisfied: PyYAML>=3.11 in /usr/local/lib/python3.7/dist-packages (from pykwalify<1.8.0,>=1.7.0->rasa==1.10.3) (3.13)\n",
      "Collecting dnspython<2.0.0,>=1.13.0\n",
      "  Downloading dnspython-1.16.0-py2.py3-none-any.whl (188 kB)\n",
      "\u001b[K     |████████████████████████████████| 188 kB 69.2 MB/s \n",
      "\u001b[?25hRequirement already satisfied: certifi in /usr/local/lib/python3.7/dist-packages (from python-telegram-bot<13.0,>=11.1->rasa==1.10.3) (2021.10.8)\n",
      "Collecting cryptography\n",
      "  Downloading cryptography-36.0.1-cp36-abi3-manylinux_2_24_x86_64.whl (3.6 MB)\n",
      "\u001b[K     |████████████████████████████████| 3.6 MB 50.2 MB/s \n",
      "\u001b[?25hRequirement already satisfied: tornado>=5.1 in /usr/local/lib/python3.7/dist-packages (from python-telegram-bot<13.0,>=11.1->rasa==1.10.3) (5.1.1)\n",
      "Requirement already satisfied: idna<3,>=2.5 in /usr/local/lib/python3.7/dist-packages (from requests<3.0,>=2.23->rasa==1.10.3) (2.10)\n",
      "Collecting urllib3<1.27,>=1.25.4\n",
      "  Downloading urllib3-1.25.11-py2.py3-none-any.whl (127 kB)\n",
      "\u001b[K     |████████████████████████████████| 127 kB 86.5 MB/s \n",
      "\u001b[?25hCollecting ruamel.yaml.clib>=0.1.2\n",
      "  Downloading ruamel.yaml.clib-0.2.6-cp37-cp37m-manylinux1_x86_64.whl (546 kB)\n",
      "\u001b[K     |████████████████████████████████| 546 kB 75.6 MB/s \n",
      "\u001b[?25hCollecting uvloop<0.15.0,>=0.5.3\n",
      "  Downloading uvloop-0.14.0-cp37-cp37m-manylinux2010_x86_64.whl (3.8 MB)\n",
      "\u001b[K     |████████████████████████████████| 3.8 MB 46.8 MB/s \n",
      "\u001b[?25hCollecting httpx==0.9.3\n",
      "  Downloading httpx-0.9.3-py2.py3-none-any.whl (64 kB)\n",
      "\u001b[K     |████████████████████████████████| 64 kB 3.0 MB/s \n",
      "\u001b[?25hCollecting websockets<9.0,>=7.0\n",
      "  Downloading websockets-8.1-cp37-cp37m-manylinux2010_x86_64.whl (79 kB)\n",
      "\u001b[K     |████████████████████████████████| 79 kB 7.1 MB/s \n",
      "\u001b[?25hCollecting aiofiles>=0.3.0\n",
      "  Downloading aiofiles-0.8.0-py3-none-any.whl (13 kB)\n",
      "Collecting httptools>=0.0.10\n",
      "  Downloading httptools-0.3.0-cp37-cp37m-manylinux_2_5_x86_64.manylinux1_x86_64.manylinux_2_12_x86_64.manylinux2010_x86_64.whl (402 kB)\n",
      "\u001b[K     |████████████████████████████████| 402 kB 66.1 MB/s \n",
      "\u001b[?25hCollecting sanic<20.0.0,>=19.12.2\n",
      "  Downloading sanic-19.12.4-py3-none-any.whl (73 kB)\n",
      "\u001b[K     |████████████████████████████████| 73 kB 1.3 MB/s \n",
      "\u001b[?25hCollecting uvloop>=0.5.3\n",
      "  Downloading uvloop-0.16.0-cp37-cp37m-manylinux_2_12_x86_64.manylinux2010_x86_64.whl (3.8 MB)\n",
      "\u001b[K     |████████████████████████████████| 3.8 MB 46.9 MB/s \n",
      "\u001b[?25hCollecting sanic<20.0.0,>=19.12.2\n",
      "  Downloading sanic-19.12.3-py3-none-any.whl (72 kB)\n",
      "\u001b[K     |████████████████████████████████| 72 kB 1.1 MB/s \n",
      "\u001b[?25h  Downloading sanic-19.12.2-py3-none-any.whl (72 kB)\n",
      "\u001b[K     |████████████████████████████████| 72 kB 868 kB/s \n",
      "\u001b[?25hCollecting rfc3986<2,>=1.3\n",
      "  Downloading rfc3986-1.5.0-py2.py3-none-any.whl (31 kB)\n",
      "Collecting h11==0.8.*\n",
      "  Downloading h11-0.8.1-py2.py3-none-any.whl (55 kB)\n",
      "\u001b[K     |████████████████████████████████| 55 kB 3.6 MB/s \n",
      "\u001b[?25hCollecting h2==3.*\n",
      "  Downloading h2-3.2.0-py2.py3-none-any.whl (65 kB)\n",
      "\u001b[K     |████████████████████████████████| 65 kB 3.1 MB/s \n",
      "\u001b[?25hCollecting sniffio==1.*\n",
      "  Downloading sniffio-1.2.0-py3-none-any.whl (10 kB)\n",
      "Collecting hstspreload\n",
      "  Downloading hstspreload-2021.12.1-py3-none-any.whl (1.3 MB)\n",
      "\u001b[K     |████████████████████████████████| 1.3 MB 63.9 MB/s \n",
      "\u001b[?25hCollecting hpack<4,>=3.0\n",
      "  Downloading hpack-3.0.0-py2.py3-none-any.whl (38 kB)\n",
      "Collecting hyperframe<6,>=5.2.0\n",
      "  Downloading hyperframe-5.2.0-py2.py3-none-any.whl (12 kB)\n",
      "Collecting sanic-plugins-framework>=0.9.0\n",
      "  Downloading Sanic_Plugins_Framework-0.9.5-py2.py3-none-any.whl (23 kB)\n",
      "Requirement already satisfied: joblib>=0.11 in /usr/local/lib/python3.7/dist-packages (from scikit-learn<0.23,>=0.22->rasa==1.10.3) (1.1.0)\n",
      "Collecting python-crfsuite>=0.8.3\n",
      "  Downloading python_crfsuite-0.9.7-cp37-cp37m-manylinux1_x86_64.whl (743 kB)\n",
      "\u001b[K     |████████████████████████████████| 743 kB 70.3 MB/s \n",
      "\u001b[?25hRequirement already satisfied: tabulate in /usr/local/lib/python3.7/dist-packages (from sklearn-crfsuite<0.4,>=0.3->rasa==1.10.3) (0.8.9)\n",
      "Collecting numpy<2.0,>=1.16\n",
      "  Downloading numpy-1.18.5-cp37-cp37m-manylinux1_x86_64.whl (20.1 MB)\n",
      "\u001b[K     |████████████████████████████████| 20.1 MB 1.2 MB/s \n",
      "\u001b[?25hCollecting keras-applications>=1.0.8\n",
      "  Downloading Keras_Applications-1.0.8-py3-none-any.whl (50 kB)\n",
      "\u001b[K     |████████████████████████████████| 50 kB 4.8 MB/s \n",
      "\u001b[?25hRequirement already satisfied: wrapt>=1.11.1 in /usr/local/lib/python3.7/dist-packages (from tensorflow<2.2,>=2.1->rasa==1.10.3) (1.13.3)\n",
      "Collecting tensorboard<2.2.0,>=2.1.0\n",
      "  Downloading tensorboard-2.1.1-py3-none-any.whl (3.8 MB)\n",
      "\u001b[K     |████████████████████████████████| 3.8 MB 40.6 MB/s \n",
      "\u001b[?25hRequirement already satisfied: termcolor>=1.1.0 in /usr/local/lib/python3.7/dist-packages (from tensorflow<2.2,>=2.1->rasa==1.10.3) (1.1.0)\n",
      "Requirement already satisfied: google-pasta>=0.1.6 in /usr/local/lib/python3.7/dist-packages (from tensorflow<2.2,>=2.1->rasa==1.10.3) (0.2.0)\n",
      "Collecting gast==0.2.2\n",
      "  Downloading gast-0.2.2.tar.gz (10 kB)\n",
      "Requirement already satisfied: protobuf>=3.8.0 in /usr/local/lib/python3.7/dist-packages (from tensorflow<2.2,>=2.1->rasa==1.10.3) (3.17.3)\n",
      "Requirement already satisfied: grpcio>=1.8.6 in /usr/local/lib/python3.7/dist-packages (from tensorflow<2.2,>=2.1->rasa==1.10.3) (1.42.0)\n",
      "Requirement already satisfied: wheel>=0.26 in /usr/local/lib/python3.7/dist-packages (from tensorflow<2.2,>=2.1->rasa==1.10.3) (0.37.0)\n",
      "Collecting keras-preprocessing==1.1.0\n",
      "  Downloading Keras_Preprocessing-1.1.0-py2.py3-none-any.whl (41 kB)\n",
      "\u001b[K     |████████████████████████████████| 41 kB 493 kB/s \n",
      "\u001b[?25hRequirement already satisfied: astor>=0.6.0 in /usr/local/lib/python3.7/dist-packages (from tensorflow<2.2,>=2.1->rasa==1.10.3) (0.8.1)\n",
      "Collecting h5py<=2.10.0\n",
      "  Downloading h5py-2.10.0-cp37-cp37m-manylinux1_x86_64.whl (2.9 MB)\n",
      "\u001b[K     |████████████████████████████████| 2.9 MB 53.9 MB/s \n",
      "\u001b[?25hRequirement already satisfied: opt-einsum>=2.3.2 in /usr/local/lib/python3.7/dist-packages (from tensorflow<2.2,>=2.1->rasa==1.10.3) (3.3.0)\n",
      "Requirement already satisfied: markdown>=2.6.8 in /usr/local/lib/python3.7/dist-packages (from tensorboard<2.2.0,>=2.1.0->tensorflow<2.2,>=2.1->rasa==1.10.3) (3.3.6)\n",
      "Requirement already satisfied: google-auth<2,>=1.6.3 in /usr/local/lib/python3.7/dist-packages (from tensorboard<2.2.0,>=2.1.0->tensorflow<2.2,>=2.1->rasa==1.10.3) (1.35.0)\n",
      "Requirement already satisfied: google-auth-oauthlib<0.5,>=0.4.1 in /usr/local/lib/python3.7/dist-packages (from tensorboard<2.2.0,>=2.1.0->tensorflow<2.2,>=2.1->rasa==1.10.3) (0.4.6)\n",
      "Requirement already satisfied: werkzeug>=0.11.15 in /usr/local/lib/python3.7/dist-packages (from tensorboard<2.2.0,>=2.1.0->tensorflow<2.2,>=2.1->rasa==1.10.3) (1.0.1)\n",
      "Requirement already satisfied: cachetools<5.0,>=2.0.0 in /usr/local/lib/python3.7/dist-packages (from google-auth<2,>=1.6.3->tensorboard<2.2.0,>=2.1.0->tensorflow<2.2,>=2.1->rasa==1.10.3) (4.2.4)\n",
      "Requirement already satisfied: requests-oauthlib>=0.7.0 in /usr/local/lib/python3.7/dist-packages (from google-auth-oauthlib<0.5,>=0.4.1->tensorboard<2.2.0,>=2.1.0->tensorflow<2.2,>=2.1->rasa==1.10.3) (1.3.0)\n",
      "Requirement already satisfied: typing-extensions>=3.6.4 in /usr/local/lib/python3.7/dist-packages (from importlib-metadata->jsonpickle<1.5,>=1.3->rasa==1.10.3) (3.10.0.2)\n",
      "Requirement already satisfied: zipp>=0.5 in /usr/local/lib/python3.7/dist-packages (from importlib-metadata->jsonpickle<1.5,>=1.3->rasa==1.10.3) (3.6.0)\n",
      "Requirement already satisfied: oauthlib>=3.0.0 in /usr/local/lib/python3.7/dist-packages (from requests-oauthlib>=0.7.0->google-auth-oauthlib<0.5,>=0.4.1->tensorboard<2.2.0,>=2.1.0->tensorflow<2.2,>=2.1->rasa==1.10.3) (3.1.1)\n",
      "Requirement already satisfied: pysocks in /usr/local/lib/python3.7/dist-packages (from twilio<6.27,>=6.26->rasa==1.10.3) (1.7.1)\n",
      "Requirement already satisfied: future in /usr/local/lib/python3.7/dist-packages (from webexteamssdk<1.4.0,>=1.1.1->rasa==1.10.3) (0.16.0)\n",
      "Collecting requests-toolbelt\n",
      "  Downloading requests_toolbelt-0.9.1-py2.py3-none-any.whl (54 kB)\n",
      "\u001b[K     |████████████████████████████████| 54 kB 2.1 MB/s \n",
      "\u001b[?25hRequirement already satisfied: cffi>=1.12 in /usr/local/lib/python3.7/dist-packages (from cryptography->python-telegram-bot<13.0,>=11.1->rasa==1.10.3) (1.15.0)\n",
      "Requirement already satisfied: pycparser in /usr/local/lib/python3.7/dist-packages (from cffi>=1.12->cryptography->python-telegram-bot<13.0,>=11.1->rasa==1.10.3) (2.21)\n",
      "Building wheels for collected packages: absl-py, mattermostwrapper, sanic-jwt, gast, webexteamssdk\n",
      "  Building wheel for absl-py (setup.py) ... \u001b[?25l\u001b[?25hdone\n",
      "  Created wheel for absl-py: filename=absl_py-0.9.0-py3-none-any.whl size=121940 sha256=d6d39d423acc83a351a5215acb5aad45c8d2de58f8698b4f7ff7842a2ca29f75\n",
      "  Stored in directory: /root/.cache/pip/wheels/cc/af/1a/498a24d0730ef484019e007bb9e8cef3ac00311a672c049a3e\n",
      "  Building wheel for mattermostwrapper (setup.py) ... \u001b[?25l\u001b[?25hdone\n",
      "  Created wheel for mattermostwrapper: filename=mattermostwrapper-2.2-py3-none-any.whl size=2462 sha256=aa0ad535f2dfe10584af6f26b7db94c603093d9d41e5b12a66e5edd839a75088\n",
      "  Stored in directory: /root/.cache/pip/wheels/b9/70/77/6c3f3c9a6f096f765d0767b21e73598d66c3b79cb7b09b62ad\n",
      "  Building wheel for sanic-jwt (setup.py) ... \u001b[?25l\u001b[?25hdone\n",
      "  Created wheel for sanic-jwt: filename=sanic_jwt-1.4.1-py3-none-any.whl size=21614 sha256=14e036c43610512ffe3e610a33299e4fcaa09bb5e5b614224205da3226670665\n",
      "  Stored in directory: /root/.cache/pip/wheels/26/df/b1/f72efce63fe6e26b2bae666e1cae88c68c38d718dafb9183b0\n",
      "  Building wheel for gast (setup.py) ... \u001b[?25l\u001b[?25hdone\n",
      "  Created wheel for gast: filename=gast-0.2.2-py3-none-any.whl size=7554 sha256=703cc6a2699ac51bca9b29f889b45367935b07c122beba7fce6d615c8e5aa9b1\n",
      "  Stored in directory: /root/.cache/pip/wheels/21/7f/02/420f32a803f7d0967b48dd823da3f558c5166991bfd204eef3\n",
      "  Building wheel for webexteamssdk (setup.py) ... \u001b[?25l\u001b[?25hdone\n",
      "  Created wheel for webexteamssdk: filename=webexteamssdk-1.3-py3-none-any.whl size=99581 sha256=4f18054d0d50b971f4782b21420b734795d887ee4d7a40c473e82595a64c5cad\n",
      "  Stored in directory: /root/.cache/pip/wheels/08/88/4d/7fe6eec20e0658e8ad6edd9969d27114280780d7f4ef42e436\n",
      "Successfully built absl-py mattermostwrapper sanic-jwt gast webexteamssdk\n",
      "Installing collected packages: urllib3, hyperframe, hpack, sniffio, rfc3986, hstspreload, h2, h11, websockets, uvloop, ujson, numpy, multidict, httpx, httptools, aiofiles, sanic, jmespath, h5py, absl-py, yarl, tensorflow-estimator, tensorboard, sanic-plugins-framework, pytz, keras-preprocessing, keras-applications, humanfriendly, gast, botocore, attrs, async-timeout, tqdm, tensorflow, sanic-cors, s3transfer, ruamel.yaml.clib, requests-toolbelt, python-engineio, python-crfsuite, pymongo, PyJWT, prompt-toolkit, dnspython, cryptography, coloredlogs, aiohttp, webexteamssdk, twilio, terminaltables, tensorflow-probability, tensorflow-hub, tensorflow-addons, SQLAlchemy, slackclient, sklearn-crfsuite, scikit-learn, sanic-jwt, ruamel.yaml, rocketchat-API, redis, rasa-sdk, questionary, python-telegram-bot, python-socketio, pykwalify, pydot, psycopg2-binary, pika, packaging, networkx, mattermostwrapper, kafka-python, jsonschema, jsonpickle, gevent, fbmessenger, colorhash, colorclass, boto3, async-generator, apscheduler, rasa\n",
      "  Attempting uninstall: urllib3\n",
      "    Found existing installation: urllib3 1.24.3\n",
      "    Uninstalling urllib3-1.24.3:\n",
      "      Successfully uninstalled urllib3-1.24.3\n",
      "  Attempting uninstall: numpy\n",
      "    Found existing installation: numpy 1.19.5\n",
      "    Uninstalling numpy-1.19.5:\n",
      "      Successfully uninstalled numpy-1.19.5\n",
      "  Attempting uninstall: h5py\n",
      "    Found existing installation: h5py 3.1.0\n",
      "    Uninstalling h5py-3.1.0:\n",
      "      Successfully uninstalled h5py-3.1.0\n",
      "  Attempting uninstall: absl-py\n",
      "    Found existing installation: absl-py 0.12.0\n",
      "    Uninstalling absl-py-0.12.0:\n",
      "      Successfully uninstalled absl-py-0.12.0\n",
      "  Attempting uninstall: tensorflow-estimator\n",
      "    Found existing installation: tensorflow-estimator 2.7.0\n",
      "    Uninstalling tensorflow-estimator-2.7.0:\n",
      "      Successfully uninstalled tensorflow-estimator-2.7.0\n",
      "  Attempting uninstall: tensorboard\n",
      "    Found existing installation: tensorboard 2.7.0\n",
      "    Uninstalling tensorboard-2.7.0:\n",
      "      Successfully uninstalled tensorboard-2.7.0\n",
      "  Attempting uninstall: pytz\n",
      "    Found existing installation: pytz 2018.9\n",
      "    Uninstalling pytz-2018.9:\n",
      "      Successfully uninstalled pytz-2018.9\n",
      "  Attempting uninstall: keras-preprocessing\n",
      "    Found existing installation: Keras-Preprocessing 1.1.2\n",
      "    Uninstalling Keras-Preprocessing-1.1.2:\n",
      "      Successfully uninstalled Keras-Preprocessing-1.1.2\n",
      "  Attempting uninstall: gast\n",
      "    Found existing installation: gast 0.4.0\n",
      "    Uninstalling gast-0.4.0:\n",
      "      Successfully uninstalled gast-0.4.0\n",
      "  Attempting uninstall: attrs\n",
      "    Found existing installation: attrs 21.2.0\n",
      "    Uninstalling attrs-21.2.0:\n",
      "      Successfully uninstalled attrs-21.2.0\n",
      "  Attempting uninstall: tqdm\n",
      "    Found existing installation: tqdm 4.62.3\n",
      "    Uninstalling tqdm-4.62.3:\n",
      "      Successfully uninstalled tqdm-4.62.3\n",
      "  Attempting uninstall: tensorflow\n",
      "    Found existing installation: tensorflow 2.7.0\n",
      "    Uninstalling tensorflow-2.7.0:\n",
      "      Successfully uninstalled tensorflow-2.7.0\n",
      "  Attempting uninstall: pymongo\n",
      "    Found existing installation: pymongo 3.12.1\n",
      "    Uninstalling pymongo-3.12.1:\n",
      "      Successfully uninstalled pymongo-3.12.1\n",
      "  Attempting uninstall: prompt-toolkit\n",
      "    Found existing installation: prompt-toolkit 1.0.18\n",
      "    Uninstalling prompt-toolkit-1.0.18:\n",
      "      Successfully uninstalled prompt-toolkit-1.0.18\n",
      "  Attempting uninstall: tensorflow-probability\n",
      "    Found existing installation: tensorflow-probability 0.15.0\n",
      "    Uninstalling tensorflow-probability-0.15.0:\n",
      "      Successfully uninstalled tensorflow-probability-0.15.0\n",
      "  Attempting uninstall: tensorflow-hub\n",
      "    Found existing installation: tensorflow-hub 0.12.0\n",
      "    Uninstalling tensorflow-hub-0.12.0:\n",
      "      Successfully uninstalled tensorflow-hub-0.12.0\n",
      "  Attempting uninstall: SQLAlchemy\n",
      "    Found existing installation: SQLAlchemy 1.4.27\n",
      "    Uninstalling SQLAlchemy-1.4.27:\n",
      "      Successfully uninstalled SQLAlchemy-1.4.27\n",
      "  Attempting uninstall: scikit-learn\n",
      "    Found existing installation: scikit-learn 1.0.1\n",
      "    Uninstalling scikit-learn-1.0.1:\n",
      "      Successfully uninstalled scikit-learn-1.0.1\n",
      "  Attempting uninstall: pydot\n",
      "    Found existing installation: pydot 1.3.0\n",
      "    Uninstalling pydot-1.3.0:\n",
      "      Successfully uninstalled pydot-1.3.0\n",
      "  Attempting uninstall: packaging\n",
      "    Found existing installation: packaging 21.3\n",
      "    Uninstalling packaging-21.3:\n",
      "      Successfully uninstalled packaging-21.3\n",
      "  Attempting uninstall: networkx\n",
      "    Found existing installation: networkx 2.6.3\n",
      "    Uninstalling networkx-2.6.3:\n",
      "      Successfully uninstalled networkx-2.6.3\n",
      "  Attempting uninstall: jsonschema\n",
      "    Found existing installation: jsonschema 2.6.0\n",
      "    Uninstalling jsonschema-2.6.0:\n",
      "      Successfully uninstalled jsonschema-2.6.0\n",
      "\u001b[31mERROR: pip's dependency resolver does not currently take into account all the packages that are installed. This behaviour is the source of the following dependency conflicts.\n",
      "panel 0.12.1 requires tqdm>=4.48.0, but you have tqdm 4.45.0 which is incompatible.\n",
      "nbclient 0.5.9 requires jupyter-client>=6.1.5, but you have jupyter-client 5.3.5 which is incompatible.\n",
      "jupyter-console 5.2.0 requires prompt-toolkit<2.0.0,>=1.0.0, but you have prompt-toolkit 2.0.10 which is incompatible.\n",
      "ipython 5.5.0 requires prompt-toolkit<2.0.0,>=1.0.4, but you have prompt-toolkit 2.0.10 which is incompatible.\n",
      "imbalanced-learn 0.8.1 requires scikit-learn>=0.24, but you have scikit-learn 0.22.2.post1 which is incompatible.\n",
      "datascience 0.10.6 requires folium==0.2.1, but you have folium 0.8.3 which is incompatible.\n",
      "albumentations 0.1.12 requires imgaug<0.2.7,>=0.2.5, but you have imgaug 0.2.9 which is incompatible.\u001b[0m\n",
      "Successfully installed PyJWT-1.7.1 SQLAlchemy-1.3.24 absl-py-0.9.0 aiofiles-0.8.0 aiohttp-3.6.3 apscheduler-3.6.3 async-generator-1.10 async-timeout-3.0.1 attrs-19.3.0 boto3-1.20.26 botocore-1.23.26 colorclass-2.2.2 coloredlogs-10.0 colorhash-1.0.4 cryptography-36.0.1 dnspython-1.16.0 fbmessenger-6.0.0 gast-0.2.2 gevent-1.5.0 h11-0.8.1 h2-3.2.0 h5py-2.10.0 hpack-3.0.0 hstspreload-2021.12.1 httptools-0.3.0 httpx-0.9.3 humanfriendly-10.0 hyperframe-5.2.0 jmespath-0.10.0 jsonpickle-1.4.2 jsonschema-3.2.0 kafka-python-1.4.7 keras-applications-1.0.8 keras-preprocessing-1.1.0 mattermostwrapper-2.2 multidict-4.7.6 networkx-2.4 numpy-1.18.5 packaging-20.9 pika-1.1.0 prompt-toolkit-2.0.10 psycopg2-binary-2.8.6 pydot-1.4.2 pykwalify-1.7.0 pymongo-3.8.0 python-crfsuite-0.9.7 python-engineio-3.12.1 python-socketio-4.5.1 python-telegram-bot-12.8 pytz-2019.3 questionary-1.5.2 rasa-1.10.3 rasa-sdk-1.10.3 redis-3.5.3 requests-toolbelt-0.9.1 rfc3986-1.5.0 rocketchat-API-1.3.1 ruamel.yaml-0.16.13 ruamel.yaml.clib-0.2.6 s3transfer-0.5.0 sanic-19.12.2 sanic-cors-0.10.0.post3 sanic-jwt-1.4.1 sanic-plugins-framework-0.9.5 scikit-learn-0.22.2.post1 sklearn-crfsuite-0.3.6 slackclient-2.9.3 sniffio-1.2.0 tensorboard-2.1.1 tensorflow-2.1.4 tensorflow-addons-0.7.1 tensorflow-estimator-2.1.0 tensorflow-hub-0.8.0 tensorflow-probability-0.9.0 terminaltables-3.1.10 tqdm-4.45.0 twilio-6.26.3 ujson-2.0.3 urllib3-1.25.11 uvloop-0.16.0 webexteamssdk-1.3 websockets-8.1 yarl-1.5.1\n"
     ]
    },
    {
     "data": {
      "application/vnd.colab-display-data+json": {
       "pip_warning": {
        "packages": [
         "numpy",
         "prompt_toolkit",
         "pytz"
        ]
       }
      }
     },
     "metadata": {},
     "output_type": "display_data"
    }
   ],
   "source": [
    "!pip install rasa==1.10.3"
   ]
  },
  {
   "cell_type": "code",
   "execution_count": null,
   "metadata": {
    "colab": {
     "base_uri": "https://localhost:8080/"
    },
    "id": "8F3WMo8rMdki",
    "outputId": "c66b1bef-7b3b-4543-a26f-1ded8c9cf842"
   },
   "outputs": [
    {
     "name": "stdout",
     "output_type": "stream",
     "text": [
      "Collecting en_core_web_sm==2.2.5\n",
      "  Downloading https://github.com/explosion/spacy-models/releases/download/en_core_web_sm-2.2.5/en_core_web_sm-2.2.5.tar.gz (12.0 MB)\n",
      "\u001b[K     |████████████████████████████████| 12.0 MB 14.1 MB/s \n",
      "\u001b[?25hRequirement already satisfied: spacy>=2.2.2 in /usr/local/lib/python3.7/dist-packages (from en_core_web_sm==2.2.5) (2.2.4)\n",
      "Requirement already satisfied: wasabi<1.1.0,>=0.4.0 in /usr/local/lib/python3.7/dist-packages (from spacy>=2.2.2->en_core_web_sm==2.2.5) (0.8.2)\n",
      "Requirement already satisfied: cymem<2.1.0,>=2.0.2 in /usr/local/lib/python3.7/dist-packages (from spacy>=2.2.2->en_core_web_sm==2.2.5) (2.0.6)\n",
      "Requirement already satisfied: blis<0.5.0,>=0.4.0 in /usr/local/lib/python3.7/dist-packages (from spacy>=2.2.2->en_core_web_sm==2.2.5) (0.4.1)\n",
      "Requirement already satisfied: preshed<3.1.0,>=3.0.2 in /usr/local/lib/python3.7/dist-packages (from spacy>=2.2.2->en_core_web_sm==2.2.5) (3.0.6)\n",
      "Requirement already satisfied: srsly<1.1.0,>=1.0.2 in /usr/local/lib/python3.7/dist-packages (from spacy>=2.2.2->en_core_web_sm==2.2.5) (1.0.5)\n",
      "Requirement already satisfied: numpy>=1.15.0 in /usr/local/lib/python3.7/dist-packages (from spacy>=2.2.2->en_core_web_sm==2.2.5) (1.18.5)\n",
      "Requirement already satisfied: plac<1.2.0,>=0.9.6 in /usr/local/lib/python3.7/dist-packages (from spacy>=2.2.2->en_core_web_sm==2.2.5) (1.1.3)\n",
      "Requirement already satisfied: requests<3.0.0,>=2.13.0 in /usr/local/lib/python3.7/dist-packages (from spacy>=2.2.2->en_core_web_sm==2.2.5) (2.23.0)\n",
      "Requirement already satisfied: tqdm<5.0.0,>=4.38.0 in /usr/local/lib/python3.7/dist-packages (from spacy>=2.2.2->en_core_web_sm==2.2.5) (4.45.0)\n",
      "Requirement already satisfied: murmurhash<1.1.0,>=0.28.0 in /usr/local/lib/python3.7/dist-packages (from spacy>=2.2.2->en_core_web_sm==2.2.5) (1.0.6)\n",
      "Requirement already satisfied: thinc==7.4.0 in /usr/local/lib/python3.7/dist-packages (from spacy>=2.2.2->en_core_web_sm==2.2.5) (7.4.0)\n",
      "Requirement already satisfied: catalogue<1.1.0,>=0.0.7 in /usr/local/lib/python3.7/dist-packages (from spacy>=2.2.2->en_core_web_sm==2.2.5) (1.0.0)\n",
      "Requirement already satisfied: setuptools in /usr/local/lib/python3.7/dist-packages (from spacy>=2.2.2->en_core_web_sm==2.2.5) (57.4.0)\n",
      "Requirement already satisfied: importlib-metadata>=0.20 in /usr/local/lib/python3.7/dist-packages (from catalogue<1.1.0,>=0.0.7->spacy>=2.2.2->en_core_web_sm==2.2.5) (4.8.2)\n",
      "Requirement already satisfied: typing-extensions>=3.6.4 in /usr/local/lib/python3.7/dist-packages (from importlib-metadata>=0.20->catalogue<1.1.0,>=0.0.7->spacy>=2.2.2->en_core_web_sm==2.2.5) (3.10.0.2)\n",
      "Requirement already satisfied: zipp>=0.5 in /usr/local/lib/python3.7/dist-packages (from importlib-metadata>=0.20->catalogue<1.1.0,>=0.0.7->spacy>=2.2.2->en_core_web_sm==2.2.5) (3.6.0)\n",
      "Requirement already satisfied: certifi>=2017.4.17 in /usr/local/lib/python3.7/dist-packages (from requests<3.0.0,>=2.13.0->spacy>=2.2.2->en_core_web_sm==2.2.5) (2021.10.8)\n",
      "Requirement already satisfied: urllib3!=1.25.0,!=1.25.1,<1.26,>=1.21.1 in /usr/local/lib/python3.7/dist-packages (from requests<3.0.0,>=2.13.0->spacy>=2.2.2->en_core_web_sm==2.2.5) (1.25.11)\n",
      "Requirement already satisfied: idna<3,>=2.5 in /usr/local/lib/python3.7/dist-packages (from requests<3.0.0,>=2.13.0->spacy>=2.2.2->en_core_web_sm==2.2.5) (2.10)\n",
      "Requirement already satisfied: chardet<4,>=3.0.2 in /usr/local/lib/python3.7/dist-packages (from requests<3.0.0,>=2.13.0->spacy>=2.2.2->en_core_web_sm==2.2.5) (3.0.4)\n",
      "\u001b[38;5;2m✔ Download and installation successful\u001b[0m\n",
      "You can now load the model via spacy.load('en_core_web_sm')\n",
      "\u001b[38;5;2m✔ Linking successful\u001b[0m\n",
      "/usr/local/lib/python3.7/dist-packages/en_core_web_sm -->\n",
      "/usr/local/lib/python3.7/dist-packages/spacy/data/en\n",
      "You can now load the model via spacy.load('en')\n"
     ]
    }
   ],
   "source": [
    "!python -m spacy download en"
   ]
  },
  {
   "cell_type": "code",
   "execution_count": null,
   "metadata": {
    "colab": {
     "base_uri": "https://localhost:8080/"
    },
    "id": "tA_EsnWdMrI5",
    "outputId": "7a9b9061-399a-4193-9cfd-56d48f6a2619"
   },
   "outputs": [
    {
     "name": "stdout",
     "output_type": "stream",
     "text": [
      "Collecting nest_asyncio==1.3.3\n",
      "  Downloading nest_asyncio-1.3.3-py3-none-any.whl (4.7 kB)\n",
      "Installing collected packages: nest-asyncio\n",
      "  Attempting uninstall: nest-asyncio\n",
      "    Found existing installation: nest-asyncio 1.5.4\n",
      "    Uninstalling nest-asyncio-1.5.4:\n",
      "      Successfully uninstalled nest-asyncio-1.5.4\n",
      "\u001b[31mERROR: pip's dependency resolver does not currently take into account all the packages that are installed. This behaviour is the source of the following dependency conflicts.\n",
      "nbclient 0.5.9 requires jupyter-client>=6.1.5, but you have jupyter-client 5.3.5 which is incompatible.\u001b[0m\n",
      "Successfully installed nest-asyncio-1.3.3\n"
     ]
    }
   ],
   "source": [
    "!pip install nest_asyncio==1.3.3"
   ]
  },
  {
   "cell_type": "code",
   "execution_count": null,
   "metadata": {
    "colab": {
     "base_uri": "https://localhost:8080/"
    },
    "id": "2P58SqcqMrLu",
    "outputId": "fe59b406-f76f-4b3a-9e9c-9b54d0593074"
   },
   "outputs": [
    {
     "name": "stdout",
     "output_type": "stream",
     "text": [
      "event loop ready\n"
     ]
    }
   ],
   "source": [
    "import os\n",
    "import rasa \n",
    "import nest_asyncio\n",
    "\n",
    "nest_asyncio.apply()\n",
    "\n",
    "print(\"event loop ready\")"
   ]
  },
  {
   "cell_type": "code",
   "execution_count": null,
   "metadata": {
    "id": "mI4l8D5PMrOt"
   },
   "outputs": [],
   "source": [
    "from rasa.cli.scaffold import create_initial_project"
   ]
  },
  {
   "cell_type": "code",
   "execution_count": null,
   "metadata": {
    "id": "-MbVQwA0MrRO"
   },
   "outputs": [],
   "source": [
    "project = 'test_project'\n",
    "create_initial_project(project)"
   ]
  },
  {
   "cell_type": "code",
   "execution_count": null,
   "metadata": {
    "colab": {
     "base_uri": "https://localhost:8080/"
    },
    "id": "gpkB4eA6MymS",
    "outputId": "8a4984be-d679-44b0-ba4a-1e163d965f6c"
   },
   "outputs": [
    {
     "name": "stdout",
     "output_type": "stream",
     "text": [
      "['__pycache__', 'tests', 'credentials.yml', 'actions.py', 'endpoints.yml', 'data', '__init__.py', 'domain.yml', 'config.yml']\n"
     ]
    }
   ],
   "source": [
    "os.chdir(project)\n",
    "print(os.listdir(\".\"))"
   ]
  },
  {
   "cell_type": "code",
   "execution_count": null,
   "metadata": {
    "colab": {
     "base_uri": "https://localhost:8080/"
    },
    "id": "uH9Tsa95Myoe",
    "outputId": "71d1e8cc-91e8-4a11-d039-98a9df38a176"
   },
   "outputs": [
    {
     "name": "stdout",
     "output_type": "stream",
     "text": [
      "config.yml data/ domain.yml models/\n"
     ]
    }
   ],
   "source": [
    "config = \"config.yml\"\n",
    "training_files = \"data/\"\n",
    "domain = \"domain.yml\"\n",
    "output = \"models/\"\n",
    "\n",
    "print(config, training_files, domain, output)"
   ]
  },
  {
   "cell_type": "code",
   "execution_count": null,
   "metadata": {
    "colab": {
     "base_uri": "https://localhost:8080/"
    },
    "id": "6JGki_GjM2r3",
    "outputId": "eb5f50f7-faa1-488e-9d8d-3b436e004cee"
   },
   "outputs": [
    {
     "name": "stdout",
     "output_type": "stream",
     "text": [
      "\u001b[94mTraining Core model...\u001b[0m\n"
     ]
    },
    {
     "name": "stderr",
     "output_type": "stream",
     "text": [
      "Processed Story Blocks: 100%|██████████| 5/5 [00:00<00:00, 463.92it/s, # trackers=1]\n",
      "Processed Story Blocks: 100%|██████████| 5/5 [00:00<00:00, 237.11it/s, # trackers=5]\n",
      "Processed Story Blocks: 100%|██████████| 5/5 [00:00<00:00, 166.69it/s, # trackers=20]\n",
      "Processed Story Blocks: 100%|██████████| 5/5 [00:00<00:00, 137.28it/s, # trackers=24]\n",
      "Processed trackers: 100%|██████████| 5/5 [00:00<00:00, 173.75it/s, # actions=16]\n",
      "Processed actions: 16it [00:00, 990.70it/s, # examples=16]\n",
      "Processed trackers: 100%|██████████| 231/231 [00:03<00:00, 62.55it/s, # actions=126]\n",
      "Epochs:   0%|          | 0/100 [00:00<?, ?it/s]/usr/local/lib/python3.7/dist-packages/rasa/utils/tensorflow/model_data.py:386: VisibleDeprecationWarning: Creating an ndarray from ragged nested sequences (which is a list-or-tuple of lists-or-tuples-or ndarrays with different lengths or shapes) is deprecated. If you meant to do this, you must specify 'dtype=object' when creating the ndarray\n",
      "  final_data[k].append(np.concatenate(np.array(v)))\n",
      "Epochs: 100%|██████████| 100/100 [00:11<00:00,  9.00it/s, t_loss=0.093, loss=0.022, acc=1.000]\n"
     ]
    },
    {
     "name": "stdout",
     "output_type": "stream",
     "text": [
      "\u001b[94mCore model training completed.\u001b[0m\n",
      "\u001b[94mTraining NLU model...\u001b[0m\n"
     ]
    },
    {
     "name": "stderr",
     "output_type": "stream",
     "text": [
      "\u001b[93m/usr/local/lib/python3.7/dist-packages/rasa/utils/common.py:363: UserWarning: You specified 'DIET' to train entities, but no entities are present in the training data. Skip training of entities.\n",
      "Epochs:   0%|          | 0/100 [00:00<?, ?it/s]/usr/local/lib/python3.7/dist-packages/rasa/utils/tensorflow/model_data.py:386: VisibleDeprecationWarning: Creating an ndarray from ragged nested sequences (which is a list-or-tuple of lists-or-tuples-or ndarrays with different lengths or shapes) is deprecated. If you meant to do this, you must specify 'dtype=object' when creating the ndarray\n",
      "  final_data[k].append(np.concatenate(np.array(v)))\n",
      "Epochs: 100%|██████████| 100/100 [00:12<00:00,  7.72it/s, t_loss=1.575, i_loss=0.191, i_acc=1.000]\n"
     ]
    },
    {
     "name": "stdout",
     "output_type": "stream",
     "text": [
      "\u001b[94mNLU model training completed.\u001b[0m\n",
      "\u001b[92mYour Rasa model is trained and saved at '/content/test_project/models/20211227-092530.tar.gz'.\u001b[0m\n",
      "models/20211227-092530.tar.gz\n"
     ]
    }
   ],
   "source": [
    "model_path = rasa.train(domain, config, [training_files], output)\n",
    "print(model_path)"
   ]
  },
  {
   "cell_type": "code",
   "execution_count": null,
   "metadata": {
    "colab": {
     "base_uri": "https://localhost:8080/"
    },
    "id": "vTwMGUJ4M2uu",
    "outputId": "8f334a6b-7960-4d3b-8322-e3ce4e161394"
   },
   "outputs": [
    {
     "name": "stdout",
     "output_type": "stream",
     "text": [
      "Your bot is ready to talk! Type your messages here or send '/stop'.\n",
      "hi\n",
      "\u001b[92mHey! How are you?\u001b[0m\n",
      "/stop\n"
     ]
    }
   ],
   "source": [
    "from rasa.jupyter import chat\n",
    "\n",
    "endpoints = 'endpoints.yml'\n",
    "\n",
    "chat(model_path, endpoints)"
   ]
  },
  {
   "cell_type": "code",
   "execution_count": null,
   "metadata": {
    "id": "FWqf6OxKM5yX"
   },
   "outputs": [],
   "source": []
  },
  {
   "cell_type": "code",
   "execution_count": null,
   "metadata": {
    "colab": {
     "base_uri": "https://localhost:8080/"
    },
    "id": "BHo2nV8CM51G",
    "outputId": "ecba1b43-947b-4ed1-c18d-d64c245bd182"
   },
   "outputs": [
    {
     "name": "stdout",
     "output_type": "stream",
     "text": [
      "Overwriting data/nlu.md\n"
     ]
    }
   ],
   "source": [
    "%%writefile data/nlu.md\n",
    "\n",
    "\n",
    "## intent check_in\n",
    "- What are your check-in timings?\n",
    "- check-in timings of your hotel is?\n",
    "- can you tell me the check-in timing of your hotel?\n",
    "- Is there any check-in timing of hotel?\n",
    "\n",
    "## intent:check_out\n",
    "- What are your check-out timings?\n",
    "- check-out timings of your hotel is?\n",
    "- can you tell me the check-out timing of your hotel?\n",
    "- Is there any check-out timing of hotel?\n",
    "\n",
    "## intent:cancel_resr\n",
    "- How do I cancle a reservation?\n",
    "- Procedure of cancle a hotel?\n",
    "- Please cancle my reservation.\n",
    "- Can you please cancle my reservation?\n",
    "\n",
    "## intent: can_policy\n",
    "- What is your cancellation policy?\n",
    "- Can you tell me about the cancellation policy of your hotel?\n",
    "- Cancellation policy of your hotel?\n",
    "- Is there any cancellation policy of your hotel?\n",
    "- Cancellation policy of your hotel?\n",
    "\n",
    "## intent: restaurant\n",
    "- Does the hotel have a restaurant\n",
    "- Is there any restaurant\n",
    "- Any facilities of restaurant in hotel?\n",
    "- Any restaurant in hotel?\n",
    "- did any restaurant in hotel ?\n",
    "\n",
    "## intent: breakfast\n",
    "- Does the hotel offer breakfast ?\n",
    "- Any idea about breakfast offer by hotel?\n",
    "- Any complementary breakfast offer by hotel?\n",
    "- Breakfast offer by hotel?\n",
    "- Breakfast provided by hotel?\n",
    "\n",
    "## intent:break_time\n",
    "- What are the breakfast timings?\n",
    "- Is there any breakfast timings?\n",
    "- Can you tell me the breakfast timing of hotel?\n",
    "- breakfast timings?\n",
    "- What is the breakfast timings of the hotel?\n",
    "\n",
    "## intent: rest_time:\n",
    "- What are the timings of your restaurant?\n",
    "- Is there any timing of your restaurant ?\n",
    "- timings of your restaurant ?\n",
    "- Can you tell me the restaurant timing of your hotel?\n",
    "\n",
    "## intent:clean_now\n",
    "- can you send someone right now for cleaning\n",
    "- send someone right now\n",
    "- right now please\n",
    "- i prefer right now\n",
    "- please clean my room rightnow.\n",
    "\n",
    "## intent:clean\n",
    "- i want to clean my room\n",
    "- can you send somebody to clean my room\n",
    "- can you send room serive to clean my room\n",
    "- send someone to clean my room\n",
    "\n",
    "\n",
    "## intent:deluxe\n",
    "- i need deluxe room\n",
    "- i want deluxe room\n",
    "- deluxe room\n",
    "- i am looking for deluxe room\n",
    "- can i get the deluxe rooms\n",
    "\n",
    "## intent:simple\n",
    "- i need simple room\n",
    "- i want simple room\n",
    "- simple room\n",
    "- i am looking for simple room\n",
    "- can i get the simple rooms\n",
    "\n",
    "## intent:num_room\n",
    "\n",
    "- I need [2](number) rooms\n",
    "- is [2](number) room available\n",
    "- [4](number) rooms\n",
    "- can i get the [3](number) rooms\n",
    "- I want [3](number) rooms.\n",
    "\n",
    "## intent:book_room\n",
    "- I want to book a room\n",
    "- I need a room.\n",
    "- I am looking for a room.\n",
    "- is room empty.\n",
    "- book a room for a night.\n",
    "\n",
    "\n",
    "## intent:greet\n",
    "- hey\n",
    "- hello\n",
    "- hi\n",
    "- good morning\n",
    "- good evening\n",
    "- hey there\n",
    "\n",
    "## intent:goodbye\n",
    "- bye\n",
    "- goodbye\n",
    "- see you around\n",
    "- see you later\n",
    "\n",
    "## intent:affirm\n",
    "- yes\n",
    "- indeed\n",
    "- of course\n",
    "- that sounds good\n",
    "- correct\n",
    "\n",
    "## intent:deny\n",
    "- no\n",
    "- never\n",
    "- I don't think so\n",
    "- don't like that\n",
    "- no way\n",
    "- not really\n",
    "\n",
    "## intent:mood_great\n",
    "- perfect\n",
    "- very good\n",
    "- great\n",
    "- amazing\n",
    "- wonderful\n",
    "- I am feeling very good\n",
    "- I am great\n",
    "- I'm good\n",
    "\n",
    "## intent:mood_unhappy\n",
    "- sad\n",
    "- very sad\n",
    "- unhappy\n",
    "- bad\n",
    "- very bad\n",
    "- awful\n",
    "- terrible\n",
    "- not very good\n",
    "- extremely sad\n",
    "- so sad\n",
    "\n",
    "## intent:bot_challenge\n",
    "- are you a bot?\n",
    "- are you a human?\n",
    "- am I talking to a bot?\n",
    "- am I talking to a human?\n"
   ]
  },
  {
   "cell_type": "code",
   "execution_count": null,
   "metadata": {
    "colab": {
     "base_uri": "https://localhost:8080/"
    },
    "id": "rHwdxhJ_Myrw",
    "outputId": "b672418b-930d-48a4-ab34-9ef59775ae52"
   },
   "outputs": [
    {
     "name": "stdout",
     "output_type": "stream",
     "text": [
      "Overwriting domain.yml\n"
     ]
    }
   ],
   "source": [
    "%%writefile domain.yml\n",
    "\n",
    "intents:\n",
    "  - greet\n",
    "  - goodbye\n",
    "  - affirm\n",
    "  - deny\n",
    "  - mood_great\n",
    "  - mood_unhappy\n",
    "  - bot_challenge\n",
    "  - buy\n",
    "  - book_room\n",
    "  - num_room\n",
    "  - simple\n",
    "  - deluxe\n",
    "  - clean\n",
    "  - clean_now\n",
    "  - check_in\n",
    "  - check_out\n",
    "  - cancel_resr\n",
    "  - can_policy\n",
    "  - restaurant\n",
    "  - breakfast\n",
    "  - break_time\n",
    "  - rest_time\n",
    "\n",
    "entities:\n",
    "  - number\n",
    "\n",
    "responses:\n",
    "\n",
    "  utter_can_policy:\n",
    "  - text: \"The booking deposit is refundable if the cancellation occurs at least 15 days before arrival. For cancellations made after this limit.\"\n",
    "\n",
    "  utter_restaurant:\n",
    "  - text: \"Yes, the hotel has a restaurant called the Inno Bar, with our menu we strive to reflect the historic art and the spirit of our neighborhood.\"\n",
    "\n",
    "  utter_breakfast:\n",
    "  - text: \"The hotel provides its guests with a free made-to-order breakfast each morning.\"\n",
    "\n",
    "  utter_break_time:\n",
    "  - text: \"Monday through Friday breakfast is 6 AM to 9 AM . On Saturday and Sunday, we are open from 7:AM to 10:30 AM.\"\n",
    "\n",
    "  utter_rest_time:\n",
    "  - text: \"Our restaurant serves a dazzing 24-hour menu\"\n",
    "\n",
    "  utter_check_in:\n",
    "  - text: \"Check-in time starts at 4 PM. Minimum  check-in age is 21. Please contact the reception for early check-in requests.\"\n",
    "\n",
    "  utter_check_out:\n",
    "  - text: \"Check-out time is 11 AM, please contact the reception for late checkout request\"\n",
    "\n",
    "  utter_cancel_resr:\n",
    "  - text: \"To cancle a reservation, select the 'Reservations' link from the homepage\"\n",
    "\n",
    "  utter_clean_now:\n",
    "  - text: \"Sure, I will send someone to your room right now.\"\n",
    "\n",
    "  utter_clean:\n",
    "  - text: \"When should i arrange the cleaning?\"\n",
    "\n",
    "  utter_deluxe:\n",
    "  - text: \"You hav choosen to book a deluxe rooms.\"\n",
    "\n",
    "  utter_simple:\n",
    "  - text: \"You hav choosen to book a simple rooms.\"\n",
    "\n",
    "\n",
    "  utter_num_room:\n",
    "  - text: \"What type of room would you want to book - simple room or deluxe room ?\"\n",
    "\n",
    "\n",
    "  utter_book_room:\n",
    "  - text: \"How many room would you like to book?\"\n",
    "\n",
    "  utter_greet:\n",
    "  - text: \"Hey! How are you?\"\n",
    "\n",
    "  utter_cheer_up:\n",
    "  - text: \"Here is something to cheer you up:\"\n",
    "    image: \"https://i.imgur.com/nGF1K8f.jpg\"\n",
    "\n",
    "  utter_did_that_help:\n",
    "  - text: \"Did that help you?\"\n",
    "\n",
    "  utter_happy:\n",
    "  - text: \"Great, carry on!\"\n",
    "\n",
    "  utter_goodbye:\n",
    "  - text: \"Bye\"\n",
    "\n",
    "  utter_iamabot:\n",
    "  - text: \"I am a bot, powered by Rasa.\"\n",
    "\n",
    "session_config:\n",
    "  session_expiration_time: 60\n",
    "  carry_over_slots_to_new_session: True\n"
   ]
  },
  {
   "cell_type": "code",
   "execution_count": null,
   "metadata": {
    "colab": {
     "base_uri": "https://localhost:8080/"
    },
    "id": "UbGqxTyePNUd",
    "outputId": "fd4e6034-5d6a-4ed1-de46-0e5bdd9cacb1"
   },
   "outputs": [
    {
     "name": "stdout",
     "output_type": "stream",
     "text": [
      "Overwriting data/stories.md\n"
     ]
    }
   ],
   "source": [
    "%%writefile data/stories.md\n",
    "\n",
    "## check in\n",
    "* greet\n",
    "  - utter_greet\n",
    "* check_in\n",
    "  - utter_check_in\n",
    "\n",
    "## check in\n",
    "* greet\n",
    "  - utter_greet\n",
    "* check_in\n",
    "  - utter_check_out\n",
    "\n",
    "## cancle reservation\n",
    "* greet\n",
    "  - utter_greet\n",
    "* cancel_resr\n",
    "  - utter_cancel_resr\n",
    "\n",
    "## policy\n",
    "* greet\n",
    "  - utter_greet\n",
    "* can_policy\n",
    "  - utter_can_policy\n",
    "\n",
    "## restaurant details\n",
    "* greet\n",
    "  - utter_greet\n",
    "* restaurant\n",
    "  - utter_restaurant\n",
    "\n",
    "## breakfast\n",
    "* greet\n",
    "  - utter_greet\n",
    "* breakfast\n",
    "  - utter_breakfast\n",
    "\n",
    "## breakfast timing\n",
    "* greet \n",
    "  - utter_greet\n",
    "* break_time\n",
    "  - utter_break_time\n",
    "\n",
    "## restaurant timings\n",
    "* greet\n",
    "  - utter_greet\n",
    "* rest_time\n",
    "  - utter_rest_time\n",
    "\n",
    "## clean my room\n",
    "* greet\n",
    "  - utter_greet\n",
    "* clean\n",
    "  - utter_clean\n",
    "* clean_now\n",
    "  - utter_clean\n",
    "\n",
    "## booking simple room\n",
    "* greet\n",
    "  - utter_greet\n",
    "* book_room\n",
    "  - utter_book_room\n",
    "* num_room\n",
    "  - utter_num_room\n",
    "* simple\n",
    "  - utter_simple\n",
    "\n",
    "## booking deluxe room\n",
    "* greet\n",
    "  - utter_greet\n",
    "* book_room\n",
    "  - utter_book_room\n",
    "* num_room\n",
    "  - utter_num_room\n",
    "* duluxe\n",
    "  - utter_deluxe\n",
    "\n",
    "\n",
    "## happy path\n",
    "* greet\n",
    "  - utter_greet\n",
    "* mood_great\n",
    "  - utter_happy\n",
    "\n",
    "## sad path 1\n",
    "* greet\n",
    "  - utter_greet\n",
    "* mood_unhappy\n",
    "  - utter_cheer_up\n",
    "  - utter_did_that_help\n",
    "* affirm\n",
    "  - utter_happy\n",
    "\n",
    "## sad path 2\n",
    "* greet\n",
    "  - utter_greet\n",
    "* mood_unhappy\n",
    "  - utter_cheer_up\n",
    "  - utter_did_that_help\n",
    "* deny\n",
    "  - utter_goodbye\n",
    "\n",
    "## say goodbye\n",
    "* goodbye\n",
    "  - utter_goodbye\n",
    "\n",
    "## bot challenge\n",
    "* bot_challenge\n",
    "  - utter_iamabot\n"
   ]
  },
  {
   "cell_type": "code",
   "execution_count": null,
   "metadata": {
    "colab": {
     "base_uri": "https://localhost:8080/"
    },
    "id": "KhAexMbiRjh8",
    "outputId": "08189df3-6104-44f1-a264-2c82b6d9e554"
   },
   "outputs": [
    {
     "name": "stderr",
     "output_type": "stream",
     "text": [
      "\u001b[93m/usr/local/lib/python3.7/dist-packages/rasa/core/training/dsl.py:431: UserWarning: Found unknown intent 'duluxe' on line 75. Please, make sure that all intents are listed in your domain yaml.\n",
      "  docs=DOCS_URL_DOMAINS,\n",
      "Processed Story Blocks: 100%|██████████| 16/16 [00:00<00:00, 515.01it/s, # trackers=1]\n",
      "Processed Story Blocks:   0%|          | 0/16 [00:00<?, ?it/s, # trackers=16]"
     ]
    },
    {
     "name": "stdout",
     "output_type": "stream",
     "text": [
      "\u001b[94mTraining Core model...\u001b[0m\n"
     ]
    },
    {
     "name": "stderr",
     "output_type": "stream",
     "text": [
      "Processed Story Blocks: 100%|██████████| 16/16 [00:00<00:00, 220.11it/s, # trackers=16]\n",
      "Processed Story Blocks: 100%|██████████| 16/16 [00:00<00:00, 111.43it/s, # trackers=42]\n",
      "Processed Story Blocks: 100%|██████████| 16/16 [00:00<00:00, 101.74it/s, # trackers=37]\n",
      "Processed trackers: 100%|██████████| 16/16 [00:00<00:00, 166.25it/s, # actions=44]\n",
      "Processed actions: 44it [00:00, 878.24it/s, # examples=42]\n",
      "Processed trackers: 100%|██████████| 516/516 [00:09<00:00, 52.79it/s, # actions=506]\n",
      "Epochs:   0%|          | 0/100 [00:00<?, ?it/s]/usr/local/lib/python3.7/dist-packages/rasa/utils/tensorflow/model_data.py:386: VisibleDeprecationWarning: Creating an ndarray from ragged nested sequences (which is a list-or-tuple of lists-or-tuples-or ndarrays with different lengths or shapes) is deprecated. If you meant to do this, you must specify 'dtype=object' when creating the ndarray\n",
      "  final_data[k].append(np.concatenate(np.array(v)))\n",
      "Epochs: 100%|██████████| 100/100 [00:46<00:00,  2.13it/s, t_loss=0.374, loss=0.262, acc=0.982]\n"
     ]
    },
    {
     "name": "stdout",
     "output_type": "stream",
     "text": [
      "\u001b[94mCore model training completed.\u001b[0m\n",
      "\u001b[94mTraining NLU model...\u001b[0m\n"
     ]
    },
    {
     "name": "stderr",
     "output_type": "stream",
     "text": [
      "/usr/local/lib/python3.7/dist-packages/rasa/nlu/classifiers/diet_classifier.py:595: VisibleDeprecationWarning: Creating an ndarray from ragged nested sequences (which is a list-or-tuple of lists-or-tuples-or ndarrays with different lengths or shapes) is deprecated. If you meant to do this, you must specify 'dtype=object' when creating the ndarray\n",
      "  for tag_name, tag_ids in tag_name_to_tag_ids.items()\n",
      "Epochs:   0%|          | 0/100 [00:00<?, ?it/s]/usr/local/lib/python3.7/dist-packages/rasa/utils/tensorflow/model_data.py:386: VisibleDeprecationWarning: Creating an ndarray from ragged nested sequences (which is a list-or-tuple of lists-or-tuples-or ndarrays with different lengths or shapes) is deprecated. If you meant to do this, you must specify 'dtype=object' when creating the ndarray\n",
      "  final_data[k].append(np.concatenate(np.array(v)))\n",
      "Epochs: 100%|██████████| 100/100 [00:36<00:00,  2.71it/s, t_loss=3.012, i_loss=1.325, entity_loss=0.010, i_acc=0.981, entity_f1=0.921]\n"
     ]
    },
    {
     "name": "stdout",
     "output_type": "stream",
     "text": [
      "\u001b[94mNLU model training completed.\u001b[0m\n",
      "\u001b[92mYour Rasa model is trained and saved at '/content/test_project/models/20211227-102200.tar.gz'.\u001b[0m\n",
      "models/20211227-102200.tar.gz\n"
     ]
    }
   ],
   "source": [
    "model_path = rasa.train(domain, config, [training_files], output)\n",
    "print(model_path)"
   ]
  },
  {
   "cell_type": "code",
   "execution_count": null,
   "metadata": {
    "colab": {
     "base_uri": "https://localhost:8080/"
    },
    "id": "WWk0uDw4R1RV",
    "outputId": "10c8f70e-59f7-4d94-bcdd-94caca650835"
   },
   "outputs": [
    {
     "name": "stdout",
     "output_type": "stream",
     "text": [
      "Your bot is ready to talk! Type your messages here or send '/stop'.\n",
      "hi\n",
      "\u001b[92mHey! How are you?\u001b[0m\n",
      "i want a room\n",
      "\u001b[92mHow many room would you like to book?\u001b[0m\n",
      "2\n",
      "\u001b[92mWhat type of room would you want to book - simple room or deluxe room ?\u001b[0m\n",
      "deluxe\n",
      "\u001b[92mYou hav choosen to book a deluxe rooms.\u001b[0m\n",
      "y\n",
      "\u001b[92mBye\u001b[0m\n",
      "yes\n",
      "\u001b[92mGreat, carry on!\u001b[0m\n",
      "clean\n",
      "\u001b[92mWhen should i arrange the cleaning?\u001b[0m\n",
      "/stop\n"
     ]
    }
   ],
   "source": [
    "from rasa.jupyter import chat\n",
    "\n",
    "endpoints = 'endpoints.yml'\n",
    "\n",
    "chat(model_path, endpoints)"
   ]
  },
  {
   "cell_type": "code",
   "execution_count": null,
   "metadata": {
    "colab": {
     "base_uri": "https://localhost:8080/"
    },
    "id": "R6MpQ-ElabLf",
    "outputId": "45cf7b6f-18a4-4bbd-b9ff-d8d0068afc37"
   },
   "outputs": [
    {
     "name": "stdout",
     "output_type": "stream",
     "text": [
      "/tmp/tmpzk123t_h /tmp/tmp_9mnnqh0\n"
     ]
    }
   ],
   "source": [
    "import rasa.data as data\n",
    "\n",
    "stories_directory, nlu_directory = data.get_core_nlu_directories(training_files)\n",
    "\n",
    "print(stories_directory, nlu_directory)"
   ]
  },
  {
   "cell_type": "code",
   "execution_count": null,
   "metadata": {
    "colab": {
     "base_uri": "https://localhost:8080/",
     "height": 1000
    },
    "id": "pyfZJW6Wg6oI",
    "outputId": "f3e0b729-622b-434f-880c-3b9cb1cb9576"
   },
   "outputs": [
    {
     "name": "stderr",
     "output_type": "stream",
     "text": [
      "\u001b[93m/usr/local/lib/python3.7/dist-packages/rasa/core/training/dsl.py:431: UserWarning: Found unknown intent 'duluxe' on line 75. Please, make sure that all intents are listed in your domain yaml.\n",
      "  docs=DOCS_URL_DOMAINS,\n",
      "Processed Story Blocks: 100%|██████████| 16/16 [00:00<00:00, 353.99it/s, # trackers=1]\n",
      "100%|██████████| 16/16 [00:00<00:00, 118.31it/s]\n",
      "100%|██████████| 103/103 [00:00<00:00, 113.20it/s]\n"
     ]
    },
    {
     "name": "stdout",
     "output_type": "stream",
     "text": [
      "Done testing..\n"
     ]
    },
    {
     "data": {
      "image/png": "[encoded data removed]",
      "text/plain": [
       "<Figure size 1440x1440 with 2 Axes>"
      ]
     },
     "metadata": {
      "needs_background": "light"
     },
     "output_type": "display_data"
    }
   ],
   "source": [
    "rasa.test(model_path, stories_directory, nlu_directory)\n",
    "\n",
    "print(\"Done testing..\")"
   ]
  },
  {
   "cell_type": "code",
   "execution_count": null,
   "metadata": {
    "id": "2ixjmaUBhG-X"
   },
   "outputs": [],
   "source": []
  }
 ],
 "metadata": {
  "colab": {
   "name": "Hotel_chatbot.ipynb",
   "provenance": []
  },
  "kernelspec": {
   "display_name": "Python 3",
   "language": "python",
   "name": "python3"
  },
  "language_info": {
   "codemirror_mode": {
    "name": "ipython",
    "version": 3
   },
   "file_extension": ".py",
   "mimetype": "text/x-python",
   "name": "python",
   "nbconvert_exporter": "python",
   "pygments_lexer": "ipython3",
   "version": "3.8.8"
  }
 },
 "nbformat": 4,
 "nbformat_minor": 1
}
